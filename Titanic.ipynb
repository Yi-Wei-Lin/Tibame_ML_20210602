{
  "nbformat": 4,
  "nbformat_minor": 0,
  "metadata": {
    "colab": {
      "name": "Titanic.ipynb",
      "provenance": [],
      "authorship_tag": "ABX9TyNUX3TqLN+0qkSBCDWraPmW",
      "include_colab_link": true
    },
    "kernelspec": {
      "name": "python3",
      "display_name": "Python 3"
    },
    "language_info": {
      "name": "python"
    }
  },
  "cells": [
    {
      "cell_type": "markdown",
      "metadata": {
        "id": "view-in-github",
        "colab_type": "text"
      },
      "source": [
        "<a href=\"https://colab.research.google.com/github/Yi-Wei-Lin/Tibame_ML_20210602/blob/main/Titanic.ipynb\" target=\"_parent\"><img src=\"https://colab.research.google.com/assets/colab-badge.svg\" alt=\"Open In Colab\"/></a>"
      ]
    },
    {
      "cell_type": "code",
      "metadata": {
        "colab": {
          "base_uri": "https://localhost:8080/"
        },
        "id": "1qYPUeYlo1uO",
        "outputId": "60da2029-4eb2-475d-8207-3664bc33d004"
      },
      "source": [
        "from urllib.request import urlretrieve\n",
        "url = \"https://github.com/Elwing-Chou/ml0602/raw/main/titanic/train.csv\"\n",
        "urlretrieve(url, \"train.csv\")\n",
        "url = \"https://github.com/Elwing-Chou/ml0602/raw/main/titanic/test.csv\"\n",
        "urlretrieve(url, \"test.csv\")"
      ],
      "execution_count": 18,
      "outputs": [
        {
          "output_type": "execute_result",
          "data": {
            "text/plain": [
              "('test.csv', <http.client.HTTPMessage at 0x7f391deb3550>)"
            ]
          },
          "metadata": {
            "tags": []
          },
          "execution_count": 18
        }
      ]
    },
    {
      "cell_type": "code",
      "metadata": {
        "id": "Fwjg6LW_psMI"
      },
      "source": [
        "import pandas as pd\n",
        "train_df = pd.read_csv(\"train.csv\", encoding=\"utf-8\")\n",
        "test_df = pd.read_csv(\"test.csv\", encoding=\"utf-8\")"
      ],
      "execution_count": 19,
      "outputs": []
    },
    {
      "cell_type": "code",
      "metadata": {
        "id": "srHXxbhfqIhX"
      },
      "source": [
        "data = pd.concat([train_df, test_df], ignore_index=True)\n",
        "data = data.drop([\"PassengerId\", \"Survived\"], axis=1)\n",
        "data"
      ],
      "execution_count": null,
      "outputs": []
    },
    {
      "cell_type": "code",
      "metadata": {
        "colab": {
          "base_uri": "https://localhost:8080/"
        },
        "id": "dF6du8SvQKrp",
        "outputId": "01657d2a-b24f-4352-a3b3-2887b1398812"
      },
      "source": [
        "na = data.isna().sum()\n",
        "# Series[帶入跟你的資料筆數一樣多True/False list]\n",
        "# na[na>0] 是篩選操作\n",
        "na[na>0].sort_values(ascending=False) # ascending=False 降序 True 升序"
      ],
      "execution_count": 21,
      "outputs": [
        {
          "output_type": "execute_result",
          "data": {
            "text/plain": [
              "Cabin       1014\n",
              "Age          263\n",
              "Embarked       2\n",
              "Fare           1\n",
              "dtype: int64"
            ]
          },
          "metadata": {
            "tags": []
          },
          "execution_count": 21
        }
      ]
    },
    {
      "cell_type": "code",
      "metadata": {
        "colab": {
          "base_uri": "https://localhost:8080/"
        },
        "id": "ag8cqNS-THPP",
        "outputId": "14b1a04d-64f2-4bb8-8643-aa520e6943a2"
      },
      "source": [
        "# s = pd.Series([1,2,3])\n",
        "# def func(n):\n",
        "#   return n * n\n",
        "# s.apply(lambda  n:n*n) #lambda(無名函式):如果只使用一次&功能行數不多, 可以用 lambda"
      ],
      "execution_count": 23,
      "outputs": [
        {
          "output_type": "execute_result",
          "data": {
            "text/plain": [
              "0    1\n",
              "1    4\n",
              "2    9\n",
              "dtype: int64"
            ]
          },
          "metadata": {
            "tags": []
          },
          "execution_count": 23
        }
      ]
    },
    {
      "cell_type": "code",
      "metadata": {
        "id": "FpFyF_zpUiZr"
      },
      "source": [
        "def cabin_head(s):\n",
        "  if not pd.isna(s):\n",
        "    return s[0]\n",
        "data[\"Cabin\"] = data[\"Cabin\"].apply(cabin_head)"
      ],
      "execution_count": 27,
      "outputs": []
    },
    {
      "cell_type": "code",
      "metadata": {
        "id": "gX-VnutZWGIN"
      },
      "source": [
        "dic = data[\"Ticket\"].value_counts()\n",
        "data[\"Ticket\"] = data[\"Ticket\"].apply(lambda t:dic[t])"
      ],
      "execution_count": 30,
      "outputs": []
    },
    {
      "cell_type": "code",
      "metadata": {
        "colab": {
          "base_uri": "https://localhost:8080/"
        },
        "id": "Qe5cyPtsWuOV",
        "outputId": "6b119055-b6f2-4e85-8108-845babb3975b"
      },
      "source": [
        "# 補缺失值(類別:最常出現)[!如果一堆測試資料, 不要重算, 直接補S]\n",
        "most = data[\"Embarked\"].value_counts().idxmax()  #找 index 最大值\n",
        "data[\"Embarked\"] = data[\"Embarked\"].fillna(most)\n",
        "na = data.isna().sum()\n",
        "na[na>0].sort_values(ascending=False)"
      ],
      "execution_count": 36,
      "outputs": [
        {
          "output_type": "execute_result",
          "data": {
            "text/plain": [
              "Cabin    1014\n",
              "Age       263\n",
              "Fare        1\n",
              "dtype: int64"
            ]
          },
          "metadata": {
            "tags": []
          },
          "execution_count": 36
        }
      ]
    },
    {
      "cell_type": "code",
      "metadata": {
        "colab": {
          "base_uri": "https://localhost:8080/"
        },
        "id": "v7wJXah-ZAQE",
        "outputId": "85a0528a-b9c9-4d48-bb77-5b022057f41b"
      },
      "source": [
        "# 補缺失值(數值:中位數)\n",
        "med = data.median().drop([\"Pclass\"])\n",
        "data = data.fillna(med)\n",
        "na = data.isna().sum()\n",
        "na[na>0].sort_values(ascending=False)"
      ],
      "execution_count": 40,
      "outputs": [
        {
          "output_type": "execute_result",
          "data": {
            "text/plain": [
              "Cabin    1014\n",
              "dtype: int64"
            ]
          },
          "metadata": {
            "tags": []
          },
          "execution_count": 40
        }
      ]
    },
    {
      "cell_type": "code",
      "metadata": {
        "id": "t_aGwijdmAeV"
      },
      "source": [
        ""
      ],
      "execution_count": null,
      "outputs": []
    }
  ]
}