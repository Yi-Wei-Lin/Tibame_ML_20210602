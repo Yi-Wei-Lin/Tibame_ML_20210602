{
  "nbformat": 4,
  "nbformat_minor": 0,
  "metadata": {
    "colab": {
      "name": "蔬果報報_LineChatBot.ipynb",
      "provenance": [],
      "collapsed_sections": [],
      "authorship_tag": "ABX9TyNdGEl8y+ohPPJmXCojaGVp",
      "include_colab_link": true
    },
    "kernelspec": {
      "name": "python3",
      "display_name": "Python 3"
    },
    "language_info": {
      "name": "python"
    }
  },
  "cells": [
    {
      "cell_type": "markdown",
      "metadata": {
        "id": "view-in-github",
        "colab_type": "text"
      },
      "source": [
        "<a href=\"https://colab.research.google.com/github/Yi-Wei-Lin/Tibame_ML_20210602/blob/main/%E8%94%AC%E6%9E%9C%E5%A0%B1%E5%A0%B1_LineChatBot.ipynb\" target=\"_parent\"><img src=\"https://colab.research.google.com/assets/colab-badge.svg\" alt=\"Open In Colab\"/></a>"
      ]
    },
    {
      "cell_type": "code",
      "metadata": {
        "colab": {
          "base_uri": "https://localhost:8080/"
        },
        "id": "FtKdVp2FA_pj",
        "outputId": "670eb23c-8e67-40d2-b827-768524ef8b1a"
      },
      "source": [
        "!pip3 install line-bot-sdk\n",
        "!pip install flask-ngrok"
      ],
      "execution_count": 40,
      "outputs": [
        {
          "output_type": "stream",
          "text": [
            "Requirement already satisfied: line-bot-sdk in /usr/local/lib/python3.7/dist-packages (1.19.0)\n",
            "Requirement already satisfied: future in /usr/local/lib/python3.7/dist-packages (from line-bot-sdk) (0.16.0)\n",
            "Requirement already satisfied: requests>=2.0 in /usr/local/lib/python3.7/dist-packages (from line-bot-sdk) (2.23.0)\n",
            "Requirement already satisfied: chardet<4,>=3.0.2 in /usr/local/lib/python3.7/dist-packages (from requests>=2.0->line-bot-sdk) (3.0.4)\n",
            "Requirement already satisfied: certifi>=2017.4.17 in /usr/local/lib/python3.7/dist-packages (from requests>=2.0->line-bot-sdk) (2021.5.30)\n",
            "Requirement already satisfied: idna<3,>=2.5 in /usr/local/lib/python3.7/dist-packages (from requests>=2.0->line-bot-sdk) (2.10)\n",
            "Requirement already satisfied: urllib3!=1.25.0,!=1.25.1,<1.26,>=1.21.1 in /usr/local/lib/python3.7/dist-packages (from requests>=2.0->line-bot-sdk) (1.24.3)\n",
            "Requirement already satisfied: flask-ngrok in /usr/local/lib/python3.7/dist-packages (0.0.25)\n",
            "Requirement already satisfied: requests in /usr/local/lib/python3.7/dist-packages (from flask-ngrok) (2.23.0)\n",
            "Requirement already satisfied: Flask>=0.8 in /usr/local/lib/python3.7/dist-packages (from flask-ngrok) (1.1.4)\n",
            "Requirement already satisfied: Werkzeug<2.0,>=0.15 in /usr/local/lib/python3.7/dist-packages (from Flask>=0.8->flask-ngrok) (1.0.1)\n",
            "Requirement already satisfied: Jinja2<3.0,>=2.10.1 in /usr/local/lib/python3.7/dist-packages (from Flask>=0.8->flask-ngrok) (2.11.3)\n",
            "Requirement already satisfied: itsdangerous<2.0,>=0.24 in /usr/local/lib/python3.7/dist-packages (from Flask>=0.8->flask-ngrok) (1.1.0)\n",
            "Requirement already satisfied: click<8.0,>=5.1 in /usr/local/lib/python3.7/dist-packages (from Flask>=0.8->flask-ngrok) (7.1.2)\n",
            "Requirement already satisfied: MarkupSafe>=0.23 in /usr/local/lib/python3.7/dist-packages (from Jinja2<3.0,>=2.10.1->Flask>=0.8->flask-ngrok) (2.0.1)\n",
            "Requirement already satisfied: certifi>=2017.4.17 in /usr/local/lib/python3.7/dist-packages (from requests->flask-ngrok) (2021.5.30)\n",
            "Requirement already satisfied: idna<3,>=2.5 in /usr/local/lib/python3.7/dist-packages (from requests->flask-ngrok) (2.10)\n",
            "Requirement already satisfied: chardet<4,>=3.0.2 in /usr/local/lib/python3.7/dist-packages (from requests->flask-ngrok) (3.0.4)\n",
            "Requirement already satisfied: urllib3!=1.25.0,!=1.25.1,<1.26,>=1.21.1 in /usr/local/lib/python3.7/dist-packages (from requests->flask-ngrok) (1.24.3)\n"
          ],
          "name": "stdout"
        }
      ]
    },
    {
      "cell_type": "code",
      "metadata": {
        "id": "zMlw6YSeAMpe"
      },
      "source": [
        "from flask import Flask, request, abort\n",
        "from linebot import LineBotApi, WebhookHandler\n",
        "from linebot.exceptions import InvalidSignatureError\n",
        "from linebot.models import MessageEvent, TextMessage, TextSendMessage, FollowEvent, ImageMessage, PostbackEvent, VideoMessage, AudioMessage, UnfollowEvent, TemplateSendMessage, CarouselTemplate, CarouselColumn, URIAction\n",
        "from flask_ngrok import run_with_ngrok\n",
        "from urllib.request import urlopen\n",
        "from bs4 import BeautifulSoup\n",
        "import os\n",
        "\n",
        "line_bot_api = LineBotApi(\"RdeJZppaDtXW/OxS9jWWR/yZ7HL21Er+pmV9VAyeX+bi3H14+WzaNX1r0r/ZV1aadJUQPb3m/P674jvtSluby4k5GqULv5CVxNaaVufaZFwvxgd3qc9m00749z3PM2puj2uFDwzFSxOh3Ab85IlTYQdB04t89/1O/w1cDnyilFU=\")\n",
        "handler = WebhookHandler(\"f31abe46223c4f93d60f92008ba2e6aa\")\n",
        "\n",
        "app = Flask(__name__)\n",
        "run_with_ngrok(app)   #starts ngrok when the app is run"
      ],
      "execution_count": 41,
      "outputs": []
    },
    {
      "cell_type": "code",
      "metadata": {
        "id": "afe39xKWEQ6-"
      },
      "source": [
        "url = 'https://health.udn.com/health/cate/5684/6037'\n",
        "html = urlopen(url)\n",
        "soup = BeautifulSoup(html, 'html.parser')\n",
        "table = soup.find('dl', id=\"listing\")\n",
        "\n",
        "if table != None:\n",
        "    table_dts = table.find_all('dt')\n",
        "    pre_image = []\n",
        "    web_link = []\n",
        "    title = []\n",
        "    content = []\n",
        "    for dt in table_dts:\n",
        "        a = dt.find_all('a')[0]['href']\n",
        "        a = \"https://health.udn.com/\"+a\n",
        "        img = dt.find_all('img')[0]['data-original']\n",
        "        h3 = dt.find_all('h3')[0].text\n",
        "        p = dt.find_all('p')[0].text\n",
        "        pre_image.append(img)\n",
        "        web_link.append(a)\n",
        "        title.append(h3)\n",
        "        content.append(p)"
      ],
      "execution_count": 42,
      "outputs": []
    },
    {
      "cell_type": "code",
      "metadata": {
        "id": "P4KamCLcJNvY"
      },
      "source": [
        "# 健康新聞輪播範本\n",
        "udn_result = TemplateSendMessage(\n",
        "    alt_text='Carousel template',\n",
        "    template=CarouselTemplate(\n",
        "        columns=[\n",
        "            CarouselColumn(\n",
        "                thumbnail_image_url=pre_image[0],\n",
        "                title=title[0][:40],\n",
        "                text=content[0][:40],\n",
        "                actions=[\n",
        "                    URIAction(\n",
        "                        label=\"觀看健康新聞\",\n",
        "                        uri=web_link[0]\n",
        "                    )\n",
        "                ]\n",
        "            ),\n",
        "            CarouselColumn(\n",
        "                thumbnail_image_url=pre_image[1],\n",
        "                title=title[1][:40],\n",
        "                text=content[1][:40],\n",
        "                actions=[\n",
        "                    URIAction(\n",
        "                        label=\"觀看健康新聞\",\n",
        "                        uri=web_link[1]\n",
        "                    )\n",
        "                ]\n",
        "            ),\n",
        "            CarouselColumn(\n",
        "                thumbnail_image_url=pre_image[2],\n",
        "                title=title[2][:40],\n",
        "                text=content[2][:40],\n",
        "                actions=[\n",
        "                    URIAction(\n",
        "                        label=\"觀看健康新聞\",\n",
        "                        uri=web_link[2]\n",
        "                    )\n",
        "                ]\n",
        "            ),\n",
        "            CarouselColumn(\n",
        "                thumbnail_image_url=pre_image[3],\n",
        "                title=title[3][:40],\n",
        "                text=content[3][:40],\n",
        "                actions=[\n",
        "                    URIAction(\n",
        "                        label=\"觀看健康新聞\",\n",
        "                        uri=web_link[3]\n",
        "                    )\n",
        "                ]\n",
        "            ),\n",
        "            CarouselColumn(\n",
        "                thumbnail_image_url=pre_image[4],\n",
        "                title=title[4][:40],\n",
        "                text=content[4][:40],\n",
        "                actions=[\n",
        "                    URIAction(\n",
        "                        label=\"觀看健康新聞\",\n",
        "                        uri=web_link[4]\n",
        "                    )\n",
        "                ]\n",
        "            ),\n",
        "            CarouselColumn(\n",
        "                thumbnail_image_url=pre_image[5],\n",
        "                title=title[5][:40],\n",
        "                text=content[5][:40],\n",
        "                actions=[\n",
        "                    URIAction(\n",
        "                        label=\"觀看健康新聞\",\n",
        "                        uri=web_link[5]\n",
        "                    )\n",
        "                ]\n",
        "            ),\n",
        "            CarouselColumn(\n",
        "                thumbnail_image_url=pre_image[6],\n",
        "                title=title[6][:40],\n",
        "                text=content[6][:40],\n",
        "                actions=[\n",
        "                    URIAction(\n",
        "                        label=\"觀看健康新聞\",\n",
        "                        uri=web_link[6]\n",
        "                    )\n",
        "                ]\n",
        "            ),\n",
        "            CarouselColumn(\n",
        "                thumbnail_image_url=pre_image[7],\n",
        "                title=title[7][:40],\n",
        "                text=content[7][:40],\n",
        "                actions=[\n",
        "                    URIAction(\n",
        "                        label=\"觀看健康新聞\",\n",
        "                        uri=web_link[7]\n",
        "                    )\n",
        "                ]\n",
        "            ),\n",
        "        ]\n",
        "    )\n",
        ")"
      ],
      "execution_count": 43,
      "outputs": []
    },
    {
      "cell_type": "code",
      "metadata": {
        "colab": {
          "base_uri": "https://localhost:8080/"
        },
        "id": "N9DOzcukEJqL",
        "outputId": "e778591b-7fab-467e-e747-0ffd3599e4cc"
      },
      "source": [
        "@app.route(\"/callback\", methods=[\"POST\"])\n",
        "def callback():\n",
        "    signature = request.headers[\"X-Line-Signature\"]\n",
        "    body = request.get_data(as_text=True)\n",
        "    print(body)\n",
        "    try:\n",
        "        handler.handle(body, signature)\n",
        "    except InvalidSignatureError:\n",
        "        print(\"Invalid signature. Please check your channel access token/channel secret\")\n",
        "        abort(400)\n",
        "    return \"OK\"\n",
        "\n",
        "@handler.add(FollowEvent)\n",
        "def handle_user_follow(event):\n",
        "    follow_text = \"test123\"\n",
        "    return line_bot_api.reply_message(event.reply_token, (TextSendMessage(follow_text), udn_result))\n",
        "\n",
        "# @handler.add(MessageEvent, message=TextMessage)\n",
        "# def handle_user_message(event):\n",
        "#     return \n",
        "\n",
        "if __name__ == \"__main__\":\n",
        "    app.run()\n",
        "    # app.run(host=\"0.0.0.0\", port=int(os.environ.get(\"PORT\", 5000)))"
      ],
      "execution_count": 44,
      "outputs": [
        {
          "output_type": "stream",
          "text": [
            " * Serving Flask app \"__main__\" (lazy loading)\n",
            " * Environment: production\n",
            "\u001b[31m   WARNING: This is a development server. Do not use it in a production deployment.\u001b[0m\n",
            "\u001b[2m   Use a production WSGI server instead.\u001b[0m\n",
            " * Debug mode: off\n"
          ],
          "name": "stdout"
        },
        {
          "output_type": "stream",
          "text": [
            " * Running on http://127.0.0.1:5000/ (Press CTRL+C to quit)\n"
          ],
          "name": "stderr"
        },
        {
          "output_type": "stream",
          "text": [
            " * Running on http://1340dd07db2c.ngrok.io\n",
            " * Traffic stats available on http://127.0.0.1:4040\n"
          ],
          "name": "stdout"
        },
        {
          "output_type": "stream",
          "text": [
            "127.0.0.1 - - [26/Jul/2021 09:42:32] \"\u001b[37mPOST /callback HTTP/1.1\u001b[0m\" 200 -\n"
          ],
          "name": "stderr"
        },
        {
          "output_type": "stream",
          "text": [
            "{\"destination\":\"U6380e87f1596cd24f207873587c3f92c\",\"events\":[{\"type\":\"unfollow\",\"timestamp\":1627292551408,\"source\":{\"type\":\"user\",\"userId\":\"U1c89ac2a77b60ef424ec7dc88c123fd6\"},\"mode\":\"active\"}]}\n",
            "{\"destination\":\"U6380e87f1596cd24f207873587c3f92c\",\"events\":[{\"type\":\"follow\",\"timestamp\":1627292552478,\"source\":{\"type\":\"user\",\"userId\":\"U1c89ac2a77b60ef424ec7dc88c123fd6\"},\"replyToken\":\"8bb26cdae4834619a298e7d52aba4ddc\",\"mode\":\"active\"}]}\n"
          ],
          "name": "stdout"
        },
        {
          "output_type": "stream",
          "text": [
            "127.0.0.1 - - [26/Jul/2021 09:42:33] \"\u001b[37mPOST /callback HTTP/1.1\u001b[0m\" 200 -\n"
          ],
          "name": "stderr"
        }
      ]
    }
  ]
}