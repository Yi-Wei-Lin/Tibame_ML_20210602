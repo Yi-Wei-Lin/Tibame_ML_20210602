{
  "nbformat": 4,
  "nbformat_minor": 0,
  "metadata": {
    "colab": {
      "name": "SimpleCNN.ipynb",
      "provenance": [],
      "authorship_tag": "ABX9TyP3avvwZ6+kKn1DCfV65GFC",
      "include_colab_link": true
    },
    "kernelspec": {
      "name": "python3",
      "display_name": "Python 3"
    },
    "language_info": {
      "name": "python"
    },
    "accelerator": "GPU"
  },
  "cells": [
    {
      "cell_type": "markdown",
      "metadata": {
        "id": "view-in-github",
        "colab_type": "text"
      },
      "source": [
        "<a href=\"https://colab.research.google.com/github/Yi-Wei-Lin/Tibame_ML_20210602/blob/main/SimpleCNN.ipynb\" target=\"_parent\"><img src=\"https://colab.research.google.com/assets/colab-badge.svg\" alt=\"Open In Colab\"/></a>"
      ]
    },
    {
      "cell_type": "code",
      "metadata": {
        "colab": {
          "base_uri": "https://localhost:8080/"
        },
        "id": "yVUfLKUQs_zd",
        "outputId": "eafb30d6-a2ac-42d1-d2d9-37fc5864a73a"
      },
      "source": [
        "from keras.datasets.cifar10 import load_data\n",
        "(x_train, y_train), (x_test, y_test) = load_data()"
      ],
      "execution_count": 2,
      "outputs": [
        {
          "output_type": "stream",
          "text": [
            "Downloading data from https://www.cs.toronto.edu/~kriz/cifar-10-python.tar.gz\n",
            "170500096/170498071 [==============================] - 3s 0us/step\n",
            "170508288/170498071 [==============================] - 3s 0us/step\n"
          ],
          "name": "stdout"
        }
      ]
    },
    {
      "cell_type": "code",
      "metadata": {
        "colab": {
          "base_uri": "https://localhost:8080/"
        },
        "id": "UHQ38sZstcwE",
        "outputId": "ab607e67-ea9b-4b0b-f253-19eb173b0492"
      },
      "source": [
        "print(x_train.shape)\n",
        "print(x_test.shape)"
      ],
      "execution_count": 3,
      "outputs": [
        {
          "output_type": "stream",
          "text": [
            "(50000, 32, 32, 3)\n",
            "(10000, 32, 32, 3)\n"
          ],
          "name": "stdout"
        }
      ]
    },
    {
      "cell_type": "code",
      "metadata": {
        "id": "nOSvpYGizkEd"
      },
      "source": [
        "trans = [\"飛機\", \"汽車\", \"鳥\", \"貓\", \"鹿\", \"狗\",\n",
        "      \"青蛙\", \"馬,\" \"船\", \"卡車\"]"
      ],
      "execution_count": 11,
      "outputs": []
    },
    {
      "cell_type": "code",
      "metadata": {
        "colab": {
          "base_uri": "https://localhost:8080/",
          "height": 282
        },
        "id": "sWNU8P21ylrS",
        "outputId": "dd86490b-8d41-4537-cdec-c547c202d2c5"
      },
      "source": [
        "import random\n",
        "import matplotlib.pyplot as plt\n",
        "%matplotlib inline\n",
        "c = random.randint(0,49999)\n",
        "plt.axis(\"off\")\n",
        "# trains[0] --> 飛機\n",
        "# XX --> trans[ [0] ]\n",
        "category = y_train[c][0]\n",
        "print(trans[category])\n",
        "plt.imshow(x_train[c])"
      ],
      "execution_count": 12,
      "outputs": [
        {
          "output_type": "stream",
          "text": [
            "汽車\n"
          ],
          "name": "stdout"
        },
        {
          "output_type": "execute_result",
          "data": {
            "text/plain": [
              "<matplotlib.image.AxesImage at 0x7f0cafce7d90>"
            ]
          },
          "metadata": {
            "tags": []
          },
          "execution_count": 12
        },
        {
          "output_type": "display_data",
          "data": {
            "image/png": "[encoded data removed]",
            "text/plain": [
              "<Figure size 432x288 with 1 Axes>"
            ]
          },
          "metadata": {
            "tags": [],
            "needs_background": "light"
          }
        }
      ]
    },
    {
      "cell_type": "code",
      "metadata": {
        "id": "OGV8XmMlzWLj"
      },
      "source": [
        "# 資料預處理\n",
        "# 1.題目預處理(Normalize)\n",
        "###### MLP ######\n",
        "# Keras在準備隨機那組weights, 跟Normalize的圖片比較搭\n",
        "# 1.第一種方式: 0 - -1 第二種方式: -1 - 1\n",
        "# 攤開 -> Keras MLP 規定一定要攤開成為1D\n",
        "###### MLP ######\n",
        "\n",
        "#卷積不需要攤開, 直接進去\n",
        "x_train_shape = x_train / 255\n",
        "x_test_shape = x_test / 255\n",
        "# DEMO\n",
        "# x_train_shape[0]"
      ],
      "execution_count": null,
      "outputs": []
    },
    {
      "cell_type": "code",
      "metadata": {
        "colab": {
          "base_uri": "https://localhost:8080/"
        },
        "id": "d2UPb82o4oKY",
        "outputId": "5dc500e6-e17c-40fb-a7cd-3b1756d5c0fa"
      },
      "source": [
        "# 2. 答案預處理(one-hot encoding)\n",
        "# 希望的樣子: [P0, P1, ..., P9]\n",
        "# 5:[0,0,0,0,0,1,0,0,0,0]\n",
        "# 可能輸出: [0 ,0 ,0 ,0.2 ,0 ,0.8 ,0 ,0 ,0 ,0]\n",
        "from keras.utils.np_utils import to_categorical\n",
        "y_train_cat = to_categorical(y_train)\n",
        "y_test_cat = to_categorical(y_test)\n",
        "#Demo\n",
        "print(\"原來\", y_train[1])\n",
        "print(\"後來\", y_train_cat[1])"
      ],
      "execution_count": 16,
      "outputs": [
        {
          "output_type": "stream",
          "text": [
            "原來 [9]\n",
            "後來 [0. 0. 0. 0. 0. 0. 0. 0. 0. 1.]\n"
          ],
          "name": "stdout"
        }
      ]
    },
    {
      "cell_type": "code",
      "metadata": {
        "colab": {
          "base_uri": "https://localhost:8080/"
        },
        "id": "HNC96Bsd6NYi",
        "outputId": "2d329c38-e298-4533-89d4-f787fe5ae69b"
      },
      "source": [
        "from keras.models import Sequential\n",
        "#MLP\n",
        "from keras.layers import Dense, Flatten\n",
        "#MLP\n",
        "\n",
        "#Convolution (try VGG16 簡化版)\n",
        "from keras.layers import Conv2D, MaxPooling2D\n",
        "cnn = Sequential() # 蛋糕架\n",
        "# (一個過濾器) 3 * 3 * 3 * (filter數目)32 + (bias)32 = 896\n",
        "cnn.add(Conv2D(32, (3,3), #filter & filter size\n",
        "       input_shape=(32,32,3),\n",
        "       padding=\"same\",\n",
        "       activation=\"relu\"))\n",
        "cnn.add(MaxPooling2D(pool_size=(2,2))) # 池化 pooling\n",
        "# (一個過濾器) 3 * 3 * 32 * (filter數目)64 + (bias)64 = 18496\n",
        "cnn.add(Conv2D(64, (3,3), #filter & filter size\n",
        "       padding=\"same\",\n",
        "       activation=\"relu\"))\n",
        "cnn.add(MaxPooling2D(pool_size=(2,2))) # 池化 pooling\n",
        "cnn.add(Conv2D(128, (3,3), #filter & filter size\n",
        "       padding=\"same\",\n",
        "       activation=\"relu\"))\n",
        "cnn.add(MaxPooling2D(pool_size=(2,2))) # 池化 pooling\n",
        "cnn.add(Flatten())\n",
        "cnn.add(Dense(256,activation=\"relu\"))\n",
        "cnn.add(Dense(10,activation=\"softmax\"))\n",
        "cnn.summary()"
      ],
      "execution_count": 22,
      "outputs": [
        {
          "output_type": "stream",
          "text": [
            "Model: \"sequential_4\"\n",
            "_________________________________________________________________\n",
            "Layer (type)                 Output Shape              Param #   \n",
            "=================================================================\n",
            "conv2d_8 (Conv2D)            (None, 32, 32, 32)        896       \n",
            "_________________________________________________________________\n",
            "max_pooling2d_7 (MaxPooling2 (None, 16, 16, 32)        0         \n",
            "_________________________________________________________________\n",
            "conv2d_9 (Conv2D)            (None, 16, 16, 64)        18496     \n",
            "_________________________________________________________________\n",
            "max_pooling2d_8 (MaxPooling2 (None, 8, 8, 64)          0         \n",
            "_________________________________________________________________\n",
            "conv2d_10 (Conv2D)           (None, 8, 8, 128)         73856     \n",
            "_________________________________________________________________\n",
            "max_pooling2d_9 (MaxPooling2 (None, 4, 4, 128)         0         \n",
            "_________________________________________________________________\n",
            "flatten_1 (Flatten)          (None, 2048)              0         \n",
            "_________________________________________________________________\n",
            "dense (Dense)                (None, 256)               524544    \n",
            "_________________________________________________________________\n",
            "dense_1 (Dense)              (None, 10)                2570      \n",
            "=================================================================\n",
            "Total params: 620,362\n",
            "Trainable params: 620,362\n",
            "Non-trainable params: 0\n",
            "_________________________________________________________________\n"
          ],
          "name": "stdout"
        }
      ]
    }
  ]
}