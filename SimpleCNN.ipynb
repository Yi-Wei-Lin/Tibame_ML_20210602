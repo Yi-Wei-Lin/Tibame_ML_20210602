{
  "nbformat": 4,
  "nbformat_minor": 0,
  "metadata": {
    "colab": {
      "name": "SimpleCNN.ipynb",
      "provenance": [],
      "authorship_tag": "ABX9TyM4tCKMgNw46PP9MU6HmmpD",
      "include_colab_link": true
    },
    "kernelspec": {
      "name": "python3",
      "display_name": "Python 3"
    },
    "language_info": {
      "name": "python"
    },
    "accelerator": "GPU"
  },
  "cells": [
    {
      "cell_type": "markdown",
      "metadata": {
        "id": "view-in-github",
        "colab_type": "text"
      },
      "source": [
        "<a href=\"https://colab.research.google.com/github/Yi-Wei-Lin/Tibame_ML_20210602/blob/main/SimpleCNN.ipynb\" target=\"_parent\"><img src=\"https://colab.research.google.com/assets/colab-badge.svg\" alt=\"Open In Colab\"/></a>"
      ]
    },
    {
      "cell_type": "code",
      "metadata": {
        "id": "yVUfLKUQs_zd"
      },
      "source": [
        "from keras.datasets.cifar10 import load_data\n",
        "(x_train, y_train), (x_test, y_test) = load_data()"
      ],
      "execution_count": 1,
      "outputs": []
    },
    {
      "cell_type": "code",
      "metadata": {
        "colab": {
          "base_uri": "https://localhost:8080/"
        },
        "id": "UHQ38sZstcwE",
        "outputId": "ada09d4b-9a52-4fc6-b163-3fff979364fb"
      },
      "source": [
        "print(x_train.shape)\n",
        "print(x_test.shape)"
      ],
      "execution_count": 2,
      "outputs": [
        {
          "output_type": "stream",
          "text": [
            "(50000, 32, 32, 3)\n",
            "(10000, 32, 32, 3)\n"
          ],
          "name": "stdout"
        }
      ]
    },
    {
      "cell_type": "code",
      "metadata": {
        "id": "nOSvpYGizkEd"
      },
      "source": [
        "trans = [\"飛機\", \"汽車\", \"鳥\", \"貓\", \"鹿\", \"狗\",\n",
        "      \"青蛙\", \"馬,\" \"船\", \"卡車\"]"
      ],
      "execution_count": 3,
      "outputs": []
    },
    {
      "cell_type": "code",
      "metadata": {
        "colab": {
          "base_uri": "https://localhost:8080/",
          "height": 282
        },
        "id": "sWNU8P21ylrS",
        "outputId": "6568939a-a023-45bc-d456-e31962993fa3"
      },
      "source": [
        "import random\n",
        "import matplotlib.pyplot as plt\n",
        "%matplotlib inline\n",
        "c = random.randint(0,49999)\n",
        "plt.axis(\"off\")\n",
        "# trains[0] --> 飛機\n",
        "# XX --> trans[ [0] ]\n",
        "category = y_train[c][0]\n",
        "print(trans[category])\n",
        "plt.imshow(x_train[c])"
      ],
      "execution_count": 4,
      "outputs": [
        {
          "output_type": "stream",
          "text": [
            "青蛙\n"
          ],
          "name": "stdout"
        },
        {
          "output_type": "execute_result",
          "data": {
            "text/plain": [
              "<matplotlib.image.AxesImage at 0x7fb9dd7f4b90>"
            ]
          },
          "metadata": {
            "tags": []
          },
          "execution_count": 4
        },
        {
          "output_type": "display_data",
          "data": {
            "image/png": "[encoded data removed]",
            "text/plain": [
              "<Figure size 432x288 with 1 Axes>"
            ]
          },
          "metadata": {
            "tags": [],
            "needs_background": "light"
          }
        }
      ]
    },
    {
      "cell_type": "code",
      "metadata": {
        "id": "OGV8XmMlzWLj"
      },
      "source": [
        "# 資料預處理\n",
        "# 1.題目預處理(Normalize)\n",
        "###### MLP ######\n",
        "# Keras在準備隨機那組weights, 跟Normalize的圖片比較搭\n",
        "# 1.第一種方式: 0 - -1 第二種方式: -1 - 1\n",
        "# 攤開 -> Keras MLP 規定一定要攤開成為1D\n",
        "###### MLP ######\n",
        "\n",
        "#卷積不需要攤開, 直接進去\n",
        "x_train_shape = x_train / 255\n",
        "x_test_shape = x_test / 255\n",
        "# DEMO\n",
        "# x_train_shape[0]"
      ],
      "execution_count": 5,
      "outputs": []
    },
    {
      "cell_type": "code",
      "metadata": {
        "colab": {
          "base_uri": "https://localhost:8080/"
        },
        "id": "d2UPb82o4oKY",
        "outputId": "cad16901-0f81-4ae0-89b2-7f8c910935e7"
      },
      "source": [
        "# 2. 答案預處理(one-hot encoding)\n",
        "# 希望的樣子: [P0, P1, ..., P9]\n",
        "# 5:[0,0,0,0,0,1,0,0,0,0]\n",
        "# 可能輸出: [0 ,0 ,0 ,0.2 ,0 ,0.8 ,0 ,0 ,0 ,0]\n",
        "from keras.utils.np_utils import to_categorical\n",
        "y_train_cat = to_categorical(y_train)\n",
        "y_test_cat = to_categorical(y_test)\n",
        "#Demo\n",
        "print(\"原來\", y_train[1])\n",
        "print(\"後來\", y_train_cat[1])"
      ],
      "execution_count": 6,
      "outputs": [
        {
          "output_type": "stream",
          "text": [
            "原來 [9]\n",
            "後來 [0. 0. 0. 0. 0. 0. 0. 0. 0. 1.]\n"
          ],
          "name": "stdout"
        }
      ]
    },
    {
      "cell_type": "code",
      "metadata": {
        "colab": {
          "base_uri": "https://localhost:8080/"
        },
        "id": "HNC96Bsd6NYi",
        "outputId": "17f80252-aa2e-410e-df60-c3a2c91d072c"
      },
      "source": [
        "from keras.models import Sequential\n",
        "#MLP\n",
        "from keras.layers import Dense, Flatten\n",
        "#MLP\n",
        "\n",
        "#Convolution (try VGG16 簡化版)\n",
        "from keras.layers import Conv2D, MaxPooling2D\n",
        "cnn = Sequential() # 蛋糕架\n",
        "# (一個過濾器) 3 * 3 * 3 * (filter數目)32 + (bias)32 = 896\n",
        "cnn.add(Conv2D(32, (3,3), #filter & filter size\n",
        "       input_shape=(32,32,3),\n",
        "       padding=\"same\",\n",
        "       activation=\"relu\"))\n",
        "cnn.add(MaxPooling2D(pool_size=(2,2))) # 池化 pooling\n",
        "# (一個過濾器) 3 * 3 * 32 * (filter數目)64 + (bias)64 = 18496\n",
        "cnn.add(Conv2D(64, (3,3), #filter & filter size\n",
        "       padding=\"same\",\n",
        "       activation=\"relu\"))\n",
        "cnn.add(MaxPooling2D(pool_size=(2,2))) # 池化 pooling\n",
        "cnn.add(Conv2D(128, (3,3), #filter & filter size\n",
        "       padding=\"same\",\n",
        "       activation=\"relu\"))\n",
        "cnn.add(MaxPooling2D(pool_size=(2,2))) # 池化 pooling\n",
        "cnn.add(Flatten())\n",
        "cnn.add(Dense(256,activation=\"relu\"))\n",
        "cnn.add(Dense(10,activation=\"softmax\"))\n",
        "cnn.summary()"
      ],
      "execution_count": 7,
      "outputs": [
        {
          "output_type": "stream",
          "text": [
            "Model: \"sequential\"\n",
            "_________________________________________________________________\n",
            "Layer (type)                 Output Shape              Param #   \n",
            "=================================================================\n",
            "conv2d (Conv2D)              (None, 32, 32, 32)        896       \n",
            "_________________________________________________________________\n",
            "max_pooling2d (MaxPooling2D) (None, 16, 16, 32)        0         \n",
            "_________________________________________________________________\n",
            "conv2d_1 (Conv2D)            (None, 16, 16, 64)        18496     \n",
            "_________________________________________________________________\n",
            "max_pooling2d_1 (MaxPooling2 (None, 8, 8, 64)          0         \n",
            "_________________________________________________________________\n",
            "conv2d_2 (Conv2D)            (None, 8, 8, 128)         73856     \n",
            "_________________________________________________________________\n",
            "max_pooling2d_2 (MaxPooling2 (None, 4, 4, 128)         0         \n",
            "_________________________________________________________________\n",
            "flatten (Flatten)            (None, 2048)              0         \n",
            "_________________________________________________________________\n",
            "dense (Dense)                (None, 256)               524544    \n",
            "_________________________________________________________________\n",
            "dense_1 (Dense)              (None, 10)                2570      \n",
            "=================================================================\n",
            "Total params: 620,362\n",
            "Trainable params: 620,362\n",
            "Non-trainable params: 0\n",
            "_________________________________________________________________\n"
          ],
          "name": "stdout"
        }
      ]
    },
    {
      "cell_type": "code",
      "metadata": {
        "id": "EIlG_9EzTOgk"
      },
      "source": [
        "# 確定模型訓練方式....等\n",
        "# 隨機(隨便選一組weights)梯度(正確方向)下降\n",
        "# loss: 最後輸出一個:binary_crossentropy, 最後輸出多個: categorical_crossentropy\n",
        "# optimizer: 下降的時候優化 -> 基於動量(我在走的時候不是等速度, 而有速度的累積)\n",
        "cnn.compile(loss=\"categorical_crossentropy\",\n",
        "      metrics=[\"accuracy\"],\n",
        "      optimizer=\"adam\")"
      ],
      "execution_count": 8,
      "outputs": []
    },
    {
      "cell_type": "code",
      "metadata": {
        "colab": {
          "base_uri": "https://localhost:8080/"
        },
        "id": "0FkGXWisUc85",
        "outputId": "86987633-eb95-4cf8-c1c1-8acf8487abc5"
      },
      "source": [
        "# batch: 看幾筆(200)做一次梯度下降(修正)\n",
        "# epochs: 整份考古題看幾次(10)\n",
        "# 10個epochs, 200 batch: 60000*10/200 -> 3000(次)\n",
        "cnn.fit(x_train_shape,\n",
        "    y_train_cat,\n",
        "    batch_size=200,\n",
        "    epochs=10,\n",
        "    validation_split=0.1)"
      ],
      "execution_count": 9,
      "outputs": [
        {
          "output_type": "stream",
          "text": [
            "Epoch 1/10\n",
            "225/225 [==============================] - 22s 22ms/step - loss: 1.8315 - accuracy: 0.3299 - val_loss: 1.3205 - val_accuracy: 0.5172\n",
            "Epoch 2/10\n",
            "225/225 [==============================] - 4s 19ms/step - loss: 1.2466 - accuracy: 0.5570 - val_loss: 1.0778 - val_accuracy: 0.6142\n",
            "Epoch 3/10\n",
            "225/225 [==============================] - 4s 19ms/step - loss: 1.0156 - accuracy: 0.6440 - val_loss: 0.9807 - val_accuracy: 0.6546\n",
            "Epoch 4/10\n",
            "225/225 [==============================] - 4s 19ms/step - loss: 0.8950 - accuracy: 0.6897 - val_loss: 0.9109 - val_accuracy: 0.6926\n",
            "Epoch 5/10\n",
            "225/225 [==============================] - 4s 19ms/step - loss: 0.7985 - accuracy: 0.7216 - val_loss: 0.8191 - val_accuracy: 0.7206\n",
            "Epoch 6/10\n",
            "225/225 [==============================] - 4s 19ms/step - loss: 0.7307 - accuracy: 0.7469 - val_loss: 0.7635 - val_accuracy: 0.7420\n",
            "Epoch 7/10\n",
            "225/225 [==============================] - 4s 19ms/step - loss: 0.6564 - accuracy: 0.7728 - val_loss: 0.7610 - val_accuracy: 0.7422\n",
            "Epoch 8/10\n",
            "225/225 [==============================] - 4s 19ms/step - loss: 0.5938 - accuracy: 0.7925 - val_loss: 0.7626 - val_accuracy: 0.7452\n",
            "Epoch 9/10\n",
            "225/225 [==============================] - 4s 19ms/step - loss: 0.5430 - accuracy: 0.8106 - val_loss: 0.7534 - val_accuracy: 0.7528\n",
            "Epoch 10/10\n",
            "225/225 [==============================] - 4s 19ms/step - loss: 0.4974 - accuracy: 0.8291 - val_loss: 0.7587 - val_accuracy: 0.7530\n"
          ],
          "name": "stdout"
        },
        {
          "output_type": "execute_result",
          "data": {
            "text/plain": [
              "<keras.callbacks.History at 0x7fb9d01160d0>"
            ]
          },
          "metadata": {
            "tags": []
          },
          "execution_count": 9
        }
      ]
    },
    {
      "cell_type": "code",
      "metadata": {
        "colab": {
          "base_uri": "https://localhost:8080/"
        },
        "id": "ljc7uOFGYtO3",
        "outputId": "8e698aa8-cf50-4880-80c8-3529a3e9f210"
      },
      "source": [
        "# predict\n",
        "cnn.evaluate(x_test_shape, y_test_cat)"
      ],
      "execution_count": 10,
      "outputs": [
        {
          "output_type": "stream",
          "text": [
            "313/313 [==============================] - 2s 5ms/step - loss: 0.7929 - accuracy: 0.7396\n"
          ],
          "name": "stdout"
        },
        {
          "output_type": "execute_result",
          "data": {
            "text/plain": [
              "[0.7928585410118103, 0.7396000027656555]"
            ]
          },
          "metadata": {
            "tags": []
          },
          "execution_count": 10
        }
      ]
    },
    {
      "cell_type": "code",
      "metadata": {
        "colab": {
          "base_uri": "https://localhost:8080/",
          "height": 397
        },
        "id": "tYF0Q4fxaB5J",
        "outputId": "03cb2d00-9bd2-41d0-8e22-052f73843084"
      },
      "source": [
        "import pandas as pd\n",
        "pre = cnn.predict_classes(x_test_shape)\n",
        "from sklearn.metrics import confusion_matrix\n",
        "pd.DataFrame(confusion_matrix(y_test, pre))"
      ],
      "execution_count": 11,
      "outputs": [
        {
          "output_type": "stream",
          "text": [
            "/usr/local/lib/python3.7/dist-packages/keras/engine/sequential.py:450: UserWarning: `model.predict_classes()` is deprecated and will be removed after 2021-01-01. Please use instead:* `np.argmax(model.predict(x), axis=-1)`,   if your model does multi-class classification   (e.g. if it uses a `softmax` last-layer activation).* `(model.predict(x) > 0.5).astype(\"int32\")`,   if your model does binary classification   (e.g. if it uses a `sigmoid` last-layer activation).\n",
            "  warnings.warn('`model.predict_classes()` is deprecated and '\n"
          ],
          "name": "stderr"
        },
        {
          "output_type": "execute_result",
          "data": {
            "text/html": [
              "<div>\n",
              "<style scoped>\n",
              "    .dataframe tbody tr th:only-of-type {\n",
              "        vertical-align: middle;\n",
              "    }\n",
              "\n",
              "    .dataframe tbody tr th {\n",
              "        vertical-align: top;\n",
              "    }\n",
              "\n",
              "    .dataframe thead th {\n",
              "        text-align: right;\n",
              "    }\n",
              "</style>\n",
              "<table border=\"1\" class=\"dataframe\">\n",
              "  <thead>\n",
              "    <tr style=\"text-align: right;\">\n",
              "      <th></th>\n",
              "      <th>0</th>\n",
              "      <th>1</th>\n",
              "      <th>2</th>\n",
              "      <th>3</th>\n",
              "      <th>4</th>\n",
              "      <th>5</th>\n",
              "      <th>6</th>\n",
              "      <th>7</th>\n",
              "      <th>8</th>\n",
              "      <th>9</th>\n",
              "    </tr>\n",
              "  </thead>\n",
              "  <tbody>\n",
              "    <tr>\n",
              "      <th>0</th>\n",
              "      <td>851</td>\n",
              "      <td>6</td>\n",
              "      <td>36</td>\n",
              "      <td>20</td>\n",
              "      <td>13</td>\n",
              "      <td>14</td>\n",
              "      <td>9</td>\n",
              "      <td>3</td>\n",
              "      <td>31</td>\n",
              "      <td>17</td>\n",
              "    </tr>\n",
              "    <tr>\n",
              "      <th>1</th>\n",
              "      <td>43</td>\n",
              "      <td>773</td>\n",
              "      <td>6</td>\n",
              "      <td>18</td>\n",
              "      <td>3</td>\n",
              "      <td>10</td>\n",
              "      <td>18</td>\n",
              "      <td>3</td>\n",
              "      <td>30</td>\n",
              "      <td>96</td>\n",
              "    </tr>\n",
              "    <tr>\n",
              "      <th>2</th>\n",
              "      <td>71</td>\n",
              "      <td>2</td>\n",
              "      <td>692</td>\n",
              "      <td>45</td>\n",
              "      <td>48</td>\n",
              "      <td>56</td>\n",
              "      <td>56</td>\n",
              "      <td>18</td>\n",
              "      <td>10</td>\n",
              "      <td>2</td>\n",
              "    </tr>\n",
              "    <tr>\n",
              "      <th>3</th>\n",
              "      <td>26</td>\n",
              "      <td>4</td>\n",
              "      <td>81</td>\n",
              "      <td>543</td>\n",
              "      <td>47</td>\n",
              "      <td>198</td>\n",
              "      <td>69</td>\n",
              "      <td>15</td>\n",
              "      <td>8</td>\n",
              "      <td>9</td>\n",
              "    </tr>\n",
              "    <tr>\n",
              "      <th>4</th>\n",
              "      <td>32</td>\n",
              "      <td>1</td>\n",
              "      <td>99</td>\n",
              "      <td>55</td>\n",
              "      <td>664</td>\n",
              "      <td>35</td>\n",
              "      <td>65</td>\n",
              "      <td>41</td>\n",
              "      <td>7</td>\n",
              "      <td>1</td>\n",
              "    </tr>\n",
              "    <tr>\n",
              "      <th>5</th>\n",
              "      <td>14</td>\n",
              "      <td>1</td>\n",
              "      <td>57</td>\n",
              "      <td>159</td>\n",
              "      <td>32</td>\n",
              "      <td>693</td>\n",
              "      <td>18</td>\n",
              "      <td>21</td>\n",
              "      <td>3</td>\n",
              "      <td>2</td>\n",
              "    </tr>\n",
              "    <tr>\n",
              "      <th>6</th>\n",
              "      <td>6</td>\n",
              "      <td>0</td>\n",
              "      <td>59</td>\n",
              "      <td>51</td>\n",
              "      <td>14</td>\n",
              "      <td>29</td>\n",
              "      <td>834</td>\n",
              "      <td>1</td>\n",
              "      <td>4</td>\n",
              "      <td>2</td>\n",
              "    </tr>\n",
              "    <tr>\n",
              "      <th>7</th>\n",
              "      <td>13</td>\n",
              "      <td>2</td>\n",
              "      <td>45</td>\n",
              "      <td>48</td>\n",
              "      <td>59</td>\n",
              "      <td>85</td>\n",
              "      <td>10</td>\n",
              "      <td>735</td>\n",
              "      <td>2</td>\n",
              "      <td>1</td>\n",
              "    </tr>\n",
              "    <tr>\n",
              "      <th>8</th>\n",
              "      <td>87</td>\n",
              "      <td>23</td>\n",
              "      <td>14</td>\n",
              "      <td>19</td>\n",
              "      <td>1</td>\n",
              "      <td>9</td>\n",
              "      <td>12</td>\n",
              "      <td>2</td>\n",
              "      <td>823</td>\n",
              "      <td>10</td>\n",
              "    </tr>\n",
              "    <tr>\n",
              "      <th>9</th>\n",
              "      <td>61</td>\n",
              "      <td>48</td>\n",
              "      <td>16</td>\n",
              "      <td>22</td>\n",
              "      <td>2</td>\n",
              "      <td>12</td>\n",
              "      <td>12</td>\n",
              "      <td>14</td>\n",
              "      <td>25</td>\n",
              "      <td>788</td>\n",
              "    </tr>\n",
              "  </tbody>\n",
              "</table>\n",
              "</div>"
            ],
            "text/plain": [
              "     0    1    2    3    4    5    6    7    8    9\n",
              "0  851    6   36   20   13   14    9    3   31   17\n",
              "1   43  773    6   18    3   10   18    3   30   96\n",
              "2   71    2  692   45   48   56   56   18   10    2\n",
              "3   26    4   81  543   47  198   69   15    8    9\n",
              "4   32    1   99   55  664   35   65   41    7    1\n",
              "5   14    1   57  159   32  693   18   21    3    2\n",
              "6    6    0   59   51   14   29  834    1    4    2\n",
              "7   13    2   45   48   59   85   10  735    2    1\n",
              "8   87   23   14   19    1    9   12    2  823   10\n",
              "9   61   48   16   22    2   12   12   14   25  788"
            ]
          },
          "metadata": {
            "tags": []
          },
          "execution_count": 11
        }
      ]
    }
  ]
}