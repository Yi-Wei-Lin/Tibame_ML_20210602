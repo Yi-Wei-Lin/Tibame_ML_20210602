{
  "nbformat": 4,
  "nbformat_minor": 0,
  "metadata": {
    "colab": {
      "name": "Cabbage_predict_0707.ipynb",
      "provenance": [],
      "collapsed_sections": [],
      "authorship_tag": "ABX9TyNsjUxftHT1xZ635/Umteh3",
      "include_colab_link": true
    },
    "kernelspec": {
      "name": "python3",
      "display_name": "Python 3"
    },
    "language_info": {
      "name": "python"
    },
    "accelerator": "GPU"
  },
  "cells": [
    {
      "cell_type": "markdown",
      "metadata": {
        "id": "view-in-github",
        "colab_type": "text"
      },
      "source": [
        "<a href=\"https://colab.research.google.com/github/Yi-Wei-Lin/Tibame_ML_20210602/blob/main/Cabbage_predict_0707.ipynb\" target=\"_parent\"><img src=\"https://colab.research.google.com/assets/colab-badge.svg\" alt=\"Open In Colab\"/></a>"
      ]
    },
    {
      "cell_type": "code",
      "metadata": {
        "id": "i1kIpPvPSBU9"
      },
      "source": [
        "import numpy as np\n",
        "import matplotlib.pyplot as plt\n",
        "import pandas as pd\n",
        "from sklearn.preprocessing import MinMaxScaler"
      ],
      "execution_count": 91,
      "outputs": []
    },
    {
      "cell_type": "code",
      "metadata": {
        "id": "0fNFBa0VTW1i"
      },
      "source": [
        "data = pd.read_excel(\"Cabbage.xlsx\")"
      ],
      "execution_count": 92,
      "outputs": []
    },
    {
      "cell_type": "code",
      "metadata": {
        "colab": {
          "base_uri": "https://localhost:8080/"
        },
        "id": "XJ3h7hWdT2l7",
        "outputId": "4a5c61e5-3dd2-4f1d-bb44-b259263b100e"
      },
      "source": [
        "data = data.dropna()\n",
        "data = data.loc[data[\"Market\"] == \"台北一\"]\n",
        "np.array(data[\"Avg_price\"]).reshape(-1,1)"
      ],
      "execution_count": 93,
      "outputs": [
        {
          "output_type": "execute_result",
          "data": {
            "text/plain": [
              "array([[ 8.9],\n",
              "       [ 7.2],\n",
              "       [ 6.7],\n",
              "       ...,\n",
              "       [15.1],\n",
              "       [15.1],\n",
              "       [15.5]])"
            ]
          },
          "metadata": {
            "tags": []
          },
          "execution_count": 93
        }
      ]
    },
    {
      "cell_type": "code",
      "metadata": {
        "id": "c-e9EOm0WIuS"
      },
      "source": [
        "data_train = data[data[\"Date\"] < \"2019-01-01\"]\n",
        "data_test = data[data[\"Date\"] >= \"2019-01-01\"]"
      ],
      "execution_count": 94,
      "outputs": []
    },
    {
      "cell_type": "code",
      "metadata": {
        "colab": {
          "base_uri": "https://localhost:8080/",
          "height": 419
        },
        "id": "PHkweN_gW84H",
        "outputId": "de971adf-5a6a-477a-eec9-860a7b67741b"
      },
      "source": [
        "data_train = data_train.drop([\"Date\", \"Market\", \"Product\", \"Month\", \"Week_day\", \"Year\", \"Rest_day\"], axis=1)\n",
        "data_train"
      ],
      "execution_count": 95,
      "outputs": [
        {
          "output_type": "execute_result",
          "data": {
            "text/html": [
              "<div>\n",
              "<style scoped>\n",
              "    .dataframe tbody tr th:only-of-type {\n",
              "        vertical-align: middle;\n",
              "    }\n",
              "\n",
              "    .dataframe tbody tr th {\n",
              "        vertical-align: top;\n",
              "    }\n",
              "\n",
              "    .dataframe thead th {\n",
              "        text-align: right;\n",
              "    }\n",
              "</style>\n",
              "<table border=\"1\" class=\"dataframe\">\n",
              "  <thead>\n",
              "    <tr style=\"text-align: right;\">\n",
              "      <th></th>\n",
              "      <th>Up_price</th>\n",
              "      <th>Mid_price</th>\n",
              "      <th>Low_price</th>\n",
              "      <th>Avg_price</th>\n",
              "      <th>Volume</th>\n",
              "    </tr>\n",
              "  </thead>\n",
              "  <tbody>\n",
              "    <tr>\n",
              "      <th>39204</th>\n",
              "      <td>11.0</td>\n",
              "      <td>8.0</td>\n",
              "      <td>5.0</td>\n",
              "      <td>8.9</td>\n",
              "      <td>192029.0</td>\n",
              "    </tr>\n",
              "    <tr>\n",
              "      <th>39205</th>\n",
              "      <td>9.0</td>\n",
              "      <td>7.0</td>\n",
              "      <td>4.0</td>\n",
              "      <td>7.2</td>\n",
              "      <td>174270.0</td>\n",
              "    </tr>\n",
              "    <tr>\n",
              "      <th>39206</th>\n",
              "      <td>8.0</td>\n",
              "      <td>6.0</td>\n",
              "      <td>3.0</td>\n",
              "      <td>6.7</td>\n",
              "      <td>125426.0</td>\n",
              "    </tr>\n",
              "    <tr>\n",
              "      <th>39207</th>\n",
              "      <td>10.0</td>\n",
              "      <td>7.0</td>\n",
              "      <td>4.0</td>\n",
              "      <td>7.1</td>\n",
              "      <td>119318.0</td>\n",
              "    </tr>\n",
              "    <tr>\n",
              "      <th>39208</th>\n",
              "      <td>9.0</td>\n",
              "      <td>7.0</td>\n",
              "      <td>5.0</td>\n",
              "      <td>6.8</td>\n",
              "      <td>118178.0</td>\n",
              "    </tr>\n",
              "    <tr>\n",
              "      <th>...</th>\n",
              "      <td>...</td>\n",
              "      <td>...</td>\n",
              "      <td>...</td>\n",
              "      <td>...</td>\n",
              "      <td>...</td>\n",
              "    </tr>\n",
              "    <tr>\n",
              "      <th>46137</th>\n",
              "      <td>10.5</td>\n",
              "      <td>5.9</td>\n",
              "      <td>2.5</td>\n",
              "      <td>6.1</td>\n",
              "      <td>170578.0</td>\n",
              "    </tr>\n",
              "    <tr>\n",
              "      <th>46138</th>\n",
              "      <td>9.4</td>\n",
              "      <td>5.8</td>\n",
              "      <td>2.7</td>\n",
              "      <td>5.9</td>\n",
              "      <td>170145.0</td>\n",
              "    </tr>\n",
              "    <tr>\n",
              "      <th>46139</th>\n",
              "      <td>9.6</td>\n",
              "      <td>5.2</td>\n",
              "      <td>2.8</td>\n",
              "      <td>5.6</td>\n",
              "      <td>176992.0</td>\n",
              "    </tr>\n",
              "    <tr>\n",
              "      <th>46140</th>\n",
              "      <td>10.2</td>\n",
              "      <td>5.5</td>\n",
              "      <td>2.4</td>\n",
              "      <td>5.8</td>\n",
              "      <td>195142.0</td>\n",
              "    </tr>\n",
              "    <tr>\n",
              "      <th>46141</th>\n",
              "      <td>14.1</td>\n",
              "      <td>8.6</td>\n",
              "      <td>4.5</td>\n",
              "      <td>8.9</td>\n",
              "      <td>158519.0</td>\n",
              "    </tr>\n",
              "  </tbody>\n",
              "</table>\n",
              "<p>5771 rows × 5 columns</p>\n",
              "</div>"
            ],
            "text/plain": [
              "       Up_price  Mid_price  Low_price  Avg_price    Volume\n",
              "39204      11.0        8.0        5.0        8.9  192029.0\n",
              "39205       9.0        7.0        4.0        7.2  174270.0\n",
              "39206       8.0        6.0        3.0        6.7  125426.0\n",
              "39207      10.0        7.0        4.0        7.1  119318.0\n",
              "39208       9.0        7.0        5.0        6.8  118178.0\n",
              "...         ...        ...        ...        ...       ...\n",
              "46137      10.5        5.9        2.5        6.1  170578.0\n",
              "46138       9.4        5.8        2.7        5.9  170145.0\n",
              "46139       9.6        5.2        2.8        5.6  176992.0\n",
              "46140      10.2        5.5        2.4        5.8  195142.0\n",
              "46141      14.1        8.6        4.5        8.9  158519.0\n",
              "\n",
              "[5771 rows x 5 columns]"
            ]
          },
          "metadata": {
            "tags": []
          },
          "execution_count": 95
        }
      ]
    },
    {
      "cell_type": "code",
      "metadata": {
        "id": "JO-5YfElYQcK"
      },
      "source": [
        "# from tensorflow.keras.utils import to_categorical\n",
        "# pd.DataFrame(to_categorical(data_train[\"Month\"]))"
      ],
      "execution_count": 96,
      "outputs": []
    },
    {
      "cell_type": "code",
      "metadata": {
        "id": "4TrSiVH2ZnVk"
      },
      "source": [
        "Xscaler = MinMaxScaler()\n",
        "Yscaler = MinMaxScaler()\n",
        "ytrain = np.array(data_train[\"Avg_price\"]).reshape(-1,1)\n",
        "data_xtrain = Xscaler.fit_transform(data_train.drop([\"Avg_price\"],axis=1))\n",
        "data_ytrain = Yscaler.fit_transform(ytrain)"
      ],
      "execution_count": 97,
      "outputs": []
    },
    {
      "cell_type": "code",
      "metadata": {
        "id": "IWNokHwdx4Yq"
      },
      "source": [
        "data_train = np.concatenate((data_xtrain, data_ytrain), axis=1)"
      ],
      "execution_count": 98,
      "outputs": []
    },
    {
      "cell_type": "code",
      "metadata": {
        "id": "VZ9XJ3hVZncf"
      },
      "source": [
        "x_train = []\n",
        "y_train = []\n",
        "time_step = 60\n",
        "for i in range(len(data_train) - time_step):\n",
        "  x_train.append(data_train[i:(i+time_step)])\n",
        "  y_train.append(data_train[(i+time_step)][-1])\n",
        "x_train, y_train = np.array(x_train), np.array(y_train).reshape(-1,1)"
      ],
      "execution_count": 99,
      "outputs": []
    },
    {
      "cell_type": "code",
      "metadata": {
        "colab": {
          "base_uri": "https://localhost:8080/"
        },
        "id": "MSgBUOoxak0-",
        "outputId": "ae0651f3-39c9-4787-908f-662717145b47"
      },
      "source": [
        "# Building LSTM model\n",
        "from tensorflow.keras import Sequential\n",
        "from tensorflow.keras.layers import LSTM, Dense, Dropout\n",
        "layers = [\n",
        "    LSTM(units=256, activation=\"sigmoid\", return_sequences=False, input_shape=(x_train.shape[1], x_train.shape[2])),\n",
        "    # Dropout(0.2),\n",
        "    # LSTM(units=256, activation=\"sigmoid\", return_sequences=True),\n",
        "    # Dropout(0.2),\n",
        "    # LSTM(units=20, activation=\"sigmoid\", return_sequences=True),\n",
        "    # Dropout(0.2),\n",
        "    # LSTM(units=256, activation=\"sigmoid\"),\n",
        "    # Dropout(0.2),\n",
        "    # Dense(units=5, activation=\"sigmoid\"),\n",
        "    Dense(units=1, activation=\"sigmoid\")\n",
        "]\n",
        "regressor = Sequential(layers)\n",
        "regressor.summary()"
      ],
      "execution_count": 100,
      "outputs": [
        {
          "output_type": "stream",
          "text": [
            "WARNING:tensorflow:Layer lstm_20 will not use cuDNN kernels since it doesn't meet the criteria. It will use a generic GPU kernel as fallback when running on GPU.\n",
            "Model: \"sequential_6\"\n",
            "_________________________________________________________________\n",
            "Layer (type)                 Output Shape              Param #   \n",
            "=================================================================\n",
            "lstm_20 (LSTM)               (None, 256)               268288    \n",
            "_________________________________________________________________\n",
            "dense_12 (Dense)             (None, 1)                 257       \n",
            "=================================================================\n",
            "Total params: 268,545\n",
            "Trainable params: 268,545\n",
            "Non-trainable params: 0\n",
            "_________________________________________________________________\n"
          ],
          "name": "stdout"
        }
      ]
    },
    {
      "cell_type": "code",
      "metadata": {
        "colab": {
          "base_uri": "https://localhost:8080/"
        },
        "id": "GVYzbTuYjvDo",
        "outputId": "3940166b-64ed-45a5-df1c-dcd7b36ddca2"
      },
      "source": [
        "from tensorflow.keras.optimizers import Adam\n",
        "from tensorflow.keras.losses import MeanSquaredError\n",
        "from keras.callbacks import EarlyStopping, ModelCheckpoint\n",
        "regressor.compile(loss = \"mse\",\n",
        "         optimizer = Adam(),\n",
        "         metrics=[\"mse\"]                   \n",
        ")\n",
        "callback = [\n",
        "    EarlyStopping(patience=20, restore_best_weights=True),\n",
        "    ModelCheckpoint(\"regressor.h5\", save_best_only=True)\n",
        "]\n",
        "regressor.fit(x_train, y_train, epochs=200, batch_size=40, validation_split=0.1, callbacks=callback)"
      ],
      "execution_count": 101,
      "outputs": [
        {
          "output_type": "stream",
          "text": [
            "Epoch 1/200\n",
            "129/129 [==============================] - 15s 110ms/step - loss: 0.0251 - mse: 0.0251 - val_loss: 0.0104 - val_mse: 0.0104\n",
            "Epoch 2/200\n",
            "129/129 [==============================] - 14s 109ms/step - loss: 0.0042 - mse: 0.0042 - val_loss: 0.0031 - val_mse: 0.0031\n",
            "Epoch 3/200\n",
            "129/129 [==============================] - 14s 111ms/step - loss: 0.0029 - mse: 0.0029 - val_loss: 0.0026 - val_mse: 0.0026\n",
            "Epoch 4/200\n",
            "129/129 [==============================] - 14s 106ms/step - loss: 0.0026 - mse: 0.0026 - val_loss: 0.0024 - val_mse: 0.0024\n",
            "Epoch 5/200\n",
            "129/129 [==============================] - 14s 110ms/step - loss: 0.0025 - mse: 0.0025 - val_loss: 0.0023 - val_mse: 0.0023\n",
            "Epoch 6/200\n",
            "129/129 [==============================] - 14s 111ms/step - loss: 0.0024 - mse: 0.0024 - val_loss: 0.0022 - val_mse: 0.0022\n",
            "Epoch 7/200\n",
            "129/129 [==============================] - 14s 110ms/step - loss: 0.0024 - mse: 0.0024 - val_loss: 0.0024 - val_mse: 0.0024\n",
            "Epoch 8/200\n",
            "129/129 [==============================] - 14s 108ms/step - loss: 0.0023 - mse: 0.0023 - val_loss: 0.0020 - val_mse: 0.0020\n",
            "Epoch 9/200\n",
            "129/129 [==============================] - 14s 109ms/step - loss: 0.0021 - mse: 0.0021 - val_loss: 0.0020 - val_mse: 0.0020\n",
            "Epoch 10/200\n",
            "129/129 [==============================] - 14s 109ms/step - loss: 0.0021 - mse: 0.0021 - val_loss: 0.0021 - val_mse: 0.0021\n",
            "Epoch 11/200\n",
            "129/129 [==============================] - 14s 108ms/step - loss: 0.0020 - mse: 0.0020 - val_loss: 0.0019 - val_mse: 0.0019\n",
            "Epoch 12/200\n",
            "129/129 [==============================] - 14s 106ms/step - loss: 0.0020 - mse: 0.0020 - val_loss: 0.0018 - val_mse: 0.0018\n",
            "Epoch 13/200\n",
            "129/129 [==============================] - 14s 108ms/step - loss: 0.0020 - mse: 0.0020 - val_loss: 0.0018 - val_mse: 0.0018\n",
            "Epoch 14/200\n",
            "129/129 [==============================] - 14s 110ms/step - loss: 0.0020 - mse: 0.0020 - val_loss: 0.0019 - val_mse: 0.0019\n",
            "Epoch 15/200\n",
            "129/129 [==============================] - 13s 104ms/step - loss: 0.0019 - mse: 0.0019 - val_loss: 0.0018 - val_mse: 0.0018\n",
            "Epoch 16/200\n",
            "129/129 [==============================] - 14s 105ms/step - loss: 0.0020 - mse: 0.0020 - val_loss: 0.0018 - val_mse: 0.0018\n",
            "Epoch 17/200\n",
            "129/129 [==============================] - 15s 113ms/step - loss: 0.0019 - mse: 0.0019 - val_loss: 0.0019 - val_mse: 0.0019\n",
            "Epoch 18/200\n",
            "129/129 [==============================] - 14s 107ms/step - loss: 0.0018 - mse: 0.0018 - val_loss: 0.0019 - val_mse: 0.0019\n",
            "Epoch 19/200\n",
            "129/129 [==============================] - 14s 109ms/step - loss: 0.0019 - mse: 0.0019 - val_loss: 0.0017 - val_mse: 0.0017\n",
            "Epoch 20/200\n",
            "129/129 [==============================] - 14s 108ms/step - loss: 0.0018 - mse: 0.0018 - val_loss: 0.0020 - val_mse: 0.0020\n",
            "Epoch 21/200\n",
            "129/129 [==============================] - 14s 108ms/step - loss: 0.0018 - mse: 0.0018 - val_loss: 0.0017 - val_mse: 0.0017\n",
            "Epoch 22/200\n",
            "129/129 [==============================] - 13s 104ms/step - loss: 0.0018 - mse: 0.0018 - val_loss: 0.0017 - val_mse: 0.0017\n",
            "Epoch 23/200\n",
            "129/129 [==============================] - 14s 106ms/step - loss: 0.0018 - mse: 0.0018 - val_loss: 0.0017 - val_mse: 0.0017\n",
            "Epoch 24/200\n",
            "129/129 [==============================] - 14s 108ms/step - loss: 0.0018 - mse: 0.0018 - val_loss: 0.0017 - val_mse: 0.0017\n",
            "Epoch 25/200\n",
            "129/129 [==============================] - 14s 106ms/step - loss: 0.0018 - mse: 0.0018 - val_loss: 0.0017 - val_mse: 0.0017\n",
            "Epoch 26/200\n",
            "129/129 [==============================] - 14s 109ms/step - loss: 0.0018 - mse: 0.0018 - val_loss: 0.0017 - val_mse: 0.0017\n",
            "Epoch 27/200\n",
            "129/129 [==============================] - 13s 105ms/step - loss: 0.0018 - mse: 0.0018 - val_loss: 0.0019 - val_mse: 0.0019\n",
            "Epoch 28/200\n",
            "129/129 [==============================] - 14s 111ms/step - loss: 0.0018 - mse: 0.0018 - val_loss: 0.0017 - val_mse: 0.0017\n",
            "Epoch 29/200\n",
            "129/129 [==============================] - 14s 106ms/step - loss: 0.0019 - mse: 0.0019 - val_loss: 0.0018 - val_mse: 0.0018\n",
            "Epoch 30/200\n",
            "129/129 [==============================] - 14s 106ms/step - loss: 0.0018 - mse: 0.0018 - val_loss: 0.0017 - val_mse: 0.0017\n",
            "Epoch 31/200\n",
            "129/129 [==============================] - 14s 111ms/step - loss: 0.0018 - mse: 0.0018 - val_loss: 0.0017 - val_mse: 0.0017\n",
            "Epoch 32/200\n",
            "129/129 [==============================] - 14s 109ms/step - loss: 0.0018 - mse: 0.0018 - val_loss: 0.0020 - val_mse: 0.0020\n",
            "Epoch 33/200\n",
            "129/129 [==============================] - 14s 107ms/step - loss: 0.0018 - mse: 0.0018 - val_loss: 0.0019 - val_mse: 0.0019\n",
            "Epoch 34/200\n",
            "129/129 [==============================] - 14s 107ms/step - loss: 0.0017 - mse: 0.0017 - val_loss: 0.0017 - val_mse: 0.0017\n",
            "Epoch 35/200\n",
            "129/129 [==============================] - 14s 110ms/step - loss: 0.0018 - mse: 0.0018 - val_loss: 0.0025 - val_mse: 0.0025\n",
            "Epoch 36/200\n",
            "129/129 [==============================] - 14s 106ms/step - loss: 0.0018 - mse: 0.0018 - val_loss: 0.0018 - val_mse: 0.0018\n",
            "Epoch 37/200\n",
            "129/129 [==============================] - 14s 107ms/step - loss: 0.0018 - mse: 0.0018 - val_loss: 0.0018 - val_mse: 0.0018\n",
            "Epoch 38/200\n",
            "129/129 [==============================] - 14s 107ms/step - loss: 0.0018 - mse: 0.0018 - val_loss: 0.0019 - val_mse: 0.0019\n",
            "Epoch 39/200\n",
            "129/129 [==============================] - 14s 107ms/step - loss: 0.0018 - mse: 0.0018 - val_loss: 0.0018 - val_mse: 0.0018\n",
            "Epoch 40/200\n",
            "129/129 [==============================] - 14s 109ms/step - loss: 0.0018 - mse: 0.0018 - val_loss: 0.0025 - val_mse: 0.0025\n",
            "Epoch 41/200\n",
            "129/129 [==============================] - 14s 108ms/step - loss: 0.0018 - mse: 0.0018 - val_loss: 0.0017 - val_mse: 0.0017\n",
            "Epoch 42/200\n",
            "129/129 [==============================] - 14s 107ms/step - loss: 0.0018 - mse: 0.0018 - val_loss: 0.0018 - val_mse: 0.0018\n",
            "Epoch 43/200\n",
            "129/129 [==============================] - 14s 112ms/step - loss: 0.0017 - mse: 0.0017 - val_loss: 0.0018 - val_mse: 0.0018\n",
            "Epoch 44/200\n",
            "129/129 [==============================] - 14s 105ms/step - loss: 0.0017 - mse: 0.0017 - val_loss: 0.0019 - val_mse: 0.0019\n",
            "Epoch 45/200\n",
            "129/129 [==============================] - 14s 108ms/step - loss: 0.0018 - mse: 0.0018 - val_loss: 0.0017 - val_mse: 0.0017\n",
            "Epoch 46/200\n",
            "129/129 [==============================] - 14s 110ms/step - loss: 0.0018 - mse: 0.0018 - val_loss: 0.0018 - val_mse: 0.0018\n",
            "Epoch 47/200\n",
            "129/129 [==============================] - 14s 109ms/step - loss: 0.0018 - mse: 0.0018 - val_loss: 0.0020 - val_mse: 0.0020\n",
            "Epoch 48/200\n",
            "129/129 [==============================] - 14s 107ms/step - loss: 0.0018 - mse: 0.0018 - val_loss: 0.0019 - val_mse: 0.0019\n",
            "Epoch 49/200\n",
            "129/129 [==============================] - 14s 109ms/step - loss: 0.0017 - mse: 0.0017 - val_loss: 0.0018 - val_mse: 0.0018\n",
            "Epoch 50/200\n",
            "129/129 [==============================] - 14s 108ms/step - loss: 0.0018 - mse: 0.0018 - val_loss: 0.0018 - val_mse: 0.0018\n",
            "Epoch 51/200\n",
            "129/129 [==============================] - 14s 106ms/step - loss: 0.0017 - mse: 0.0017 - val_loss: 0.0017 - val_mse: 0.0017\n"
          ],
          "name": "stdout"
        },
        {
          "output_type": "execute_result",
          "data": {
            "text/plain": [
              "<tensorflow.python.keras.callbacks.History at 0x7f41eaa50ad0>"
            ]
          },
          "metadata": {
            "tags": []
          },
          "execution_count": 101
        }
      ]
    },
    {
      "cell_type": "code",
      "metadata": {
        "id": "7xUATsN6i9u6"
      },
      "source": [
        "plt.plot(regressor.regressor['loss'], color = 'red')\n",
        "plt.plot(regressor.regressor['val_loss'], color = 'bule')"
      ],
      "execution_count": null,
      "outputs": []
    },
    {
      "cell_type": "code",
      "metadata": {
        "colab": {
          "base_uri": "https://localhost:8080/",
          "height": 419
        },
        "id": "IToWdK6qlAvc",
        "outputId": "fdcbea02-ec68-4c5a-b52a-1d7bc72631ea"
      },
      "source": [
        "past_60_days = data[data[\"Date\"] < \"2019-01-01\"].tail(time_step)\n",
        "df = past_60_days.append(data_test, ignore_index = True)\n",
        "df = df.drop([\"Date\", \"Market\", \"Product\", \"Month\", \"Week_day\", \"Year\", \"Rest_day\"], axis=1)\n",
        "df"
      ],
      "execution_count": 102,
      "outputs": [
        {
          "output_type": "execute_result",
          "data": {
            "text/html": [
              "<div>\n",
              "<style scoped>\n",
              "    .dataframe tbody tr th:only-of-type {\n",
              "        vertical-align: middle;\n",
              "    }\n",
              "\n",
              "    .dataframe tbody tr th {\n",
              "        vertical-align: top;\n",
              "    }\n",
              "\n",
              "    .dataframe thead th {\n",
              "        text-align: right;\n",
              "    }\n",
              "</style>\n",
              "<table border=\"1\" class=\"dataframe\">\n",
              "  <thead>\n",
              "    <tr style=\"text-align: right;\">\n",
              "      <th></th>\n",
              "      <th>Up_price</th>\n",
              "      <th>Mid_price</th>\n",
              "      <th>Low_price</th>\n",
              "      <th>Avg_price</th>\n",
              "      <th>Volume</th>\n",
              "    </tr>\n",
              "  </thead>\n",
              "  <tbody>\n",
              "    <tr>\n",
              "      <th>0</th>\n",
              "      <td>38.2</td>\n",
              "      <td>27.1</td>\n",
              "      <td>18.4</td>\n",
              "      <td>27.6</td>\n",
              "      <td>53680.0</td>\n",
              "    </tr>\n",
              "    <tr>\n",
              "      <th>1</th>\n",
              "      <td>35.9</td>\n",
              "      <td>24.9</td>\n",
              "      <td>14.4</td>\n",
              "      <td>25.0</td>\n",
              "      <td>49751.0</td>\n",
              "    </tr>\n",
              "    <tr>\n",
              "      <th>2</th>\n",
              "      <td>34.5</td>\n",
              "      <td>25.7</td>\n",
              "      <td>13.2</td>\n",
              "      <td>25.0</td>\n",
              "      <td>44050.0</td>\n",
              "    </tr>\n",
              "    <tr>\n",
              "      <th>3</th>\n",
              "      <td>33.4</td>\n",
              "      <td>24.6</td>\n",
              "      <td>13.6</td>\n",
              "      <td>24.1</td>\n",
              "      <td>47880.0</td>\n",
              "    </tr>\n",
              "    <tr>\n",
              "      <th>4</th>\n",
              "      <td>36.0</td>\n",
              "      <td>23.3</td>\n",
              "      <td>14.4</td>\n",
              "      <td>24.0</td>\n",
              "      <td>49032.0</td>\n",
              "    </tr>\n",
              "    <tr>\n",
              "      <th>...</th>\n",
              "      <td>...</td>\n",
              "      <td>...</td>\n",
              "      <td>...</td>\n",
              "      <td>...</td>\n",
              "      <td>...</td>\n",
              "    </tr>\n",
              "    <tr>\n",
              "      <th>786</th>\n",
              "      <td>23.0</td>\n",
              "      <td>15.6</td>\n",
              "      <td>6.2</td>\n",
              "      <td>15.2</td>\n",
              "      <td>174973.0</td>\n",
              "    </tr>\n",
              "    <tr>\n",
              "      <th>787</th>\n",
              "      <td>27.4</td>\n",
              "      <td>21.4</td>\n",
              "      <td>13.6</td>\n",
              "      <td>21.0</td>\n",
              "      <td>128693.0</td>\n",
              "    </tr>\n",
              "    <tr>\n",
              "      <th>788</th>\n",
              "      <td>21.8</td>\n",
              "      <td>15.0</td>\n",
              "      <td>8.5</td>\n",
              "      <td>15.1</td>\n",
              "      <td>96289.0</td>\n",
              "    </tr>\n",
              "    <tr>\n",
              "      <th>789</th>\n",
              "      <td>21.9</td>\n",
              "      <td>15.2</td>\n",
              "      <td>8.1</td>\n",
              "      <td>15.1</td>\n",
              "      <td>148701.0</td>\n",
              "    </tr>\n",
              "    <tr>\n",
              "      <th>790</th>\n",
              "      <td>21.1</td>\n",
              "      <td>15.6</td>\n",
              "      <td>9.4</td>\n",
              "      <td>15.5</td>\n",
              "      <td>153571.0</td>\n",
              "    </tr>\n",
              "  </tbody>\n",
              "</table>\n",
              "<p>791 rows × 5 columns</p>\n",
              "</div>"
            ],
            "text/plain": [
              "     Up_price  Mid_price  Low_price  Avg_price    Volume\n",
              "0        38.2       27.1       18.4       27.6   53680.0\n",
              "1        35.9       24.9       14.4       25.0   49751.0\n",
              "2        34.5       25.7       13.2       25.0   44050.0\n",
              "3        33.4       24.6       13.6       24.1   47880.0\n",
              "4        36.0       23.3       14.4       24.0   49032.0\n",
              "..        ...        ...        ...        ...       ...\n",
              "786      23.0       15.6        6.2       15.2  174973.0\n",
              "787      27.4       21.4       13.6       21.0  128693.0\n",
              "788      21.8       15.0        8.5       15.1   96289.0\n",
              "789      21.9       15.2        8.1       15.1  148701.0\n",
              "790      21.1       15.6        9.4       15.5  153571.0\n",
              "\n",
              "[791 rows x 5 columns]"
            ]
          },
          "metadata": {
            "tags": []
          },
          "execution_count": 102
        }
      ]
    },
    {
      "cell_type": "code",
      "metadata": {
        "id": "yriZTYBcl57c"
      },
      "source": [
        "real_avg_price = np.array(df.iloc[time_step:][\"Avg_price\"]).reshape(-1,1)\n",
        "ytest = np.array(df[\"Avg_price\"]).reshape(-1,1)\n",
        "x_inputs = Xscaler.transform(df.drop([\"Avg_price\"], axis=1))\n",
        "y_inputs = Yscaler.transform(ytest)"
      ],
      "execution_count": 103,
      "outputs": []
    },
    {
      "cell_type": "code",
      "metadata": {
        "id": "h_w3Cy795J43"
      },
      "source": [
        "inputs = np.concatenate((x_inputs, y_inputs), axis=1)"
      ],
      "execution_count": 104,
      "outputs": []
    },
    {
      "cell_type": "code",
      "metadata": {
        "id": "rc3ClSFemAES"
      },
      "source": [
        "x_test = []\n",
        "y_test = []\n",
        "time_step = 60\n",
        "for i in range(len(inputs) - time_step):\n",
        "  x_test.append(inputs[i:(i+time_step)])\n",
        "  y_test.append(inputs[(i+time_step)][-1])\n",
        "yy = y_test\n",
        "x_test, y_test = np.array(x_test), np.array(y_test).reshape(-1,1)"
      ],
      "execution_count": 105,
      "outputs": []
    },
    {
      "cell_type": "code",
      "metadata": {
        "id": "6_MlX5bxoLC9"
      },
      "source": [
        "pre_price = regressor.predict(x_test)\n",
        "pre_price = Yscaler.inverse_transform(pre_price)"
      ],
      "execution_count": 106,
      "outputs": []
    },
    {
      "cell_type": "code",
      "metadata": {
        "colab": {
          "base_uri": "https://localhost:8080/",
          "height": 350
        },
        "id": "aoj0t9rbBTu2",
        "outputId": "811f5378-3588-47d6-86e9-336562797e9c"
      },
      "source": [
        "# Visualising the results\n",
        "plt.figure(figsize=(14,5))\n",
        "plt.plot(real_avg_price[50:250], color = 'red', label = 'Real Cabbage Price')\n",
        "plt.plot(pre_price[50:250], color = 'blue', label = 'Predicted Cabbage Price')\n",
        "plt.title('Cabbage Price Prediction')\n",
        "plt.xlabel('Time')\n",
        "plt.ylabel('Cabbage Price')\n",
        "plt.legend()\n",
        "plt.show()"
      ],
      "execution_count": 110,
      "outputs": [
        {
          "output_type": "display_data",
          "data": {
            "image/png": "[encoded data removed]",
            "text/plain": [
              "<Figure size 1008x360 with 1 Axes>"
            ]
          },
          "metadata": {
            "tags": [],
            "needs_background": "light"
          }
        }
      ]
    }
  ]
}