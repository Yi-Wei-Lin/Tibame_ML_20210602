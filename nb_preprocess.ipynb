{
  "nbformat": 4,
  "nbformat_minor": 0,
  "metadata": {
    "colab": {
      "name": "nb_preprocess.ipynb",
      "provenance": [],
      "authorship_tag": "ABX9TyNztv6flzXLmWgs7JcNtE55",
      "include_colab_link": true
    },
    "kernelspec": {
      "name": "python3",
      "display_name": "Python 3"
    },
    "language_info": {
      "name": "python"
    }
  },
  "cells": [
    {
      "cell_type": "markdown",
      "metadata": {
        "id": "view-in-github",
        "colab_type": "text"
      },
      "source": [
        "<a href=\"https://colab.research.google.com/github/Yi-Wei-Lin/Tibame_ML_20210602/blob/main/nb_preprocess.ipynb\" target=\"_parent\"><img src=\"https://colab.research.google.com/assets/colab-badge.svg\" alt=\"Open In Colab\"/></a>"
      ]
    },
    {
      "cell_type": "code",
      "metadata": {
        "colab": {
          "base_uri": "https://localhost:8080/"
        },
        "id": "hSDydM4_WroY",
        "outputId": "7dcc6055-64db-4e1c-dd96-dff900feb561"
      },
      "source": [
        "!pip install opencc-python-reimplemented\n",
        "!pip install jieba"
      ],
      "execution_count": 12,
      "outputs": [
        {
          "output_type": "stream",
          "text": [
            "Requirement already satisfied: opencc-python-reimplemented in /usr/local/lib/python3.7/dist-packages (0.1.6)\n",
            "Requirement already satisfied: jieba in /usr/local/lib/python3.7/dist-packages (0.42.1)\n"
          ],
          "name": "stdout"
        }
      ]
    },
    {
      "cell_type": "code",
      "metadata": {
        "id": "fETB2DQDX5EV"
      },
      "source": [
        "to_convert = \"\"\"训练词向量等一些任务的时候，往往需要一些较大规模的中文语料，而维基百科语料是一个很好的选择。维基百科每段时间都会备份数据，我们可以选择不同时间段的语料来下载使用。​\n",
        "\n",
        "1.下载维基百科语料\n",
        "下面就是维基百科的语料的下载地址：\n",
        "\"\"\""
      ],
      "execution_count": 13,
      "outputs": []
    },
    {
      "cell_type": "code",
      "metadata": {
        "colab": {
          "base_uri": "https://localhost:8080/",
          "height": 69
        },
        "id": "QIW6emizXPTf",
        "outputId": "42dc5fea-b926-43ca-a699-ed57a80259d9"
      },
      "source": [
        "from opencc import OpenCC\n",
        "cc = OpenCC('s2tw')\n",
        "converted = cc.convert(to_convert)\n",
        "converted"
      ],
      "execution_count": 14,
      "outputs": [
        {
          "output_type": "execute_result",
          "data": {
            "application/vnd.google.colaboratory.intrinsic+json": {
              "type": "string"
            },
            "text/plain": [
              "'訓練詞向量等一些任務的時候，往往需要一些較大規模的中文語料，而維基百科語料是一個很好的選擇。維基百科每段時間都會備份數據，我們可以選擇不同時間段的語料來下載使用。\\u200b\\n\\n1.下載維基百科語料\\n下面就是維基百科的語料的下載地址：\\n'"
            ]
          },
          "metadata": {
            "tags": []
          },
          "execution_count": 14
        }
      ]
    },
    {
      "cell_type": "code",
      "metadata": {
        "colab": {
          "base_uri": "https://localhost:8080/",
          "height": 220
        },
        "id": "R4_4cQF0doMo",
        "outputId": "d2afff64-7470-4ff2-8301-45980f372ff4"
      },
      "source": [
        "with open(\"./news.txt\", \"r\", encoding=\"utf-8\") as f:\n",
        "  content = f.read()\n",
        "content"
      ],
      "execution_count": 15,
      "outputs": [
        {
          "output_type": "execute_result",
          "data": {
            "application/vnd.google.colaboratory.intrinsic+json": {
              "type": "string"
            },
            "text/plain": [
              "'侯友宜表示，能用身分證分流就用身分證分流，也有的攤商自主輪流休息，也有市場是嚴格管理不讓汽機車進去，他強調，各市場用因地制宜來分流，能有效控管做重要，他也派警察、區公所、市場處，全力嚴格在市場執行分流，讓菜市場裡面能夠管控適當的人潮來採買。\\n20210608-新北市長侯友宜8日上午視察物流中心防疫情形。（新北市政府提供）\\n新北市長侯友宜（右）8日上午視察物流中心防疫情形。（新北市政府提供）\\n侯友宜上午前往視察物流公司，他說明，最近因為市民採買習慣做改變，加上端午節宅在家，很多都要靠物流的配送，光是冷藏貨物就增加1倍、一般配送則增加3成。他強調，物流人員跟市民都會接觸，在防疫期間採物流不上樓零接觸，這是防疫的重要一環，市民要多包容。他也看到業者採科技化的配送，跟客戶用簡訊、用QR Code來做傳遞，貨送到、零接觸，保護員工也保護客戶。\\n\\n侯友宜指出，這段時間他很關切新北市100人以上的1073家企業，要求他們除了落實防疫以外，也要有快篩、疫調的負責同仁，尤其對本國籍、外籍勞工都有要快篩機制，市府也提供一個平台讓企業能自費購買，並建立後端醫療因應，還有後面安排的防疫旅館，市府跟企業一起合作，讓企業能夠安心、員工能夠安心。'"
            ]
          },
          "metadata": {
            "tags": []
          },
          "execution_count": 15
        }
      ]
    },
    {
      "cell_type": "code",
      "metadata": {
        "colab": {
          "base_uri": "https://localhost:8080/"
        },
        "id": "4BM3CENxggCn",
        "outputId": "07e85414-f830-422e-f508-9357a00cdc61"
      },
      "source": [
        "import jieba.analyse\n",
        "# topK:None (全部列出, 高排到低)\n",
        "# jieba.analyse.extract_tags(content)\n",
        "print(jieba.analyse.extract_tags(content))\n",
        "print(jieba.analyse.extract_tags(content, topK=5, allowPOS=[\"ns\",\"nr\"]))"
      ],
      "execution_count": 19,
      "outputs": [
        {
          "output_type": "stream",
          "text": [
            "['防疫', '侯友宜', '企業', '物流', '市場', '新北市', '視察', '分流', '配送', '嚴格', '強調', '能夠', '採買', '新北', '接觸', '客戶', '市府', '上午', '市民', '安心']\n",
            "['侯友宜', '新北', '新北市', '同仁']\n"
          ],
          "name": "stdout"
        }
      ]
    }
  ]
}