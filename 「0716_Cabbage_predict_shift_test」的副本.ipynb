{
  "nbformat": 4,
  "nbformat_minor": 0,
  "metadata": {
    "colab": {
      "name": "「0716_Cabbage_predict_shift_test」的副本",
      "provenance": [],
      "collapsed_sections": [],
      "mount_file_id": "15T-UAC8u1QIEcE21gvJ32LVQumO74Zys",
      "authorship_tag": "ABX9TyOvEsKAGvDv+gyNLPl9J5JB",
      "include_colab_link": true
    },
    "kernelspec": {
      "name": "python3",
      "display_name": "Python 3"
    },
    "language_info": {
      "name": "python"
    },
    "accelerator": "GPU"
  },
  "cells": [
    {
      "cell_type": "markdown",
      "metadata": {
        "id": "view-in-github",
        "colab_type": "text"
      },
      "source": [
        "<a href=\"https://colab.research.google.com/github/Yi-Wei-Lin/Tibame_ML_20210602/blob/main/%E3%80%8C0716_Cabbage_predict_shift_test%E3%80%8D%E7%9A%84%E5%89%AF%E6%9C%AC.ipynb\" target=\"_parent\"><img src=\"https://colab.research.google.com/assets/colab-badge.svg\" alt=\"Open In Colab\"/></a>"
      ]
    },
    {
      "cell_type": "code",
      "metadata": {
        "id": "i1kIpPvPSBU9"
      },
      "source": [
        "import numpy as np\n",
        "import matplotlib.pyplot as plt\n",
        "import pandas as pd\n",
        "from sklearn.preprocessing import MinMaxScaler"
      ],
      "execution_count": 556,
      "outputs": []
    },
    {
      "cell_type": "code",
      "metadata": {
        "colab": {
          "base_uri": "https://localhost:8080/"
        },
        "id": "zh46xYK8lpbl",
        "outputId": "2bd0fc90-194b-4f73-ad04-1bf7b75974ef"
      },
      "source": [
        "from google.colab import drive\n",
        "drive.mount('/content/drive')"
      ],
      "execution_count": 557,
      "outputs": [
        {
          "output_type": "stream",
          "text": [
            "Drive already mounted at /content/drive; to attempt to forcibly remount, call drive.mount(\"/content/drive\", force_remount=True).\n"
          ],
          "name": "stdout"
        }
      ]
    },
    {
      "cell_type": "code",
      "metadata": {
        "id": "0fNFBa0VTW1i"
      },
      "source": [
        "# data = pd.read_excel(\"Cabbage.xlsx\")\n",
        "data = pd.read_excel(\"/content/drive/MyDrive/市場批發交易歷史資料/Cabbage.xlsx\")"
      ],
      "execution_count": 558,
      "outputs": []
    },
    {
      "cell_type": "code",
      "metadata": {
        "colab": {
          "base_uri": "https://localhost:8080/"
        },
        "id": "XJ3h7hWdT2l7",
        "outputId": "b6452237-83e4-42b0-8acd-126d740f3850"
      },
      "source": [
        "data = data.dropna()\n",
        "data = data.loc[data[\"Market\"] == \"台北一\"]\n",
        "np.array(data[\"Avg_price\"]).reshape(-1,1)"
      ],
      "execution_count": 559,
      "outputs": [
        {
          "output_type": "execute_result",
          "data": {
            "text/plain": [
              "array([[ 8.9],\n",
              "       [ 7.2],\n",
              "       [ 6.7],\n",
              "       ...,\n",
              "       [15.1],\n",
              "       [15.1],\n",
              "       [15.5]])"
            ]
          },
          "metadata": {
            "tags": []
          },
          "execution_count": 559
        }
      ]
    },
    {
      "cell_type": "code",
      "metadata": {
        "id": "c-e9EOm0WIuS"
      },
      "source": [
        "# data_train = data[data[\"Date\"] < \"2019-01-01\"]\n",
        "# data_test = data[data[\"Date\"] >= \"2019-01-01\"]\n",
        "data_train = data"
      ],
      "execution_count": 560,
      "outputs": []
    },
    {
      "cell_type": "code",
      "metadata": {
        "colab": {
          "base_uri": "https://localhost:8080/",
          "height": 407
        },
        "id": "PHkweN_gW84H",
        "outputId": "e1737383-6a26-4462-a351-fc66beea596e"
      },
      "source": [
        "data_train = data_train.drop([\"Date\",\"Market\", \"Product\", \"Month\", \"Week_day\", \"Year\", \"Rest_day\"], axis=1)\n",
        "data_train"
      ],
      "execution_count": 561,
      "outputs": [
        {
          "output_type": "execute_result",
          "data": {
            "text/html": [
              "<div>\n",
              "<style scoped>\n",
              "    .dataframe tbody tr th:only-of-type {\n",
              "        vertical-align: middle;\n",
              "    }\n",
              "\n",
              "    .dataframe tbody tr th {\n",
              "        vertical-align: top;\n",
              "    }\n",
              "\n",
              "    .dataframe thead th {\n",
              "        text-align: right;\n",
              "    }\n",
              "</style>\n",
              "<table border=\"1\" class=\"dataframe\">\n",
              "  <thead>\n",
              "    <tr style=\"text-align: right;\">\n",
              "      <th></th>\n",
              "      <th>Up_price</th>\n",
              "      <th>Mid_price</th>\n",
              "      <th>Low_price</th>\n",
              "      <th>Avg_price</th>\n",
              "      <th>Volume</th>\n",
              "    </tr>\n",
              "  </thead>\n",
              "  <tbody>\n",
              "    <tr>\n",
              "      <th>39204</th>\n",
              "      <td>11.0</td>\n",
              "      <td>8.0</td>\n",
              "      <td>5.0</td>\n",
              "      <td>8.9</td>\n",
              "      <td>192029.0</td>\n",
              "    </tr>\n",
              "    <tr>\n",
              "      <th>39205</th>\n",
              "      <td>9.0</td>\n",
              "      <td>7.0</td>\n",
              "      <td>4.0</td>\n",
              "      <td>7.2</td>\n",
              "      <td>174270.0</td>\n",
              "    </tr>\n",
              "    <tr>\n",
              "      <th>39206</th>\n",
              "      <td>8.0</td>\n",
              "      <td>6.0</td>\n",
              "      <td>3.0</td>\n",
              "      <td>6.7</td>\n",
              "      <td>125426.0</td>\n",
              "    </tr>\n",
              "    <tr>\n",
              "      <th>39207</th>\n",
              "      <td>10.0</td>\n",
              "      <td>7.0</td>\n",
              "      <td>4.0</td>\n",
              "      <td>7.1</td>\n",
              "      <td>119318.0</td>\n",
              "    </tr>\n",
              "    <tr>\n",
              "      <th>39208</th>\n",
              "      <td>9.0</td>\n",
              "      <td>7.0</td>\n",
              "      <td>5.0</td>\n",
              "      <td>6.8</td>\n",
              "      <td>118178.0</td>\n",
              "    </tr>\n",
              "    <tr>\n",
              "      <th>...</th>\n",
              "      <td>...</td>\n",
              "      <td>...</td>\n",
              "      <td>...</td>\n",
              "      <td>...</td>\n",
              "      <td>...</td>\n",
              "    </tr>\n",
              "    <tr>\n",
              "      <th>47037</th>\n",
              "      <td>23.0</td>\n",
              "      <td>15.6</td>\n",
              "      <td>6.2</td>\n",
              "      <td>15.2</td>\n",
              "      <td>174973.0</td>\n",
              "    </tr>\n",
              "    <tr>\n",
              "      <th>47038</th>\n",
              "      <td>27.4</td>\n",
              "      <td>21.4</td>\n",
              "      <td>13.6</td>\n",
              "      <td>21.0</td>\n",
              "      <td>128693.0</td>\n",
              "    </tr>\n",
              "    <tr>\n",
              "      <th>47041</th>\n",
              "      <td>21.8</td>\n",
              "      <td>15.0</td>\n",
              "      <td>8.5</td>\n",
              "      <td>15.1</td>\n",
              "      <td>96289.0</td>\n",
              "    </tr>\n",
              "    <tr>\n",
              "      <th>47042</th>\n",
              "      <td>21.9</td>\n",
              "      <td>15.2</td>\n",
              "      <td>8.1</td>\n",
              "      <td>15.1</td>\n",
              "      <td>148701.0</td>\n",
              "    </tr>\n",
              "    <tr>\n",
              "      <th>47043</th>\n",
              "      <td>21.1</td>\n",
              "      <td>15.6</td>\n",
              "      <td>9.4</td>\n",
              "      <td>15.5</td>\n",
              "      <td>153571.0</td>\n",
              "    </tr>\n",
              "  </tbody>\n",
              "</table>\n",
              "<p>6502 rows × 5 columns</p>\n",
              "</div>"
            ],
            "text/plain": [
              "       Up_price  Mid_price  Low_price  Avg_price    Volume\n",
              "39204      11.0        8.0        5.0        8.9  192029.0\n",
              "39205       9.0        7.0        4.0        7.2  174270.0\n",
              "39206       8.0        6.0        3.0        6.7  125426.0\n",
              "39207      10.0        7.0        4.0        7.1  119318.0\n",
              "39208       9.0        7.0        5.0        6.8  118178.0\n",
              "...         ...        ...        ...        ...       ...\n",
              "47037      23.0       15.6        6.2       15.2  174973.0\n",
              "47038      27.4       21.4       13.6       21.0  128693.0\n",
              "47041      21.8       15.0        8.5       15.1   96289.0\n",
              "47042      21.9       15.2        8.1       15.1  148701.0\n",
              "47043      21.1       15.6        9.4       15.5  153571.0\n",
              "\n",
              "[6502 rows x 5 columns]"
            ]
          },
          "metadata": {
            "tags": []
          },
          "execution_count": 561
        }
      ]
    },
    {
      "cell_type": "code",
      "metadata": {
        "id": "JO-5YfElYQcK"
      },
      "source": [
        "# from tensorflow.keras.utils import to_categorical\n",
        "# pd.DataFrame(to_categorical(data_train[\"Month\"]))\n",
        "feature = data_train.shape[1]"
      ],
      "execution_count": 562,
      "outputs": []
    },
    {
      "cell_type": "code",
      "metadata": {
        "id": "buVZWLuxugIA"
      },
      "source": [
        "# preparing label data\n",
        "past = 30\n",
        "day = 1\n",
        "Cabbage_shift = data_train.shift(-day)\n",
        "label = Cabbage_shift['Avg_price']\n",
        "\n",
        "# adjusting the shape of both\n",
        "data_train = data_train.drop(data_train.index[len(data_train)-day:], axis=0)\n",
        "label = label.drop(label.index[len(label)-day:], axis=0)\n",
        "\n",
        "# conversion to numpy array\n",
        "x, y = data_train.values, label.values"
      ],
      "execution_count": 563,
      "outputs": []
    },
    {
      "cell_type": "code",
      "metadata": {
        "colab": {
          "base_uri": "https://localhost:8080/",
          "height": 348
        },
        "id": "qQlzAyaj5vC2",
        "outputId": "335cda36-3377-4845-8cf2-de8e10e31bbd"
      },
      "source": [
        "data_train.head(10)"
      ],
      "execution_count": 564,
      "outputs": [
        {
          "output_type": "execute_result",
          "data": {
            "text/html": [
              "<div>\n",
              "<style scoped>\n",
              "    .dataframe tbody tr th:only-of-type {\n",
              "        vertical-align: middle;\n",
              "    }\n",
              "\n",
              "    .dataframe tbody tr th {\n",
              "        vertical-align: top;\n",
              "    }\n",
              "\n",
              "    .dataframe thead th {\n",
              "        text-align: right;\n",
              "    }\n",
              "</style>\n",
              "<table border=\"1\" class=\"dataframe\">\n",
              "  <thead>\n",
              "    <tr style=\"text-align: right;\">\n",
              "      <th></th>\n",
              "      <th>Up_price</th>\n",
              "      <th>Mid_price</th>\n",
              "      <th>Low_price</th>\n",
              "      <th>Avg_price</th>\n",
              "      <th>Volume</th>\n",
              "    </tr>\n",
              "  </thead>\n",
              "  <tbody>\n",
              "    <tr>\n",
              "      <th>39204</th>\n",
              "      <td>11.0</td>\n",
              "      <td>8.0</td>\n",
              "      <td>5.0</td>\n",
              "      <td>8.9</td>\n",
              "      <td>192029.0</td>\n",
              "    </tr>\n",
              "    <tr>\n",
              "      <th>39205</th>\n",
              "      <td>9.0</td>\n",
              "      <td>7.0</td>\n",
              "      <td>4.0</td>\n",
              "      <td>7.2</td>\n",
              "      <td>174270.0</td>\n",
              "    </tr>\n",
              "    <tr>\n",
              "      <th>39206</th>\n",
              "      <td>8.0</td>\n",
              "      <td>6.0</td>\n",
              "      <td>3.0</td>\n",
              "      <td>6.7</td>\n",
              "      <td>125426.0</td>\n",
              "    </tr>\n",
              "    <tr>\n",
              "      <th>39207</th>\n",
              "      <td>10.0</td>\n",
              "      <td>7.0</td>\n",
              "      <td>4.0</td>\n",
              "      <td>7.1</td>\n",
              "      <td>119318.0</td>\n",
              "    </tr>\n",
              "    <tr>\n",
              "      <th>39208</th>\n",
              "      <td>9.0</td>\n",
              "      <td>7.0</td>\n",
              "      <td>5.0</td>\n",
              "      <td>6.8</td>\n",
              "      <td>118178.0</td>\n",
              "    </tr>\n",
              "    <tr>\n",
              "      <th>39209</th>\n",
              "      <td>9.0</td>\n",
              "      <td>7.0</td>\n",
              "      <td>4.0</td>\n",
              "      <td>7.3</td>\n",
              "      <td>120262.0</td>\n",
              "    </tr>\n",
              "    <tr>\n",
              "      <th>39210</th>\n",
              "      <td>9.0</td>\n",
              "      <td>7.0</td>\n",
              "      <td>5.0</td>\n",
              "      <td>7.2</td>\n",
              "      <td>165885.0</td>\n",
              "    </tr>\n",
              "    <tr>\n",
              "      <th>39212</th>\n",
              "      <td>7.0</td>\n",
              "      <td>5.0</td>\n",
              "      <td>3.0</td>\n",
              "      <td>5.4</td>\n",
              "      <td>197586.0</td>\n",
              "    </tr>\n",
              "    <tr>\n",
              "      <th>39213</th>\n",
              "      <td>7.0</td>\n",
              "      <td>5.0</td>\n",
              "      <td>3.0</td>\n",
              "      <td>5.5</td>\n",
              "      <td>156800.0</td>\n",
              "    </tr>\n",
              "    <tr>\n",
              "      <th>39214</th>\n",
              "      <td>6.0</td>\n",
              "      <td>4.5</td>\n",
              "      <td>3.0</td>\n",
              "      <td>4.8</td>\n",
              "      <td>128598.0</td>\n",
              "    </tr>\n",
              "  </tbody>\n",
              "</table>\n",
              "</div>"
            ],
            "text/plain": [
              "       Up_price  Mid_price  Low_price  Avg_price    Volume\n",
              "39204      11.0        8.0        5.0        8.9  192029.0\n",
              "39205       9.0        7.0        4.0        7.2  174270.0\n",
              "39206       8.0        6.0        3.0        6.7  125426.0\n",
              "39207      10.0        7.0        4.0        7.1  119318.0\n",
              "39208       9.0        7.0        5.0        6.8  118178.0\n",
              "39209       9.0        7.0        4.0        7.3  120262.0\n",
              "39210       9.0        7.0        5.0        7.2  165885.0\n",
              "39212       7.0        5.0        3.0        5.4  197586.0\n",
              "39213       7.0        5.0        3.0        5.5  156800.0\n",
              "39214       6.0        4.5        3.0        4.8  128598.0"
            ]
          },
          "metadata": {
            "tags": []
          },
          "execution_count": 564
        }
      ]
    },
    {
      "cell_type": "code",
      "metadata": {
        "id": "9_kZM-707Bp2"
      },
      "source": [
        "X = []\n",
        "for i in range(len(data_train)-past-day+1):\n",
        "  xx = []\n",
        "  for d in range(past):\n",
        "    xx.append(data_train.iloc[i+d])\n",
        "  X.append(xx)\n",
        "X = np.array(X)"
      ],
      "execution_count": 565,
      "outputs": []
    },
    {
      "cell_type": "code",
      "metadata": {
        "colab": {
          "base_uri": "https://localhost:8080/"
        },
        "id": "2aWoArgnCELM",
        "outputId": "8bf6b634-1988-4fb6-d931-7b0670e4ab2f"
      },
      "source": [
        "X.shape"
      ],
      "execution_count": 566,
      "outputs": [
        {
          "output_type": "execute_result",
          "data": {
            "text/plain": [
              "(6471, 30, 5)"
            ]
          },
          "metadata": {
            "tags": []
          },
          "execution_count": 566
        }
      ]
    },
    {
      "cell_type": "code",
      "metadata": {
        "colab": {
          "base_uri": "https://localhost:8080/"
        },
        "id": "8n4wfTI56tab",
        "outputId": "aa8c478b-86fc-4ee0-8eff-13dea553295a"
      },
      "source": [
        "X"
      ],
      "execution_count": 567,
      "outputs": [
        {
          "output_type": "execute_result",
          "data": {
            "text/plain": [
              "array([[[1.10000e+01, 8.00000e+00, 5.00000e+00, 8.90000e+00,\n",
              "         1.92029e+05],\n",
              "        [9.00000e+00, 7.00000e+00, 4.00000e+00, 7.20000e+00,\n",
              "         1.74270e+05],\n",
              "        [8.00000e+00, 6.00000e+00, 3.00000e+00, 6.70000e+00,\n",
              "         1.25426e+05],\n",
              "        ...,\n",
              "        [8.00000e+00, 6.00000e+00, 4.00000e+00, 6.10000e+00,\n",
              "         2.34306e+05],\n",
              "        [8.00000e+00, 6.00000e+00, 4.00000e+00, 5.60000e+00,\n",
              "         1.98057e+05],\n",
              "        [7.00000e+00, 5.00000e+00, 3.00000e+00, 5.60000e+00,\n",
              "         2.47427e+05]],\n",
              "\n",
              "       [[9.00000e+00, 7.00000e+00, 4.00000e+00, 7.20000e+00,\n",
              "         1.74270e+05],\n",
              "        [8.00000e+00, 6.00000e+00, 3.00000e+00, 6.70000e+00,\n",
              "         1.25426e+05],\n",
              "        [1.00000e+01, 7.00000e+00, 4.00000e+00, 7.10000e+00,\n",
              "         1.19318e+05],\n",
              "        ...,\n",
              "        [8.00000e+00, 6.00000e+00, 4.00000e+00, 5.60000e+00,\n",
              "         1.98057e+05],\n",
              "        [7.00000e+00, 5.00000e+00, 3.00000e+00, 5.60000e+00,\n",
              "         2.47427e+05],\n",
              "        [7.00000e+00, 5.00000e+00, 3.00000e+00, 5.60000e+00,\n",
              "         1.66169e+05]],\n",
              "\n",
              "       [[8.00000e+00, 6.00000e+00, 3.00000e+00, 6.70000e+00,\n",
              "         1.25426e+05],\n",
              "        [1.00000e+01, 7.00000e+00, 4.00000e+00, 7.10000e+00,\n",
              "         1.19318e+05],\n",
              "        [9.00000e+00, 7.00000e+00, 5.00000e+00, 6.80000e+00,\n",
              "         1.18178e+05],\n",
              "        ...,\n",
              "        [7.00000e+00, 5.00000e+00, 3.00000e+00, 5.60000e+00,\n",
              "         2.47427e+05],\n",
              "        [7.00000e+00, 5.00000e+00, 3.00000e+00, 5.60000e+00,\n",
              "         1.66169e+05],\n",
              "        [7.00000e+00, 5.00000e+00, 3.00000e+00, 5.30000e+00,\n",
              "         1.16420e+05]],\n",
              "\n",
              "       ...,\n",
              "\n",
              "       [[1.46000e+01, 1.04000e+01, 8.00000e+00, 1.08000e+01,\n",
              "         1.73546e+05],\n",
              "        [1.45000e+01, 1.09000e+01, 7.40000e+00, 1.10000e+01,\n",
              "         1.70572e+05],\n",
              "        [1.37000e+01, 1.05000e+01, 7.50000e+00, 1.06000e+01,\n",
              "         1.59125e+05],\n",
              "        ...,\n",
              "        [2.45000e+01, 1.94000e+01, 1.18000e+01, 1.89000e+01,\n",
              "         1.19038e+05],\n",
              "        [2.22000e+01, 1.47000e+01, 7.70000e+00, 1.48000e+01,\n",
              "         1.92738e+05],\n",
              "        [2.30000e+01, 1.56000e+01, 6.20000e+00, 1.52000e+01,\n",
              "         1.74973e+05]],\n",
              "\n",
              "       [[1.45000e+01, 1.09000e+01, 7.40000e+00, 1.10000e+01,\n",
              "         1.70572e+05],\n",
              "        [1.37000e+01, 1.05000e+01, 7.50000e+00, 1.06000e+01,\n",
              "         1.59125e+05],\n",
              "        [1.31000e+01, 1.06000e+01, 7.30000e+00, 1.04000e+01,\n",
              "         1.30000e+05],\n",
              "        ...,\n",
              "        [2.22000e+01, 1.47000e+01, 7.70000e+00, 1.48000e+01,\n",
              "         1.92738e+05],\n",
              "        [2.30000e+01, 1.56000e+01, 6.20000e+00, 1.52000e+01,\n",
              "         1.74973e+05],\n",
              "        [2.74000e+01, 2.14000e+01, 1.36000e+01, 2.10000e+01,\n",
              "         1.28693e+05]],\n",
              "\n",
              "       [[1.37000e+01, 1.05000e+01, 7.50000e+00, 1.06000e+01,\n",
              "         1.59125e+05],\n",
              "        [1.31000e+01, 1.06000e+01, 7.30000e+00, 1.04000e+01,\n",
              "         1.30000e+05],\n",
              "        [1.50000e+01, 1.14000e+01, 7.80000e+00, 1.14000e+01,\n",
              "         1.29132e+05],\n",
              "        ...,\n",
              "        [2.30000e+01, 1.56000e+01, 6.20000e+00, 1.52000e+01,\n",
              "         1.74973e+05],\n",
              "        [2.74000e+01, 2.14000e+01, 1.36000e+01, 2.10000e+01,\n",
              "         1.28693e+05],\n",
              "        [2.18000e+01, 1.50000e+01, 8.50000e+00, 1.51000e+01,\n",
              "         9.62890e+04]]])"
            ]
          },
          "metadata": {
            "tags": []
          },
          "execution_count": 567
        }
      ]
    },
    {
      "cell_type": "code",
      "metadata": {
        "id": "7bvTjxYj_WJp"
      },
      "source": [
        "x = X"
      ],
      "execution_count": 568,
      "outputs": []
    },
    {
      "cell_type": "code",
      "metadata": {
        "colab": {
          "base_uri": "https://localhost:8080/"
        },
        "id": "mn6EmJzA8ED9",
        "outputId": "9a2f15e9-b355-4072-9920-dd0b23561f7e"
      },
      "source": [
        "x.shape"
      ],
      "execution_count": 569,
      "outputs": [
        {
          "output_type": "execute_result",
          "data": {
            "text/plain": [
              "(6471, 30, 5)"
            ]
          },
          "metadata": {
            "tags": []
          },
          "execution_count": 569
        }
      ]
    },
    {
      "cell_type": "code",
      "metadata": {
        "id": "XhlF2y9H58Wc"
      },
      "source": [
        "y = y[past-1:-day]"
      ],
      "execution_count": 570,
      "outputs": []
    },
    {
      "cell_type": "code",
      "metadata": {
        "id": "3CM3G0RdKchY"
      },
      "source": [
        "from sklearn.model_selection import train_test_split\n",
        "x_train, x_test, y_train, y_test = train_test_split(x, y, test_size=0.33)"
      ],
      "execution_count": 571,
      "outputs": []
    },
    {
      "cell_type": "code",
      "metadata": {
        "id": "8qXXIVObKzRh"
      },
      "source": [
        "x_test.reshape(-1,feature).shape\n",
        "test_date = pd.DataFrame(x_test.reshape(-1,feature))[0]"
      ],
      "execution_count": 572,
      "outputs": []
    },
    {
      "cell_type": "code",
      "metadata": {
        "id": "HY1BEbMiPzH1"
      },
      "source": [
        "# x_train = x_train[:,1:]\n",
        "# x_test = x_test[:,1:]"
      ],
      "execution_count": 573,
      "outputs": []
    },
    {
      "cell_type": "code",
      "metadata": {
        "colab": {
          "base_uri": "https://localhost:8080/"
        },
        "id": "KSSOoRsbSdU6",
        "outputId": "00a84d00-621f-4909-be88-3c02ab09eecd"
      },
      "source": [
        "x_test"
      ],
      "execution_count": 574,
      "outputs": [
        {
          "output_type": "execute_result",
          "data": {
            "text/plain": [
              "array([[[7.00000e+00, 5.00000e+00, 3.00000e+00, 5.10000e+00,\n",
              "         1.31488e+05],\n",
              "        [6.00000e+00, 4.00000e+00, 2.00000e+00, 4.00000e+00,\n",
              "         1.30373e+05],\n",
              "        [6.00000e+00, 4.00000e+00, 2.00000e+00, 4.00000e+00,\n",
              "         1.22700e+05],\n",
              "        ...,\n",
              "        [1.20000e+01, 8.00000e+00, 4.00000e+00, 7.60000e+00,\n",
              "         1.08781e+05],\n",
              "        [1.20000e+01, 9.00000e+00, 5.00000e+00, 8.50000e+00,\n",
              "         1.11728e+05],\n",
              "        [1.10000e+01, 7.00000e+00, 3.00000e+00, 7.30000e+00,\n",
              "         1.19035e+05]],\n",
              "\n",
              "       [[2.66000e+01, 2.32000e+01, 1.87000e+01, 2.30000e+01,\n",
              "         9.08470e+04],\n",
              "        [2.72000e+01, 2.17000e+01, 1.49000e+01, 2.14000e+01,\n",
              "         1.04129e+05],\n",
              "        [3.24000e+01, 2.72000e+01, 1.91000e+01, 2.66000e+01,\n",
              "         4.90080e+04],\n",
              "        ...,\n",
              "        [4.54000e+01, 3.06000e+01, 1.99000e+01, 3.14000e+01,\n",
              "         3.53060e+04],\n",
              "        [4.80000e+01, 3.00000e+01, 2.48000e+01, 3.26000e+01,\n",
              "         2.32500e+04],\n",
              "        [4.86000e+01, 3.79000e+01, 2.27000e+01, 3.70000e+01,\n",
              "         2.45890e+04]],\n",
              "\n",
              "       [[2.50000e+01, 1.60000e+01, 1.14000e+01, 1.69000e+01,\n",
              "         1.07547e+05],\n",
              "        [2.17000e+01, 1.07000e+01, 6.90000e+00, 1.21000e+01,\n",
              "         1.41056e+05],\n",
              "        [2.11000e+01, 9.60000e+00, 5.90000e+00, 1.11000e+01,\n",
              "         1.46399e+05],\n",
              "        ...,\n",
              "        [1.47000e+01, 1.03000e+01, 8.00000e+00, 1.07000e+01,\n",
              "         1.44048e+05],\n",
              "        [1.41000e+01, 9.80000e+00, 7.80000e+00, 1.02000e+01,\n",
              "         1.62318e+05],\n",
              "        [1.31000e+01, 9.30000e+00, 6.70000e+00, 9.50000e+00,\n",
              "         1.74972e+05]],\n",
              "\n",
              "       ...,\n",
              "\n",
              "       [[9.10000e+00, 6.30000e+00, 4.60000e+00, 6.50000e+00,\n",
              "         2.35732e+05],\n",
              "        [1.51000e+01, 1.16000e+01, 7.20000e+00, 1.15000e+01,\n",
              "         2.26741e+05],\n",
              "        [1.15000e+01, 6.20000e+00, 3.50000e+00, 6.70000e+00,\n",
              "         1.29286e+05],\n",
              "        ...,\n",
              "        [8.30000e+00, 5.50000e+00, 4.80000e+00, 5.70000e+00,\n",
              "         2.05692e+05],\n",
              "        [8.50000e+00, 6.00000e+00, 4.80000e+00, 6.30000e+00,\n",
              "         2.07682e+05],\n",
              "        [8.30000e+00, 5.80000e+00, 4.70000e+00, 5.90000e+00,\n",
              "         2.31475e+05]],\n",
              "\n",
              "       [[4.37000e+01, 3.38000e+01, 2.49000e+01, 3.40000e+01,\n",
              "         5.32680e+04],\n",
              "        [4.14000e+01, 3.55000e+01, 2.86000e+01, 3.53000e+01,\n",
              "         4.25590e+04],\n",
              "        [4.64000e+01, 3.90000e+01, 2.93000e+01, 3.85000e+01,\n",
              "         3.85870e+04],\n",
              "        ...,\n",
              "        [5.29000e+01, 3.43000e+01, 2.54000e+01, 3.63000e+01,\n",
              "         5.51900e+04],\n",
              "        [4.73000e+01, 3.48000e+01, 2.45000e+01, 3.52000e+01,\n",
              "         4.01210e+04],\n",
              "        [4.28000e+01, 2.71000e+01, 1.77000e+01, 2.83000e+01,\n",
              "         3.89580e+04]],\n",
              "\n",
              "       [[1.20000e+01, 8.00000e+00, 4.00000e+00, 7.50000e+00,\n",
              "         1.26718e+05],\n",
              "        [1.00000e+01, 7.00000e+00, 3.00000e+00, 6.90000e+00,\n",
              "         1.34802e+05],\n",
              "        [1.00000e+01, 7.00000e+00, 4.00000e+00, 7.50000e+00,\n",
              "         1.32432e+05],\n",
              "        ...,\n",
              "        [6.00000e+00, 4.50000e+00, 2.50000e+00, 4.00000e+00,\n",
              "         1.33183e+05],\n",
              "        [6.00000e+00, 4.00000e+00, 2.00000e+00, 4.40000e+00,\n",
              "         1.19310e+05],\n",
              "        [6.00000e+00, 4.50000e+00, 2.50000e+00, 4.20000e+00,\n",
              "         1.16902e+05]]])"
            ]
          },
          "metadata": {
            "tags": []
          },
          "execution_count": 574
        }
      ]
    },
    {
      "cell_type": "code",
      "metadata": {
        "id": "z0p2fqLHG2S8"
      },
      "source": [
        "x_shape = x_train.shape[0]\n",
        "x_train = x_train.reshape(-1,feature)"
      ],
      "execution_count": 575,
      "outputs": []
    },
    {
      "cell_type": "code",
      "metadata": {
        "colab": {
          "base_uri": "https://localhost:8080/"
        },
        "id": "Pgwyo-zMHSbO",
        "outputId": "6cb564b1-5783-4177-f112-173aeb161a92"
      },
      "source": [
        "x_shape"
      ],
      "execution_count": 576,
      "outputs": [
        {
          "output_type": "execute_result",
          "data": {
            "text/plain": [
              "4335"
            ]
          },
          "metadata": {
            "tags": []
          },
          "execution_count": 576
        }
      ]
    },
    {
      "cell_type": "code",
      "metadata": {
        "id": "eH8C9tL6P5nE"
      },
      "source": [
        "Xscaler = MinMaxScaler()\n",
        "Yscaler = MinMaxScaler()\n",
        "x_train = Xscaler.fit_transform(x_train)\n",
        "y_train = Yscaler.fit_transform(y_train.reshape(-1,1))"
      ],
      "execution_count": 577,
      "outputs": []
    },
    {
      "cell_type": "code",
      "metadata": {
        "colab": {
          "base_uri": "https://localhost:8080/"
        },
        "id": "-7eqPM1dHg3A",
        "outputId": "fbf59963-8ee9-47ef-968d-ca725ff3d6b0"
      },
      "source": [
        "x_train.shape"
      ],
      "execution_count": 578,
      "outputs": [
        {
          "output_type": "execute_result",
          "data": {
            "text/plain": [
              "(130050, 5)"
            ]
          },
          "metadata": {
            "tags": []
          },
          "execution_count": 578
        }
      ]
    },
    {
      "cell_type": "code",
      "metadata": {
        "id": "hEfLzqLYxcc9"
      },
      "source": [
        "# splitting train and test\n",
        "# x_train = x_train.reshape((-1,1,5))\n",
        "x_train = x_train.reshape((-1,past,feature))\n",
        "x_test = x_test.reshape((-1,past,feature))"
      ],
      "execution_count": 579,
      "outputs": []
    },
    {
      "cell_type": "code",
      "metadata": {
        "id": "IWNokHwdx4Yq"
      },
      "source": [
        "# data_train = np.concatenate((data_xtrain, data_ytrain), axis=1)\n"
      ],
      "execution_count": 580,
      "outputs": []
    },
    {
      "cell_type": "code",
      "metadata": {
        "id": "VZ9XJ3hVZncf"
      },
      "source": [
        "# x_train = []\n",
        "# y_train = []\n",
        "# time_step = 60\n",
        "# for i in range(len(data_train) - time_step):\n",
        "#   x_train.append(data_train[i:(i+time_step)])\n",
        "#   y_train.append(data_train[(i+time_step)][-1])\n",
        "# x_train, y_train = np.array(x_train), np.array(y_train).reshape(-1,1)"
      ],
      "execution_count": 581,
      "outputs": []
    },
    {
      "cell_type": "code",
      "metadata": {
        "colab": {
          "base_uri": "https://localhost:8080/"
        },
        "id": "MSgBUOoxak0-",
        "outputId": "7391748e-caed-4ca4-db5c-ae42519c6908"
      },
      "source": [
        "# Building LSTM model\n",
        "from tensorflow.keras import Sequential\n",
        "from tensorflow.keras.layers import LSTM, Dense, Dropout, GRU\n",
        "layers = [\n",
        "    LSTM(units=32, return_sequences=False, input_shape=(x_train.shape[1], x_train.shape[2])),\n",
        "    # Dropout(0.2),\n",
        "    # LSTM(units=256, return_sequences=True),\n",
        "    # Dropout(0.2),\n",
        "    # LSTM(units=256, return_sequences=True),\n",
        "    # Dropout(0.2),\n",
        "    # LSTM(units=256),\n",
        "    # Dropout(0.2),\n",
        "    # Dense(units=5, activation=\"sigmoid\"),\n",
        "    Dense(units=1, activation=\"linear\")\n",
        "]\n",
        "regressor = Sequential(layers)\n",
        "regressor.summary()"
      ],
      "execution_count": 582,
      "outputs": [
        {
          "output_type": "stream",
          "text": [
            "Model: \"sequential_9\"\n",
            "_________________________________________________________________\n",
            "Layer (type)                 Output Shape              Param #   \n",
            "=================================================================\n",
            "lstm_9 (LSTM)                (None, 32)                4864      \n",
            "_________________________________________________________________\n",
            "dense_9 (Dense)              (None, 1)                 33        \n",
            "=================================================================\n",
            "Total params: 4,897\n",
            "Trainable params: 4,897\n",
            "Non-trainable params: 0\n",
            "_________________________________________________________________\n"
          ],
          "name": "stdout"
        }
      ]
    },
    {
      "cell_type": "code",
      "metadata": {
        "colab": {
          "base_uri": "https://localhost:8080/"
        },
        "id": "GVYzbTuYjvDo",
        "outputId": "5756f1b3-1256-432a-8b8e-e34ba846d594"
      },
      "source": [
        "from tensorflow.keras.optimizers import Adam\n",
        "from tensorflow.keras.losses import MeanSquaredError\n",
        "from keras.callbacks import EarlyStopping, ModelCheckpoint\n",
        "regressor.compile(loss = \"mse\",\n",
        "         optimizer = Adam(),\n",
        "         metrics=[\"mse\"]                   \n",
        ")\n",
        "callback = [\n",
        "    EarlyStopping(patience=10, restore_best_weights=True),\n",
        "    ModelCheckpoint(\"regressor.h5\", save_best_only=True)\n",
        "]\n",
        "regressor.fit(x_train, y_train, epochs=20, batch_size=32, validation_split=0.1, callbacks=callback)\n",
        "# regressor.fit(x_train, y_train, epochs=40, batch_size=40, validation_split=0.1)"
      ],
      "execution_count": 583,
      "outputs": [
        {
          "output_type": "stream",
          "text": [
            "Epoch 1/20\n",
            "122/122 [==============================] - 4s 17ms/step - loss: 0.0032 - mse: 0.0032 - val_loss: 0.0020 - val_mse: 0.0020\n",
            "Epoch 2/20\n",
            "122/122 [==============================] - 2s 13ms/step - loss: 0.0021 - mse: 0.0021 - val_loss: 0.0017 - val_mse: 0.0017\n",
            "Epoch 3/20\n",
            "122/122 [==============================] - 2s 14ms/step - loss: 0.0019 - mse: 0.0019 - val_loss: 0.0016 - val_mse: 0.0016\n",
            "Epoch 4/20\n",
            "122/122 [==============================] - 2s 13ms/step - loss: 0.0019 - mse: 0.0019 - val_loss: 0.0016 - val_mse: 0.0016\n",
            "Epoch 5/20\n",
            "122/122 [==============================] - 2s 13ms/step - loss: 0.0018 - mse: 0.0018 - val_loss: 0.0015 - val_mse: 0.0015\n",
            "Epoch 6/20\n",
            "122/122 [==============================] - 2s 14ms/step - loss: 0.0018 - mse: 0.0018 - val_loss: 0.0015 - val_mse: 0.0015\n",
            "Epoch 7/20\n",
            "122/122 [==============================] - 2s 14ms/step - loss: 0.0018 - mse: 0.0018 - val_loss: 0.0014 - val_mse: 0.0014\n",
            "Epoch 8/20\n",
            "122/122 [==============================] - 2s 13ms/step - loss: 0.0017 - mse: 0.0017 - val_loss: 0.0014 - val_mse: 0.0014\n",
            "Epoch 9/20\n",
            "122/122 [==============================] - 2s 13ms/step - loss: 0.0017 - mse: 0.0017 - val_loss: 0.0014 - val_mse: 0.0014\n",
            "Epoch 10/20\n",
            "122/122 [==============================] - 2s 14ms/step - loss: 0.0017 - mse: 0.0017 - val_loss: 0.0014 - val_mse: 0.0014\n",
            "Epoch 11/20\n",
            "122/122 [==============================] - 2s 14ms/step - loss: 0.0018 - mse: 0.0018 - val_loss: 0.0014 - val_mse: 0.0014\n",
            "Epoch 12/20\n",
            "122/122 [==============================] - 2s 13ms/step - loss: 0.0017 - mse: 0.0017 - val_loss: 0.0014 - val_mse: 0.0014\n",
            "Epoch 13/20\n",
            "122/122 [==============================] - 2s 13ms/step - loss: 0.0018 - mse: 0.0018 - val_loss: 0.0014 - val_mse: 0.0014\n",
            "Epoch 14/20\n",
            "122/122 [==============================] - 2s 14ms/step - loss: 0.0017 - mse: 0.0017 - val_loss: 0.0016 - val_mse: 0.0016\n",
            "Epoch 15/20\n",
            "122/122 [==============================] - 2s 14ms/step - loss: 0.0017 - mse: 0.0017 - val_loss: 0.0014 - val_mse: 0.0014\n",
            "Epoch 16/20\n",
            "122/122 [==============================] - 2s 14ms/step - loss: 0.0017 - mse: 0.0017 - val_loss: 0.0015 - val_mse: 0.0015\n",
            "Epoch 17/20\n",
            "122/122 [==============================] - 2s 14ms/step - loss: 0.0018 - mse: 0.0018 - val_loss: 0.0014 - val_mse: 0.0014\n",
            "Epoch 18/20\n",
            "122/122 [==============================] - 2s 14ms/step - loss: 0.0017 - mse: 0.0017 - val_loss: 0.0014 - val_mse: 0.0014\n",
            "Epoch 19/20\n",
            "122/122 [==============================] - 2s 13ms/step - loss: 0.0017 - mse: 0.0017 - val_loss: 0.0016 - val_mse: 0.0016\n",
            "Epoch 20/20\n",
            "122/122 [==============================] - 2s 14ms/step - loss: 0.0017 - mse: 0.0017 - val_loss: 0.0014 - val_mse: 0.0014\n"
          ],
          "name": "stdout"
        },
        {
          "output_type": "execute_result",
          "data": {
            "text/plain": [
              "<tensorflow.python.keras.callbacks.History at 0x7f6469ec3f50>"
            ]
          },
          "metadata": {
            "tags": []
          },
          "execution_count": 583
        }
      ]
    },
    {
      "cell_type": "code",
      "metadata": {
        "id": "7xUATsN6i9u6"
      },
      "source": [
        "# plt.plot(regressor.regressor['loss'], color = 'red')\n",
        "# plt.plot(regressor.regressor['val_loss'], color = 'bule')"
      ],
      "execution_count": 584,
      "outputs": []
    },
    {
      "cell_type": "code",
      "metadata": {
        "id": "IToWdK6qlAvc"
      },
      "source": [
        "# past_60_days = data[data[\"Date\"] < \"2019-01-01\"].tail(time_step)\n",
        "# df = past_60_days.append(data_test, ignore_index = True)\n",
        "# df = df.drop([\"Date\", \"Market\", \"Product\", \"Month\", \"Week_day\", \"Year\", \"Rest_day\"], axis=1)\n",
        "# df"
      ],
      "execution_count": 585,
      "outputs": []
    },
    {
      "cell_type": "code",
      "metadata": {
        "id": "yriZTYBcl57c"
      },
      "source": [
        "# real_avg_price = np.array(df.iloc[time_step:][\"Avg_price\"]).reshape(-1,1)\n",
        "# ytest = np.array(df[\"Avg_price\"]).reshape(-1,1)\n",
        "# x_inputs = Xscaler.transform(df.drop([\"Avg_price\"], axis=1))\n",
        "# y_inputs = Yscaler.transform(ytest)"
      ],
      "execution_count": 586,
      "outputs": []
    },
    {
      "cell_type": "code",
      "metadata": {
        "id": "h_w3Cy795J43"
      },
      "source": [
        "# inputs = np.concatenate((x_inputs, y_inputs), axis=1)"
      ],
      "execution_count": 587,
      "outputs": []
    },
    {
      "cell_type": "code",
      "metadata": {
        "id": "rc3ClSFemAES",
        "colab": {
          "base_uri": "https://localhost:8080/"
        },
        "outputId": "dfea253d-eb1c-46ac-9b51-8d79ff7bf9b1"
      },
      "source": [
        "# x_test = []\n",
        "# y_test = []\n",
        "# time_step = 60\n",
        "# for i in range(len(inputs) - time_step):\n",
        "#   x_test.append(inputs[i:(i+time_step)])\n",
        "#   y_test.append(inputs[(i+time_step)][-1])\n",
        "# yy = y_test\n",
        "# x_test, y_test = np.array(x_test), np.array(y_test).reshape(-1,1)\n",
        "x_test.shape"
      ],
      "execution_count": 588,
      "outputs": [
        {
          "output_type": "execute_result",
          "data": {
            "text/plain": [
              "(2136, 30, 5)"
            ]
          },
          "metadata": {
            "tags": []
          },
          "execution_count": 588
        }
      ]
    },
    {
      "cell_type": "code",
      "metadata": {
        "id": "aLoUzRqpVVmJ"
      },
      "source": [
        "x_test = Xscaler.transform(x_test.reshape(-1,feature))\n",
        "y_test = Yscaler.transform(y_test.reshape(-1,1))"
      ],
      "execution_count": 589,
      "outputs": []
    },
    {
      "cell_type": "code",
      "metadata": {
        "id": "6_MlX5bxoLC9"
      },
      "source": [
        "x_test = x_test.reshape(-1,past,feature)\n",
        "pre_price = regressor.predict(x_test)\n",
        "pre_price = pre_price.reshape(-1,1)\n",
        "pre_price = Yscaler.inverse_transform(pre_price)"
      ],
      "execution_count": 590,
      "outputs": []
    },
    {
      "cell_type": "code",
      "metadata": {
        "id": "y6zyD1Qt2M7g"
      },
      "source": [
        "y_test = Yscaler.inverse_transform(y_test)"
      ],
      "execution_count": 591,
      "outputs": []
    },
    {
      "cell_type": "code",
      "metadata": {
        "colab": {
          "base_uri": "https://localhost:8080/"
        },
        "id": "xRBYpVOGWyDH",
        "outputId": "ec98e7cc-090c-4cb0-aaee-6c0faecb8d2f"
      },
      "source": [
        "# test_date = np.array(test_date).reshape(-1,1)\n",
        "# np.concatenate((y_test, pre_price), axis=1)\n",
        "# pre_price\n",
        "# y_test.reshape(-1)\n",
        "# pre_price.shape()\n",
        "test_date"
      ],
      "execution_count": 592,
      "outputs": [
        {
          "output_type": "execute_result",
          "data": {
            "text/plain": [
              "0        7.0\n",
              "1        6.0\n",
              "2        6.0\n",
              "3        6.0\n",
              "4        6.0\n",
              "        ... \n",
              "64075    7.0\n",
              "64076    6.0\n",
              "64077    6.0\n",
              "64078    6.0\n",
              "64079    6.0\n",
              "Name: 0, Length: 64080, dtype: float64"
            ]
          },
          "metadata": {
            "tags": []
          },
          "execution_count": 592
        }
      ]
    },
    {
      "cell_type": "code",
      "metadata": {
        "colab": {
          "base_uri": "https://localhost:8080/",
          "height": 404
        },
        "id": "aoj0t9rbBTu2",
        "outputId": "aab949c0-dc8a-4d46-e854-dff76c56d000"
      },
      "source": [
        "# Visualising the results\n",
        "plt.figure(figsize=(14,6))\n",
        "plt.plot(y_test, color = 'red', label = 'Real Cabbage Price')\n",
        "plt.plot(pre_price, color = 'blue', label = 'Predicted Cabbage Price')\n",
        "plt.title('Cabbage Price Prediction')\n",
        "plt.xlabel('Time')\n",
        "plt.ylabel('Cabbage Price')\n",
        "plt.legend()\n",
        "plt.show()"
      ],
      "execution_count": 593,
      "outputs": [
        {
          "output_type": "display_data",
          "data": {
            "image/png": "[encoded data removed]",
            "text/plain": [
              "<Figure size 1008x432 with 1 Axes>"
            ]
          },
          "metadata": {
            "tags": [],
            "needs_background": "light"
          }
        }
      ]
    },
    {
      "cell_type": "code",
      "metadata": {
        "id": "JxdNs6Go1CEc",
        "colab": {
          "base_uri": "https://localhost:8080/",
          "height": 404
        },
        "outputId": "86ce1af8-7e49-42a5-9e9a-06b6bd0ee418"
      },
      "source": [
        "# Visualising the results\n",
        "plt.figure(figsize=(14,6))\n",
        "plt.plot(y_test[0:100], color = 'red', label = 'Real Cabbage Price')\n",
        "plt.plot(pre_price[0:100], color = 'blue', label = 'Predicted Cabbage Price')\n",
        "plt.title('Cabbage Price Prediction')\n",
        "plt.xlabel('Time')\n",
        "plt.ylabel('Cabbage Price')\n",
        "plt.legend()\n",
        "plt.show()"
      ],
      "execution_count": 594,
      "outputs": [
        {
          "output_type": "display_data",
          "data": {
            "image/png": "[encoded data removed]",
            "text/plain": [
              "<Figure size 1008x432 with 1 Axes>"
            ]
          },
          "metadata": {
            "tags": [],
            "needs_background": "light"
          }
        }
      ]
    },
    {
      "cell_type": "code",
      "metadata": {
        "id": "_DF6GDhW1eHj",
        "colab": {
          "base_uri": "https://localhost:8080/"
        },
        "outputId": "ccc01662-2567-4a3d-9002-5d794cd63714"
      },
      "source": [
        "# MSE & RMSE 計算\n",
        "# sklearn.metrics.mean_squared_error(y_true, y_pred)\n",
        "# sklearn.metrics.r2_score(y_true, y_pred)\n",
        "from sklearn.metrics import mean_squared_error, r2_score\n",
        "MSE = mean_squared_error(y_test, pre_price)\n",
        "RMSE = np.sqrt(MSE)\n",
        "R2 = r2_score(y_test, pre_price)\n",
        "print(f\"MSE value : {MSE}\", f\"\\nRMSE value : {RMSE}\", f\"\\nR2 score value : {R2}\")"
      ],
      "execution_count": 595,
      "outputs": [
        {
          "output_type": "stream",
          "text": [
            "MSE value : 7.892201654810043 \n",
            "RMSE value : 2.8093062586357584 \n",
            "R2 score value : 0.9396005616577388\n"
          ],
          "name": "stdout"
        }
      ]
    }
  ]
}