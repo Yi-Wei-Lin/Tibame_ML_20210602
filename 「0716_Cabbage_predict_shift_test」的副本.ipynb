{
  "nbformat": 4,
  "nbformat_minor": 0,
  "metadata": {
    "colab": {
      "name": "「0716_Cabbage_predict_shift_test」的副本",
      "provenance": [],
      "collapsed_sections": [],
      "mount_file_id": "15T-UAC8u1QIEcE21gvJ32LVQumO74Zys",
      "authorship_tag": "ABX9TyNmQ7FHBl9FojdjC1ju7JUF",
      "include_colab_link": true
    },
    "kernelspec": {
      "name": "python3",
      "display_name": "Python 3"
    },
    "language_info": {
      "name": "python"
    },
    "accelerator": "GPU"
  },
  "cells": [
    {
      "cell_type": "markdown",
      "metadata": {
        "id": "view-in-github",
        "colab_type": "text"
      },
      "source": [
        "<a href=\"https://colab.research.google.com/github/Yi-Wei-Lin/Tibame_ML_20210602/blob/main/%E3%80%8C0716_Cabbage_predict_shift_test%E3%80%8D%E7%9A%84%E5%89%AF%E6%9C%AC.ipynb\" target=\"_parent\"><img src=\"https://colab.research.google.com/assets/colab-badge.svg\" alt=\"Open In Colab\"/></a>"
      ]
    },
    {
      "cell_type": "code",
      "metadata": {
        "id": "i1kIpPvPSBU9"
      },
      "source": [
        "import numpy as np\n",
        "import matplotlib.pyplot as plt\n",
        "import pandas as pd\n",
        "from sklearn.preprocessing import MinMaxScaler"
      ],
      "execution_count": 396,
      "outputs": []
    },
    {
      "cell_type": "code",
      "metadata": {
        "colab": {
          "base_uri": "https://localhost:8080/"
        },
        "id": "zh46xYK8lpbl",
        "outputId": "3c451839-d9a9-44bb-80f7-a94244f30d33"
      },
      "source": [
        "from google.colab import drive\n",
        "drive.mount('/content/drive')"
      ],
      "execution_count": 397,
      "outputs": [
        {
          "output_type": "stream",
          "text": [
            "Drive already mounted at /content/drive; to attempt to forcibly remount, call drive.mount(\"/content/drive\", force_remount=True).\n"
          ],
          "name": "stdout"
        }
      ]
    },
    {
      "cell_type": "code",
      "metadata": {
        "id": "0fNFBa0VTW1i"
      },
      "source": [
        "# data = pd.read_excel(\"Cabbage.xlsx\")\n",
        "data = pd.read_excel(\"/content/drive/MyDrive/市場批發交易歷史資料/Cabbage.xlsx\")"
      ],
      "execution_count": 398,
      "outputs": []
    },
    {
      "cell_type": "code",
      "metadata": {
        "colab": {
          "base_uri": "https://localhost:8080/"
        },
        "id": "XJ3h7hWdT2l7",
        "outputId": "0b481c79-d9a6-4c33-a0b0-36cd004519c3"
      },
      "source": [
        "data = data.dropna()\n",
        "data = data.loc[data[\"Market\"] == \"台北一\"]\n",
        "np.array(data[\"Avg_price\"]).reshape(-1,1)"
      ],
      "execution_count": 399,
      "outputs": [
        {
          "output_type": "execute_result",
          "data": {
            "text/plain": [
              "array([[ 8.9],\n",
              "       [ 7.2],\n",
              "       [ 6.7],\n",
              "       ...,\n",
              "       [15.1],\n",
              "       [15.1],\n",
              "       [15.5]])"
            ]
          },
          "metadata": {
            "tags": []
          },
          "execution_count": 399
        }
      ]
    },
    {
      "cell_type": "code",
      "metadata": {
        "id": "c-e9EOm0WIuS"
      },
      "source": [
        "# data_train = data[data[\"Date\"] < \"2019-01-01\"]\n",
        "# data_test = data[data[\"Date\"] >= \"2019-01-01\"]\n",
        "data_train = data"
      ],
      "execution_count": 400,
      "outputs": []
    },
    {
      "cell_type": "code",
      "metadata": {
        "colab": {
          "base_uri": "https://localhost:8080/",
          "height": 407
        },
        "id": "PHkweN_gW84H",
        "outputId": "2c609338-a20b-43b0-ff21-45e2e79c70a4"
      },
      "source": [
        "data_train = data_train.drop([\"Date\",\"Market\", \"Product\", \"Month\", \"Week_day\", \"Year\", \"Rest_day\"], axis=1)\n",
        "data_train"
      ],
      "execution_count": 401,
      "outputs": [
        {
          "output_type": "execute_result",
          "data": {
            "text/html": [
              "<div>\n",
              "<style scoped>\n",
              "    .dataframe tbody tr th:only-of-type {\n",
              "        vertical-align: middle;\n",
              "    }\n",
              "\n",
              "    .dataframe tbody tr th {\n",
              "        vertical-align: top;\n",
              "    }\n",
              "\n",
              "    .dataframe thead th {\n",
              "        text-align: right;\n",
              "    }\n",
              "</style>\n",
              "<table border=\"1\" class=\"dataframe\">\n",
              "  <thead>\n",
              "    <tr style=\"text-align: right;\">\n",
              "      <th></th>\n",
              "      <th>Up_price</th>\n",
              "      <th>Mid_price</th>\n",
              "      <th>Low_price</th>\n",
              "      <th>Avg_price</th>\n",
              "      <th>Volume</th>\n",
              "    </tr>\n",
              "  </thead>\n",
              "  <tbody>\n",
              "    <tr>\n",
              "      <th>39204</th>\n",
              "      <td>11.0</td>\n",
              "      <td>8.0</td>\n",
              "      <td>5.0</td>\n",
              "      <td>8.9</td>\n",
              "      <td>192029.0</td>\n",
              "    </tr>\n",
              "    <tr>\n",
              "      <th>39205</th>\n",
              "      <td>9.0</td>\n",
              "      <td>7.0</td>\n",
              "      <td>4.0</td>\n",
              "      <td>7.2</td>\n",
              "      <td>174270.0</td>\n",
              "    </tr>\n",
              "    <tr>\n",
              "      <th>39206</th>\n",
              "      <td>8.0</td>\n",
              "      <td>6.0</td>\n",
              "      <td>3.0</td>\n",
              "      <td>6.7</td>\n",
              "      <td>125426.0</td>\n",
              "    </tr>\n",
              "    <tr>\n",
              "      <th>39207</th>\n",
              "      <td>10.0</td>\n",
              "      <td>7.0</td>\n",
              "      <td>4.0</td>\n",
              "      <td>7.1</td>\n",
              "      <td>119318.0</td>\n",
              "    </tr>\n",
              "    <tr>\n",
              "      <th>39208</th>\n",
              "      <td>9.0</td>\n",
              "      <td>7.0</td>\n",
              "      <td>5.0</td>\n",
              "      <td>6.8</td>\n",
              "      <td>118178.0</td>\n",
              "    </tr>\n",
              "    <tr>\n",
              "      <th>...</th>\n",
              "      <td>...</td>\n",
              "      <td>...</td>\n",
              "      <td>...</td>\n",
              "      <td>...</td>\n",
              "      <td>...</td>\n",
              "    </tr>\n",
              "    <tr>\n",
              "      <th>47037</th>\n",
              "      <td>23.0</td>\n",
              "      <td>15.6</td>\n",
              "      <td>6.2</td>\n",
              "      <td>15.2</td>\n",
              "      <td>174973.0</td>\n",
              "    </tr>\n",
              "    <tr>\n",
              "      <th>47038</th>\n",
              "      <td>27.4</td>\n",
              "      <td>21.4</td>\n",
              "      <td>13.6</td>\n",
              "      <td>21.0</td>\n",
              "      <td>128693.0</td>\n",
              "    </tr>\n",
              "    <tr>\n",
              "      <th>47041</th>\n",
              "      <td>21.8</td>\n",
              "      <td>15.0</td>\n",
              "      <td>8.5</td>\n",
              "      <td>15.1</td>\n",
              "      <td>96289.0</td>\n",
              "    </tr>\n",
              "    <tr>\n",
              "      <th>47042</th>\n",
              "      <td>21.9</td>\n",
              "      <td>15.2</td>\n",
              "      <td>8.1</td>\n",
              "      <td>15.1</td>\n",
              "      <td>148701.0</td>\n",
              "    </tr>\n",
              "    <tr>\n",
              "      <th>47043</th>\n",
              "      <td>21.1</td>\n",
              "      <td>15.6</td>\n",
              "      <td>9.4</td>\n",
              "      <td>15.5</td>\n",
              "      <td>153571.0</td>\n",
              "    </tr>\n",
              "  </tbody>\n",
              "</table>\n",
              "<p>6502 rows × 5 columns</p>\n",
              "</div>"
            ],
            "text/plain": [
              "       Up_price  Mid_price  Low_price  Avg_price    Volume\n",
              "39204      11.0        8.0        5.0        8.9  192029.0\n",
              "39205       9.0        7.0        4.0        7.2  174270.0\n",
              "39206       8.0        6.0        3.0        6.7  125426.0\n",
              "39207      10.0        7.0        4.0        7.1  119318.0\n",
              "39208       9.0        7.0        5.0        6.8  118178.0\n",
              "...         ...        ...        ...        ...       ...\n",
              "47037      23.0       15.6        6.2       15.2  174973.0\n",
              "47038      27.4       21.4       13.6       21.0  128693.0\n",
              "47041      21.8       15.0        8.5       15.1   96289.0\n",
              "47042      21.9       15.2        8.1       15.1  148701.0\n",
              "47043      21.1       15.6        9.4       15.5  153571.0\n",
              "\n",
              "[6502 rows x 5 columns]"
            ]
          },
          "metadata": {
            "tags": []
          },
          "execution_count": 401
        }
      ]
    },
    {
      "cell_type": "code",
      "metadata": {
        "id": "JO-5YfElYQcK"
      },
      "source": [
        "# from tensorflow.keras.utils import to_categorical\n",
        "# pd.DataFrame(to_categorical(data_train[\"Month\"]))\n",
        "feature = data_train.shape[1]"
      ],
      "execution_count": 402,
      "outputs": []
    },
    {
      "cell_type": "code",
      "metadata": {
        "id": "buVZWLuxugIA"
      },
      "source": [
        "# preparing label data\n",
        "day = 3\n",
        "Cabbage_shift = data_train.shift(-day)\n",
        "label = Cabbage_shift['Avg_price']\n",
        "\n",
        "# adjusting the shape of both\n",
        "data_train = data_train.drop(data_train.index[len(data_train)-day:], axis=0)\n",
        "label = label.drop(label.index[len(label)-day:], axis=0)\n",
        "\n",
        "# conversion to numpy array\n",
        "x, y = data_train.values, label.values"
      ],
      "execution_count": 403,
      "outputs": []
    },
    {
      "cell_type": "code",
      "metadata": {
        "colab": {
          "base_uri": "https://localhost:8080/",
          "height": 348
        },
        "id": "qQlzAyaj5vC2",
        "outputId": "9126ddb5-1c7b-4683-ecdd-7786424d8360"
      },
      "source": [
        "data_train.head(10)"
      ],
      "execution_count": 404,
      "outputs": [
        {
          "output_type": "execute_result",
          "data": {
            "text/html": [
              "<div>\n",
              "<style scoped>\n",
              "    .dataframe tbody tr th:only-of-type {\n",
              "        vertical-align: middle;\n",
              "    }\n",
              "\n",
              "    .dataframe tbody tr th {\n",
              "        vertical-align: top;\n",
              "    }\n",
              "\n",
              "    .dataframe thead th {\n",
              "        text-align: right;\n",
              "    }\n",
              "</style>\n",
              "<table border=\"1\" class=\"dataframe\">\n",
              "  <thead>\n",
              "    <tr style=\"text-align: right;\">\n",
              "      <th></th>\n",
              "      <th>Up_price</th>\n",
              "      <th>Mid_price</th>\n",
              "      <th>Low_price</th>\n",
              "      <th>Avg_price</th>\n",
              "      <th>Volume</th>\n",
              "    </tr>\n",
              "  </thead>\n",
              "  <tbody>\n",
              "    <tr>\n",
              "      <th>39204</th>\n",
              "      <td>11.0</td>\n",
              "      <td>8.0</td>\n",
              "      <td>5.0</td>\n",
              "      <td>8.9</td>\n",
              "      <td>192029.0</td>\n",
              "    </tr>\n",
              "    <tr>\n",
              "      <th>39205</th>\n",
              "      <td>9.0</td>\n",
              "      <td>7.0</td>\n",
              "      <td>4.0</td>\n",
              "      <td>7.2</td>\n",
              "      <td>174270.0</td>\n",
              "    </tr>\n",
              "    <tr>\n",
              "      <th>39206</th>\n",
              "      <td>8.0</td>\n",
              "      <td>6.0</td>\n",
              "      <td>3.0</td>\n",
              "      <td>6.7</td>\n",
              "      <td>125426.0</td>\n",
              "    </tr>\n",
              "    <tr>\n",
              "      <th>39207</th>\n",
              "      <td>10.0</td>\n",
              "      <td>7.0</td>\n",
              "      <td>4.0</td>\n",
              "      <td>7.1</td>\n",
              "      <td>119318.0</td>\n",
              "    </tr>\n",
              "    <tr>\n",
              "      <th>39208</th>\n",
              "      <td>9.0</td>\n",
              "      <td>7.0</td>\n",
              "      <td>5.0</td>\n",
              "      <td>6.8</td>\n",
              "      <td>118178.0</td>\n",
              "    </tr>\n",
              "    <tr>\n",
              "      <th>39209</th>\n",
              "      <td>9.0</td>\n",
              "      <td>7.0</td>\n",
              "      <td>4.0</td>\n",
              "      <td>7.3</td>\n",
              "      <td>120262.0</td>\n",
              "    </tr>\n",
              "    <tr>\n",
              "      <th>39210</th>\n",
              "      <td>9.0</td>\n",
              "      <td>7.0</td>\n",
              "      <td>5.0</td>\n",
              "      <td>7.2</td>\n",
              "      <td>165885.0</td>\n",
              "    </tr>\n",
              "    <tr>\n",
              "      <th>39212</th>\n",
              "      <td>7.0</td>\n",
              "      <td>5.0</td>\n",
              "      <td>3.0</td>\n",
              "      <td>5.4</td>\n",
              "      <td>197586.0</td>\n",
              "    </tr>\n",
              "    <tr>\n",
              "      <th>39213</th>\n",
              "      <td>7.0</td>\n",
              "      <td>5.0</td>\n",
              "      <td>3.0</td>\n",
              "      <td>5.5</td>\n",
              "      <td>156800.0</td>\n",
              "    </tr>\n",
              "    <tr>\n",
              "      <th>39214</th>\n",
              "      <td>6.0</td>\n",
              "      <td>4.5</td>\n",
              "      <td>3.0</td>\n",
              "      <td>4.8</td>\n",
              "      <td>128598.0</td>\n",
              "    </tr>\n",
              "  </tbody>\n",
              "</table>\n",
              "</div>"
            ],
            "text/plain": [
              "       Up_price  Mid_price  Low_price  Avg_price    Volume\n",
              "39204      11.0        8.0        5.0        8.9  192029.0\n",
              "39205       9.0        7.0        4.0        7.2  174270.0\n",
              "39206       8.0        6.0        3.0        6.7  125426.0\n",
              "39207      10.0        7.0        4.0        7.1  119318.0\n",
              "39208       9.0        7.0        5.0        6.8  118178.0\n",
              "39209       9.0        7.0        4.0        7.3  120262.0\n",
              "39210       9.0        7.0        5.0        7.2  165885.0\n",
              "39212       7.0        5.0        3.0        5.4  197586.0\n",
              "39213       7.0        5.0        3.0        5.5  156800.0\n",
              "39214       6.0        4.5        3.0        4.8  128598.0"
            ]
          },
          "metadata": {
            "tags": []
          },
          "execution_count": 404
        }
      ]
    },
    {
      "cell_type": "code",
      "metadata": {
        "id": "9_kZM-707Bp2"
      },
      "source": [
        "X = []\n",
        "past = 30\n",
        "for i in range(len(data_train)-past-day+1):\n",
        "  xx = []\n",
        "  for d in range(past):\n",
        "    xx.append(data_train.iloc[i+d])\n",
        "  X.append(xx)\n",
        "X = np.array(X)"
      ],
      "execution_count": 405,
      "outputs": []
    },
    {
      "cell_type": "code",
      "metadata": {
        "colab": {
          "base_uri": "https://localhost:8080/"
        },
        "id": "2aWoArgnCELM",
        "outputId": "40257540-d5f6-4732-b1b2-1fd6ae77dca7"
      },
      "source": [
        "X.shape"
      ],
      "execution_count": 406,
      "outputs": [
        {
          "output_type": "execute_result",
          "data": {
            "text/plain": [
              "(6467, 30, 5)"
            ]
          },
          "metadata": {
            "tags": []
          },
          "execution_count": 406
        }
      ]
    },
    {
      "cell_type": "code",
      "metadata": {
        "colab": {
          "base_uri": "https://localhost:8080/"
        },
        "id": "8n4wfTI56tab",
        "outputId": "49828df8-1700-47fa-f24e-41c960467663"
      },
      "source": [
        "X"
      ],
      "execution_count": 407,
      "outputs": [
        {
          "output_type": "execute_result",
          "data": {
            "text/plain": [
              "array([[[1.10000e+01, 8.00000e+00, 5.00000e+00, 8.90000e+00,\n",
              "         1.92029e+05],\n",
              "        [9.00000e+00, 7.00000e+00, 4.00000e+00, 7.20000e+00,\n",
              "         1.74270e+05],\n",
              "        [8.00000e+00, 6.00000e+00, 3.00000e+00, 6.70000e+00,\n",
              "         1.25426e+05],\n",
              "        ...,\n",
              "        [8.00000e+00, 6.00000e+00, 4.00000e+00, 6.10000e+00,\n",
              "         2.34306e+05],\n",
              "        [8.00000e+00, 6.00000e+00, 4.00000e+00, 5.60000e+00,\n",
              "         1.98057e+05],\n",
              "        [7.00000e+00, 5.00000e+00, 3.00000e+00, 5.60000e+00,\n",
              "         2.47427e+05]],\n",
              "\n",
              "       [[9.00000e+00, 7.00000e+00, 4.00000e+00, 7.20000e+00,\n",
              "         1.74270e+05],\n",
              "        [8.00000e+00, 6.00000e+00, 3.00000e+00, 6.70000e+00,\n",
              "         1.25426e+05],\n",
              "        [1.00000e+01, 7.00000e+00, 4.00000e+00, 7.10000e+00,\n",
              "         1.19318e+05],\n",
              "        ...,\n",
              "        [8.00000e+00, 6.00000e+00, 4.00000e+00, 5.60000e+00,\n",
              "         1.98057e+05],\n",
              "        [7.00000e+00, 5.00000e+00, 3.00000e+00, 5.60000e+00,\n",
              "         2.47427e+05],\n",
              "        [7.00000e+00, 5.00000e+00, 3.00000e+00, 5.60000e+00,\n",
              "         1.66169e+05]],\n",
              "\n",
              "       [[8.00000e+00, 6.00000e+00, 3.00000e+00, 6.70000e+00,\n",
              "         1.25426e+05],\n",
              "        [1.00000e+01, 7.00000e+00, 4.00000e+00, 7.10000e+00,\n",
              "         1.19318e+05],\n",
              "        [9.00000e+00, 7.00000e+00, 5.00000e+00, 6.80000e+00,\n",
              "         1.18178e+05],\n",
              "        ...,\n",
              "        [7.00000e+00, 5.00000e+00, 3.00000e+00, 5.60000e+00,\n",
              "         2.47427e+05],\n",
              "        [7.00000e+00, 5.00000e+00, 3.00000e+00, 5.60000e+00,\n",
              "         1.66169e+05],\n",
              "        [7.00000e+00, 5.00000e+00, 3.00000e+00, 5.30000e+00,\n",
              "         1.16420e+05]],\n",
              "\n",
              "       ...,\n",
              "\n",
              "       [[1.40000e+01, 1.09000e+01, 8.10000e+00, 1.10000e+01,\n",
              "         1.52277e+05],\n",
              "        [1.44000e+01, 1.06000e+01, 7.80000e+00, 1.08000e+01,\n",
              "         1.50922e+05],\n",
              "        [1.53000e+01, 1.12000e+01, 8.20000e+00, 1.14000e+01,\n",
              "         1.53924e+05],\n",
              "        ...,\n",
              "        [2.41000e+01, 1.87000e+01, 1.12000e+01, 1.83000e+01,\n",
              "         1.73418e+05],\n",
              "        [2.20000e+01, 1.52000e+01, 7.20000e+00, 1.50000e+01,\n",
              "         2.03231e+05],\n",
              "        [2.27000e+01, 1.65000e+01, 1.10000e+01, 1.66000e+01,\n",
              "         1.38080e+05]],\n",
              "\n",
              "       [[1.44000e+01, 1.06000e+01, 7.80000e+00, 1.08000e+01,\n",
              "         1.50922e+05],\n",
              "        [1.53000e+01, 1.12000e+01, 8.20000e+00, 1.14000e+01,\n",
              "         1.53924e+05],\n",
              "        [1.53000e+01, 1.13000e+01, 8.40000e+00, 1.15000e+01,\n",
              "         1.62019e+05],\n",
              "        ...,\n",
              "        [2.20000e+01, 1.52000e+01, 7.20000e+00, 1.50000e+01,\n",
              "         2.03231e+05],\n",
              "        [2.27000e+01, 1.65000e+01, 1.10000e+01, 1.66000e+01,\n",
              "         1.38080e+05],\n",
              "        [2.28000e+01, 1.81000e+01, 1.10000e+01, 1.76000e+01,\n",
              "         1.09657e+05]],\n",
              "\n",
              "       [[1.53000e+01, 1.12000e+01, 8.20000e+00, 1.14000e+01,\n",
              "         1.53924e+05],\n",
              "        [1.53000e+01, 1.13000e+01, 8.40000e+00, 1.15000e+01,\n",
              "         1.62019e+05],\n",
              "        [1.46000e+01, 1.04000e+01, 8.00000e+00, 1.08000e+01,\n",
              "         1.73546e+05],\n",
              "        ...,\n",
              "        [2.27000e+01, 1.65000e+01, 1.10000e+01, 1.66000e+01,\n",
              "         1.38080e+05],\n",
              "        [2.28000e+01, 1.81000e+01, 1.10000e+01, 1.76000e+01,\n",
              "         1.09657e+05],\n",
              "        [2.45000e+01, 1.94000e+01, 1.18000e+01, 1.89000e+01,\n",
              "         1.19038e+05]]])"
            ]
          },
          "metadata": {
            "tags": []
          },
          "execution_count": 407
        }
      ]
    },
    {
      "cell_type": "code",
      "metadata": {
        "id": "7bvTjxYj_WJp"
      },
      "source": [
        "x = X"
      ],
      "execution_count": 408,
      "outputs": []
    },
    {
      "cell_type": "code",
      "metadata": {
        "colab": {
          "base_uri": "https://localhost:8080/"
        },
        "id": "mn6EmJzA8ED9",
        "outputId": "b99d57bf-ecf2-4374-8ea0-680b4855006a"
      },
      "source": [
        "x.shape"
      ],
      "execution_count": 409,
      "outputs": [
        {
          "output_type": "execute_result",
          "data": {
            "text/plain": [
              "(6467, 30, 5)"
            ]
          },
          "metadata": {
            "tags": []
          },
          "execution_count": 409
        }
      ]
    },
    {
      "cell_type": "code",
      "metadata": {
        "id": "XhlF2y9H58Wc"
      },
      "source": [
        "y = y[past-1:-day]"
      ],
      "execution_count": 410,
      "outputs": []
    },
    {
      "cell_type": "code",
      "metadata": {
        "id": "3CM3G0RdKchY"
      },
      "source": [
        "from sklearn.model_selection import train_test_split\n",
        "x_train, x_test, y_train, y_test = train_test_split(x, y, test_size=0.33)"
      ],
      "execution_count": 411,
      "outputs": []
    },
    {
      "cell_type": "code",
      "metadata": {
        "id": "8qXXIVObKzRh"
      },
      "source": [
        "x_test.reshape(-1,feature).shape\n",
        "test_date = pd.DataFrame(x_test.reshape(-1,feature))[0]"
      ],
      "execution_count": 412,
      "outputs": []
    },
    {
      "cell_type": "code",
      "metadata": {
        "id": "HY1BEbMiPzH1"
      },
      "source": [
        "# x_train = x_train[:,1:]\n",
        "# x_test = x_test[:,1:]"
      ],
      "execution_count": 413,
      "outputs": []
    },
    {
      "cell_type": "code",
      "metadata": {
        "colab": {
          "base_uri": "https://localhost:8080/"
        },
        "id": "KSSOoRsbSdU6",
        "outputId": "b877172d-b451-4cf6-d59e-f11b3af0fdc9"
      },
      "source": [
        "x_test"
      ],
      "execution_count": 414,
      "outputs": [
        {
          "output_type": "execute_result",
          "data": {
            "text/plain": [
              "array([[[1.95000e+01, 1.37000e+01, 9.40000e+00, 1.40000e+01,\n",
              "         1.58203e+05],\n",
              "        [2.03000e+01, 1.54000e+01, 1.06000e+01, 1.54000e+01,\n",
              "         1.62024e+05],\n",
              "        [1.90000e+01, 1.32000e+01, 8.90000e+00, 1.35000e+01,\n",
              "         2.17402e+05],\n",
              "        ...,\n",
              "        [2.27000e+01, 1.85000e+01, 1.28000e+01, 1.82000e+01,\n",
              "         1.95632e+05],\n",
              "        [2.29000e+01, 1.69000e+01, 1.09000e+01, 1.69000e+01,\n",
              "         1.74369e+05],\n",
              "        [2.05000e+01, 1.54000e+01, 1.02000e+01, 1.54000e+01,\n",
              "         2.10213e+05]],\n",
              "\n",
              "       [[3.87000e+01, 2.84000e+01, 1.83000e+01, 2.84000e+01,\n",
              "         2.26480e+04],\n",
              "        [3.98000e+01, 2.84000e+01, 1.37000e+01, 2.77000e+01,\n",
              "         3.81790e+04],\n",
              "        [3.35000e+01, 2.28000e+01, 9.10000e+00, 2.22000e+01,\n",
              "         6.45100e+04],\n",
              "        ...,\n",
              "        [3.78000e+01, 3.11000e+01, 1.93000e+01, 3.01000e+01,\n",
              "         6.18870e+04],\n",
              "        [3.72000e+01, 3.03000e+01, 1.80000e+01, 2.92000e+01,\n",
              "         5.93530e+04],\n",
              "        [3.47000e+01, 3.08000e+01, 1.91000e+01, 2.92000e+01,\n",
              "         6.11030e+04]],\n",
              "\n",
              "       [[1.56000e+01, 1.02000e+01, 4.70000e+00, 1.02000e+01,\n",
              "         1.86180e+05],\n",
              "        [1.72000e+01, 1.14000e+01, 5.40000e+00, 1.14000e+01,\n",
              "         1.64167e+05],\n",
              "        [2.00000e+01, 1.54000e+01, 7.60000e+00, 1.48000e+01,\n",
              "         1.41151e+05],\n",
              "        ...,\n",
              "        [1.72000e+01, 1.30000e+01, 8.20000e+00, 1.29000e+01,\n",
              "         1.89681e+05],\n",
              "        [1.90000e+01, 1.53000e+01, 1.02000e+01, 1.50000e+01,\n",
              "         1.55619e+05],\n",
              "        [2.32000e+01, 1.85000e+01, 1.35000e+01, 1.85000e+01,\n",
              "         1.64550e+05]],\n",
              "\n",
              "       ...,\n",
              "\n",
              "       [[9.10000e+00, 7.70000e+00, 6.40000e+00, 7.70000e+00,\n",
              "         2.17963e+05],\n",
              "        [6.20000e+00, 4.70000e+00, 2.70000e+00, 4.60000e+00,\n",
              "         3.32493e+05],\n",
              "        [4.90000e+00, 3.60000e+00, 2.40000e+00, 3.60000e+00,\n",
              "         2.46011e+05],\n",
              "        ...,\n",
              "        [5.00000e+00, 3.50000e+00, 2.60000e+00, 3.60000e+00,\n",
              "         1.63159e+05],\n",
              "        [5.60000e+00, 3.90000e+00, 2.90000e+00, 4.10000e+00,\n",
              "         1.49963e+05],\n",
              "        [5.50000e+00, 3.80000e+00, 2.70000e+00, 4.00000e+00,\n",
              "         1.41803e+05]],\n",
              "\n",
              "       [[3.81000e+01, 2.50000e+01, 1.38000e+01, 2.54000e+01,\n",
              "         8.13470e+04],\n",
              "        [3.73000e+01, 2.91000e+01, 1.81000e+01, 2.86000e+01,\n",
              "         7.45100e+04],\n",
              "        [4.17000e+01, 3.42000e+01, 2.03000e+01, 3.29000e+01,\n",
              "         5.20280e+04],\n",
              "        ...,\n",
              "        [7.50000e+00, 4.80000e+00, 3.70000e+00, 5.10000e+00,\n",
              "         1.64888e+05],\n",
              "        [8.00000e+00, 5.30000e+00, 4.80000e+00, 5.70000e+00,\n",
              "         1.50807e+05],\n",
              "        [8.10000e+00, 5.10000e+00, 4.20000e+00, 5.50000e+00,\n",
              "         1.63567e+05]],\n",
              "\n",
              "       [[7.10000e+00, 4.40000e+00, 2.70000e+00, 4.60000e+00,\n",
              "         1.49302e+05],\n",
              "        [8.20000e+00, 6.40000e+00, 4.70000e+00, 6.40000e+00,\n",
              "         1.18117e+05],\n",
              "        [7.50000e+00, 5.10000e+00, 3.60000e+00, 5.30000e+00,\n",
              "         1.59826e+05],\n",
              "        ...,\n",
              "        [1.37000e+01, 9.70000e+00, 6.10000e+00, 9.80000e+00,\n",
              "         9.53340e+04],\n",
              "        [1.28000e+01, 1.05000e+01, 6.50000e+00, 1.02000e+01,\n",
              "         9.10160e+04],\n",
              "        [1.11000e+01, 9.30000e+00, 6.50000e+00, 9.10000e+00,\n",
              "         9.49800e+04]]])"
            ]
          },
          "metadata": {
            "tags": []
          },
          "execution_count": 414
        }
      ]
    },
    {
      "cell_type": "code",
      "metadata": {
        "id": "z0p2fqLHG2S8"
      },
      "source": [
        "x_shape = x_train.shape[0]\n",
        "x_train = x_train.reshape(-1,feature)"
      ],
      "execution_count": 415,
      "outputs": []
    },
    {
      "cell_type": "code",
      "metadata": {
        "colab": {
          "base_uri": "https://localhost:8080/"
        },
        "id": "Pgwyo-zMHSbO",
        "outputId": "1a863f9c-9b70-491d-c05c-5bae441f217c"
      },
      "source": [
        "x_shape"
      ],
      "execution_count": 416,
      "outputs": [
        {
          "output_type": "execute_result",
          "data": {
            "text/plain": [
              "4332"
            ]
          },
          "metadata": {
            "tags": []
          },
          "execution_count": 416
        }
      ]
    },
    {
      "cell_type": "code",
      "metadata": {
        "id": "eH8C9tL6P5nE"
      },
      "source": [
        "Xscaler = MinMaxScaler()\n",
        "Yscaler = MinMaxScaler()\n",
        "x_train = Xscaler.fit_transform(x_train)\n",
        "y_train = Yscaler.fit_transform(y_train.reshape(-1,1))"
      ],
      "execution_count": 417,
      "outputs": []
    },
    {
      "cell_type": "code",
      "metadata": {
        "colab": {
          "base_uri": "https://localhost:8080/"
        },
        "id": "-7eqPM1dHg3A",
        "outputId": "cbc3bf96-44ee-4a85-c151-5d624c81cf85"
      },
      "source": [
        "x_train.shape"
      ],
      "execution_count": 418,
      "outputs": [
        {
          "output_type": "execute_result",
          "data": {
            "text/plain": [
              "(129960, 5)"
            ]
          },
          "metadata": {
            "tags": []
          },
          "execution_count": 418
        }
      ]
    },
    {
      "cell_type": "code",
      "metadata": {
        "id": "hEfLzqLYxcc9"
      },
      "source": [
        "# splitting train and test\n",
        "# x_train = x_train.reshape((-1,1,5))\n",
        "x_train = x_train.reshape((-1,past,feature))\n",
        "x_test = x_test.reshape((-1,past,feature))"
      ],
      "execution_count": 419,
      "outputs": []
    },
    {
      "cell_type": "code",
      "metadata": {
        "id": "IWNokHwdx4Yq"
      },
      "source": [
        "# data_train = np.concatenate((data_xtrain, data_ytrain), axis=1)\n"
      ],
      "execution_count": 420,
      "outputs": []
    },
    {
      "cell_type": "code",
      "metadata": {
        "id": "VZ9XJ3hVZncf"
      },
      "source": [
        "# x_train = []\n",
        "# y_train = []\n",
        "# time_step = 60\n",
        "# for i in range(len(data_train) - time_step):\n",
        "#   x_train.append(data_train[i:(i+time_step)])\n",
        "#   y_train.append(data_train[(i+time_step)][-1])\n",
        "# x_train, y_train = np.array(x_train), np.array(y_train).reshape(-1,1)"
      ],
      "execution_count": 421,
      "outputs": []
    },
    {
      "cell_type": "code",
      "metadata": {
        "colab": {
          "base_uri": "https://localhost:8080/"
        },
        "id": "MSgBUOoxak0-",
        "outputId": "aa7c26df-3e9e-42f1-a661-11a5fbf8088a"
      },
      "source": [
        "# Building LSTM model\n",
        "from tensorflow.keras import Sequential\n",
        "from tensorflow.keras.layers import LSTM, Dense, Dropout, GRU\n",
        "layers = [\n",
        "    LSTM(units=32, return_sequences=False, input_shape=(x_train.shape[1], x_train.shape[2])),\n",
        "    # Dropout(0.2),\n",
        "    # LSTM(units=256, return_sequences=True),\n",
        "    # Dropout(0.2),\n",
        "    # LSTM(units=256, return_sequences=True),\n",
        "    # Dropout(0.2),\n",
        "    # LSTM(units=256),\n",
        "    # Dropout(0.2),\n",
        "    # Dense(units=5, activation=\"sigmoid\"),\n",
        "    Dense(units=1, activation=\"linear\")\n",
        "]\n",
        "regressor = Sequential(layers)\n",
        "regressor.summary()"
      ],
      "execution_count": 422,
      "outputs": [
        {
          "output_type": "stream",
          "text": [
            "Model: \"sequential_5\"\n",
            "_________________________________________________________________\n",
            "Layer (type)                 Output Shape              Param #   \n",
            "=================================================================\n",
            "lstm_5 (LSTM)                (None, 32)                4864      \n",
            "_________________________________________________________________\n",
            "dense_5 (Dense)              (None, 1)                 33        \n",
            "=================================================================\n",
            "Total params: 4,897\n",
            "Trainable params: 4,897\n",
            "Non-trainable params: 0\n",
            "_________________________________________________________________\n"
          ],
          "name": "stdout"
        }
      ]
    },
    {
      "cell_type": "code",
      "metadata": {
        "colab": {
          "base_uri": "https://localhost:8080/"
        },
        "id": "GVYzbTuYjvDo",
        "outputId": "e7717680-feb3-4f72-86dc-7cdd8b621e94"
      },
      "source": [
        "from tensorflow.keras.optimizers import Adam\n",
        "from tensorflow.keras.losses import MeanSquaredError\n",
        "from keras.callbacks import EarlyStopping, ModelCheckpoint\n",
        "regressor.compile(loss = \"mse\",\n",
        "         optimizer = Adam(),\n",
        "         metrics=[\"mse\"]                   \n",
        ")\n",
        "callback = [\n",
        "    EarlyStopping(patience=10, restore_best_weights=True),\n",
        "    ModelCheckpoint(\"regressor.h5\", save_best_only=True)\n",
        "]\n",
        "regressor.fit(x_train, y_train, epochs=20, batch_size=32, validation_split=0.1, callbacks=callback)\n",
        "# regressor.fit(x_train, y_train, epochs=40, batch_size=40, validation_split=0.1)"
      ],
      "execution_count": 423,
      "outputs": [
        {
          "output_type": "stream",
          "text": [
            "Epoch 1/20\n",
            "122/122 [==============================] - 4s 17ms/step - loss: 0.0101 - mse: 0.0101 - val_loss: 0.0041 - val_mse: 0.0041\n",
            "Epoch 2/20\n",
            "122/122 [==============================] - 2s 13ms/step - loss: 0.0042 - mse: 0.0042 - val_loss: 0.0033 - val_mse: 0.0033\n",
            "Epoch 3/20\n",
            "122/122 [==============================] - 2s 14ms/step - loss: 0.0039 - mse: 0.0039 - val_loss: 0.0032 - val_mse: 0.0032\n",
            "Epoch 4/20\n",
            "122/122 [==============================] - 2s 14ms/step - loss: 0.0037 - mse: 0.0037 - val_loss: 0.0032 - val_mse: 0.0032\n",
            "Epoch 5/20\n",
            "122/122 [==============================] - 2s 14ms/step - loss: 0.0036 - mse: 0.0036 - val_loss: 0.0031 - val_mse: 0.0031\n",
            "Epoch 6/20\n",
            "122/122 [==============================] - 2s 14ms/step - loss: 0.0035 - mse: 0.0035 - val_loss: 0.0033 - val_mse: 0.0033\n",
            "Epoch 7/20\n",
            "122/122 [==============================] - 2s 15ms/step - loss: 0.0036 - mse: 0.0036 - val_loss: 0.0037 - val_mse: 0.0037\n",
            "Epoch 8/20\n",
            "122/122 [==============================] - 2s 14ms/step - loss: 0.0035 - mse: 0.0035 - val_loss: 0.0031 - val_mse: 0.0031\n",
            "Epoch 9/20\n",
            "122/122 [==============================] - 2s 14ms/step - loss: 0.0035 - mse: 0.0035 - val_loss: 0.0032 - val_mse: 0.0032\n",
            "Epoch 10/20\n",
            "122/122 [==============================] - 2s 15ms/step - loss: 0.0035 - mse: 0.0035 - val_loss: 0.0032 - val_mse: 0.0032\n",
            "Epoch 11/20\n",
            "122/122 [==============================] - 2s 13ms/step - loss: 0.0035 - mse: 0.0035 - val_loss: 0.0031 - val_mse: 0.0031\n",
            "Epoch 12/20\n",
            "122/122 [==============================] - 2s 13ms/step - loss: 0.0035 - mse: 0.0035 - val_loss: 0.0034 - val_mse: 0.0034\n",
            "Epoch 13/20\n",
            "122/122 [==============================] - 2s 14ms/step - loss: 0.0035 - mse: 0.0035 - val_loss: 0.0030 - val_mse: 0.0030\n",
            "Epoch 14/20\n",
            "122/122 [==============================] - 2s 14ms/step - loss: 0.0035 - mse: 0.0035 - val_loss: 0.0030 - val_mse: 0.0030\n",
            "Epoch 15/20\n",
            "122/122 [==============================] - 2s 14ms/step - loss: 0.0034 - mse: 0.0034 - val_loss: 0.0032 - val_mse: 0.0032\n",
            "Epoch 16/20\n",
            "122/122 [==============================] - 2s 14ms/step - loss: 0.0034 - mse: 0.0034 - val_loss: 0.0032 - val_mse: 0.0032\n",
            "Epoch 17/20\n",
            "122/122 [==============================] - 2s 15ms/step - loss: 0.0035 - mse: 0.0035 - val_loss: 0.0030 - val_mse: 0.0030\n",
            "Epoch 18/20\n",
            "122/122 [==============================] - 2s 13ms/step - loss: 0.0035 - mse: 0.0035 - val_loss: 0.0030 - val_mse: 0.0030\n",
            "Epoch 19/20\n",
            "122/122 [==============================] - 2s 14ms/step - loss: 0.0035 - mse: 0.0035 - val_loss: 0.0030 - val_mse: 0.0030\n",
            "Epoch 20/20\n",
            "122/122 [==============================] - 2s 14ms/step - loss: 0.0034 - mse: 0.0034 - val_loss: 0.0030 - val_mse: 0.0030\n"
          ],
          "name": "stdout"
        },
        {
          "output_type": "execute_result",
          "data": {
            "text/plain": [
              "<tensorflow.python.keras.callbacks.History at 0x7f64827abd50>"
            ]
          },
          "metadata": {
            "tags": []
          },
          "execution_count": 423
        }
      ]
    },
    {
      "cell_type": "code",
      "metadata": {
        "id": "7xUATsN6i9u6"
      },
      "source": [
        "# plt.plot(regressor.regressor['loss'], color = 'red')\n",
        "# plt.plot(regressor.regressor['val_loss'], color = 'bule')"
      ],
      "execution_count": 424,
      "outputs": []
    },
    {
      "cell_type": "code",
      "metadata": {
        "id": "IToWdK6qlAvc"
      },
      "source": [
        "# past_60_days = data[data[\"Date\"] < \"2019-01-01\"].tail(time_step)\n",
        "# df = past_60_days.append(data_test, ignore_index = True)\n",
        "# df = df.drop([\"Date\", \"Market\", \"Product\", \"Month\", \"Week_day\", \"Year\", \"Rest_day\"], axis=1)\n",
        "# df"
      ],
      "execution_count": 425,
      "outputs": []
    },
    {
      "cell_type": "code",
      "metadata": {
        "id": "yriZTYBcl57c"
      },
      "source": [
        "# real_avg_price = np.array(df.iloc[time_step:][\"Avg_price\"]).reshape(-1,1)\n",
        "# ytest = np.array(df[\"Avg_price\"]).reshape(-1,1)\n",
        "# x_inputs = Xscaler.transform(df.drop([\"Avg_price\"], axis=1))\n",
        "# y_inputs = Yscaler.transform(ytest)"
      ],
      "execution_count": 426,
      "outputs": []
    },
    {
      "cell_type": "code",
      "metadata": {
        "id": "h_w3Cy795J43"
      },
      "source": [
        "# inputs = np.concatenate((x_inputs, y_inputs), axis=1)"
      ],
      "execution_count": 427,
      "outputs": []
    },
    {
      "cell_type": "code",
      "metadata": {
        "id": "rc3ClSFemAES",
        "colab": {
          "base_uri": "https://localhost:8080/"
        },
        "outputId": "0c91f764-58f1-4b96-beb8-371a1d84b282"
      },
      "source": [
        "# x_test = []\n",
        "# y_test = []\n",
        "# time_step = 60\n",
        "# for i in range(len(inputs) - time_step):\n",
        "#   x_test.append(inputs[i:(i+time_step)])\n",
        "#   y_test.append(inputs[(i+time_step)][-1])\n",
        "# yy = y_test\n",
        "# x_test, y_test = np.array(x_test), np.array(y_test).reshape(-1,1)\n",
        "x_test.shape"
      ],
      "execution_count": 428,
      "outputs": [
        {
          "output_type": "execute_result",
          "data": {
            "text/plain": [
              "(2135, 30, 5)"
            ]
          },
          "metadata": {
            "tags": []
          },
          "execution_count": 428
        }
      ]
    },
    {
      "cell_type": "code",
      "metadata": {
        "id": "aLoUzRqpVVmJ"
      },
      "source": [
        "x_test = Xscaler.transform(x_test.reshape(-1,feature))\n",
        "y_test = Yscaler.transform(y_test.reshape(-1,1))"
      ],
      "execution_count": 429,
      "outputs": []
    },
    {
      "cell_type": "code",
      "metadata": {
        "id": "6_MlX5bxoLC9"
      },
      "source": [
        "x_test = x_test.reshape(-1,past,feature)\n",
        "pre_price = regressor.predict(x_test)\n",
        "pre_price = pre_price.reshape(-1,1)\n",
        "pre_price = Yscaler.inverse_transform(pre_price)"
      ],
      "execution_count": 430,
      "outputs": []
    },
    {
      "cell_type": "code",
      "metadata": {
        "id": "y6zyD1Qt2M7g"
      },
      "source": [
        "y_test = Yscaler.inverse_transform(y_test)"
      ],
      "execution_count": 431,
      "outputs": []
    },
    {
      "cell_type": "code",
      "metadata": {
        "colab": {
          "base_uri": "https://localhost:8080/"
        },
        "id": "xRBYpVOGWyDH",
        "outputId": "7ad7ed32-8271-4160-bd7a-3d685b400509"
      },
      "source": [
        "# test_date = np.array(test_date).reshape(-1,1)\n",
        "# np.concatenate((y_test, pre_price), axis=1)\n",
        "# pre_price\n",
        "# y_test.reshape(-1)\n",
        "# pre_price.shape()\n",
        "test_date"
      ],
      "execution_count": 432,
      "outputs": [
        {
          "output_type": "execute_result",
          "data": {
            "text/plain": [
              "0        19.5\n",
              "1        20.3\n",
              "2        19.0\n",
              "3        20.9\n",
              "4        20.1\n",
              "         ... \n",
              "64045    11.6\n",
              "64046    10.5\n",
              "64047    13.7\n",
              "64048    12.8\n",
              "64049    11.1\n",
              "Name: 0, Length: 64050, dtype: float64"
            ]
          },
          "metadata": {
            "tags": []
          },
          "execution_count": 432
        }
      ]
    },
    {
      "cell_type": "code",
      "metadata": {
        "colab": {
          "base_uri": "https://localhost:8080/",
          "height": 404
        },
        "id": "aoj0t9rbBTu2",
        "outputId": "d8371d28-957c-4daf-e480-c6af8459856b"
      },
      "source": [
        "# Visualising the results\n",
        "plt.figure(figsize=(14,6))\n",
        "plt.plot(y_test, color = 'red', label = 'Real Cabbage Price')\n",
        "plt.plot(pre_price, color = 'blue', label = 'Predicted Cabbage Price')\n",
        "plt.title('Cabbage Price Prediction')\n",
        "plt.xlabel('Time')\n",
        "plt.ylabel('Cabbage Price')\n",
        "plt.legend()\n",
        "plt.show()"
      ],
      "execution_count": 433,
      "outputs": [
        {
          "output_type": "display_data",
          "data": {
            "image/png": "[encoded data removed]",
            "text/plain": [
              "<Figure size 1008x432 with 1 Axes>"
            ]
          },
          "metadata": {
            "tags": [],
            "needs_background": "light"
          }
        }
      ]
    },
    {
      "cell_type": "code",
      "metadata": {
        "id": "JxdNs6Go1CEc",
        "colab": {
          "base_uri": "https://localhost:8080/",
          "height": 404
        },
        "outputId": "d965bd6d-62cf-4b43-a4cb-580176bdf7b0"
      },
      "source": [
        "# Visualising the results\n",
        "plt.figure(figsize=(14,6))\n",
        "plt.plot(y_test[0:100], color = 'red', label = 'Real Cabbage Price')\n",
        "plt.plot(pre_price[0:100], color = 'blue', label = 'Predicted Cabbage Price')\n",
        "plt.title('Cabbage Price Prediction')\n",
        "plt.xlabel('Time')\n",
        "plt.ylabel('Cabbage Price')\n",
        "plt.legend()\n",
        "plt.show()"
      ],
      "execution_count": 434,
      "outputs": [
        {
          "output_type": "display_data",
          "data": {
            "image/png": "[encoded data removed]",
            "text/plain": [
              "<Figure size 1008x432 with 1 Axes>"
            ]
          },
          "metadata": {
            "tags": [],
            "needs_background": "light"
          }
        }
      ]
    },
    {
      "cell_type": "code",
      "metadata": {
        "id": "_DF6GDhW1eHj",
        "colab": {
          "base_uri": "https://localhost:8080/"
        },
        "outputId": "82188831-7654-4128-bd71-d0737452d4c1"
      },
      "source": [
        "# MSE & RMSE 計算\n",
        "# sklearn.metrics.mean_squared_error(y_true, y_pred)\n",
        "# sklearn.metrics.r2_score(y_true, y_pred)\n",
        "from sklearn.metrics import mean_squared_error, r2_score\n",
        "MSE = mean_squared_error(y_test, pre_price)\n",
        "RMSE = np.sqrt(MSE)\n",
        "R2 = r2_score(y_test, pre_price)\n",
        "print(f\"MSE value : {MSE}\", f\"\\nRMSE value : {RMSE}\", f\"\\nR2 score value : {R2}\")"
      ],
      "execution_count": 435,
      "outputs": [
        {
          "output_type": "stream",
          "text": [
            "MSE value : 15.15623979337636 \n",
            "RMSE value : 3.8931015647393994 \n",
            "R2 score value : 0.8795839814842452\n"
          ],
          "name": "stdout"
        }
      ]
    }
  ]
}