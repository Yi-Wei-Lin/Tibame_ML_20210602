{
  "nbformat": 4,
  "nbformat_minor": 0,
  "metadata": {
    "colab": {
      "name": "香蕉.ipynb",
      "provenance": [],
      "collapsed_sections": [],
      "include_colab_link": true
    },
    "kernelspec": {
      "name": "python3",
      "display_name": "Python 3"
    },
    "language_info": {
      "name": "python"
    }
  },
  "cells": [
    {
      "cell_type": "markdown",
      "metadata": {
        "id": "view-in-github",
        "colab_type": "text"
      },
      "source": [
        "<a href=\"https://colab.research.google.com/github/Yi-Wei-Lin/Tibame_ML_20210602/blob/main/%E9%A6%99%E8%95%89.ipynb\" target=\"_parent\"><img src=\"https://colab.research.google.com/assets/colab-badge.svg\" alt=\"Open In Colab\"/></a>"
      ]
    },
    {
      "cell_type": "code",
      "metadata": {
        "colab": {
          "base_uri": "https://localhost:8080/",
          "height": 541
        },
        "id": "8o3ui0RaQL6I",
        "outputId": "88e63809-91a9-42d0-8613-7f4aad53d64d"
      },
      "source": [
        "import pandas as pd\n",
        "train_df = pd.read_csv(\"test.csv\", encoding=\"utf-8\")\n",
        "# x_train.insert(loc = 8, column=\"month\",value=2)\n",
        "\n",
        "# Date 民國 to 西元\n",
        "def date_df(d):\n",
        "  d = d.split(\"/\")\n",
        "  year = str(int(d[0])+1911)\n",
        "  month = (d[1])\n",
        "  day = (d[2])\n",
        "  d = (f\"{year}-{month}-{day}\")\n",
        "  return d\n",
        "date_df = pd.DataFrame({\"Date\":train_df[\"Date\"].apply(date_df)})\n",
        "train_df.update(date_df)\n",
        "\n",
        "# Month method\n",
        "def Month(m):\n",
        "  Month_data = int(m.split(\"-\")[1])\n",
        "  return Month_data\n",
        "train_df[\"Month\"] = train_df[\"Date\"].apply(Month)\n",
        "\n",
        "# Week_day method\n",
        "def week_day(d):\n",
        "  d = d.split(\"-\")\n",
        "  year = int(d[0])\n",
        "  month = int(d[1])\n",
        "  day = int(d[2])\n",
        "  temp = pd.Timestamp(f\"{year}-{month}-{day}\")\n",
        "  week_day = temp.dayofweek + 1 #temp.dayofweek 0(禮拜一) 開始, +1是因為比較直接禮拜幾\n",
        "  return week_day\n",
        "train_df[\"Week_day\"] = train_df[\"Date\"].apply(week_day)\n",
        "train_df[\"Year\"] = train_df[\"Date\"].apply(lambda d:int(d.split(\"-\")[0]))\n",
        "\n",
        "# Rest_market\n",
        "market_df = pd.DataFrame({\"Market\":train_df[\"Market\"].apply(lambda t:t.split(\" \")[1])})\n",
        "train_df.update(market_df)\n",
        "\n",
        "# Volume chnage from str to int\n",
        "train_df[\"Volume\"] = train_df[\"Volume\"].apply(lambda x:int(x.replace(\",\",\"\")))\n",
        "\n",
        "# Up_price change from onj to float\n",
        "# train_df[\"Up_price\"] = train_df[\"Up_price\"].apply(lambda x:float(x))\n",
        "\n",
        "train_df"
      ],
      "execution_count": 211,
      "outputs": [
        {
          "output_type": "error",
          "ename": "UnicodeDecodeError",
          "evalue": "ignored",
          "traceback": [
            "\u001b[0;31m---------------------------------------------------------------------------\u001b[0m",
            "\u001b[0;31mUnicodeDecodeError\u001b[0m                        Traceback (most recent call last)",
            "\u001b[0;32m<ipython-input-211-44af7c591237>\u001b[0m in \u001b[0;36m<module>\u001b[0;34m()\u001b[0m\n\u001b[1;32m      1\u001b[0m \u001b[0;32mimport\u001b[0m \u001b[0mpandas\u001b[0m \u001b[0;32mas\u001b[0m \u001b[0mpd\u001b[0m\u001b[0;34m\u001b[0m\u001b[0;34m\u001b[0m\u001b[0m\n\u001b[0;32m----> 2\u001b[0;31m \u001b[0mtrain_df\u001b[0m \u001b[0;34m=\u001b[0m \u001b[0mpd\u001b[0m\u001b[0;34m.\u001b[0m\u001b[0mread_csv\u001b[0m\u001b[0;34m(\u001b[0m\u001b[0;34m\"test.csv\"\u001b[0m\u001b[0;34m,\u001b[0m \u001b[0mencoding\u001b[0m\u001b[0;34m=\u001b[0m\u001b[0;34m\"utf-8\"\u001b[0m\u001b[0;34m)\u001b[0m\u001b[0;34m\u001b[0m\u001b[0;34m\u001b[0m\u001b[0m\n\u001b[0m\u001b[1;32m      3\u001b[0m \u001b[0;31m# x_train.insert(loc = 8, column=\"month\",value=2)\u001b[0m\u001b[0;34m\u001b[0m\u001b[0;34m\u001b[0m\u001b[0;34m\u001b[0m\u001b[0m\n\u001b[1;32m      4\u001b[0m \u001b[0;34m\u001b[0m\u001b[0m\n\u001b[1;32m      5\u001b[0m \u001b[0;31m# Date 民國 to 西元\u001b[0m\u001b[0;34m\u001b[0m\u001b[0;34m\u001b[0m\u001b[0;34m\u001b[0m\u001b[0m\n",
            "\u001b[0;32m/usr/local/lib/python3.7/dist-packages/pandas/io/parsers.py\u001b[0m in \u001b[0;36mread_csv\u001b[0;34m(filepath_or_buffer, sep, delimiter, header, names, index_col, usecols, squeeze, prefix, mangle_dupe_cols, dtype, engine, converters, true_values, false_values, skipinitialspace, skiprows, skipfooter, nrows, na_values, keep_default_na, na_filter, verbose, skip_blank_lines, parse_dates, infer_datetime_format, keep_date_col, date_parser, dayfirst, cache_dates, iterator, chunksize, compression, thousands, decimal, lineterminator, quotechar, quoting, doublequote, escapechar, comment, encoding, dialect, error_bad_lines, warn_bad_lines, delim_whitespace, low_memory, memory_map, float_precision)\u001b[0m\n\u001b[1;32m    686\u001b[0m     )\n\u001b[1;32m    687\u001b[0m \u001b[0;34m\u001b[0m\u001b[0m\n\u001b[0;32m--> 688\u001b[0;31m     \u001b[0;32mreturn\u001b[0m \u001b[0m_read\u001b[0m\u001b[0;34m(\u001b[0m\u001b[0mfilepath_or_buffer\u001b[0m\u001b[0;34m,\u001b[0m \u001b[0mkwds\u001b[0m\u001b[0;34m)\u001b[0m\u001b[0;34m\u001b[0m\u001b[0;34m\u001b[0m\u001b[0m\n\u001b[0m\u001b[1;32m    689\u001b[0m \u001b[0;34m\u001b[0m\u001b[0m\n\u001b[1;32m    690\u001b[0m \u001b[0;34m\u001b[0m\u001b[0m\n",
            "\u001b[0;32m/usr/local/lib/python3.7/dist-packages/pandas/io/parsers.py\u001b[0m in \u001b[0;36m_read\u001b[0;34m(filepath_or_buffer, kwds)\u001b[0m\n\u001b[1;32m    452\u001b[0m \u001b[0;34m\u001b[0m\u001b[0m\n\u001b[1;32m    453\u001b[0m     \u001b[0;31m# Create the parser.\u001b[0m\u001b[0;34m\u001b[0m\u001b[0;34m\u001b[0m\u001b[0;34m\u001b[0m\u001b[0m\n\u001b[0;32m--> 454\u001b[0;31m     \u001b[0mparser\u001b[0m \u001b[0;34m=\u001b[0m \u001b[0mTextFileReader\u001b[0m\u001b[0;34m(\u001b[0m\u001b[0mfp_or_buf\u001b[0m\u001b[0;34m,\u001b[0m \u001b[0;34m**\u001b[0m\u001b[0mkwds\u001b[0m\u001b[0;34m)\u001b[0m\u001b[0;34m\u001b[0m\u001b[0;34m\u001b[0m\u001b[0m\n\u001b[0m\u001b[1;32m    455\u001b[0m \u001b[0;34m\u001b[0m\u001b[0m\n\u001b[1;32m    456\u001b[0m     \u001b[0;32mif\u001b[0m \u001b[0mchunksize\u001b[0m \u001b[0;32mor\u001b[0m \u001b[0miterator\u001b[0m\u001b[0;34m:\u001b[0m\u001b[0;34m\u001b[0m\u001b[0;34m\u001b[0m\u001b[0m\n",
            "\u001b[0;32m/usr/local/lib/python3.7/dist-packages/pandas/io/parsers.py\u001b[0m in \u001b[0;36m__init__\u001b[0;34m(self, f, engine, **kwds)\u001b[0m\n\u001b[1;32m    946\u001b[0m             \u001b[0mself\u001b[0m\u001b[0;34m.\u001b[0m\u001b[0moptions\u001b[0m\u001b[0;34m[\u001b[0m\u001b[0;34m\"has_index_names\"\u001b[0m\u001b[0;34m]\u001b[0m \u001b[0;34m=\u001b[0m \u001b[0mkwds\u001b[0m\u001b[0;34m[\u001b[0m\u001b[0;34m\"has_index_names\"\u001b[0m\u001b[0;34m]\u001b[0m\u001b[0;34m\u001b[0m\u001b[0;34m\u001b[0m\u001b[0m\n\u001b[1;32m    947\u001b[0m \u001b[0;34m\u001b[0m\u001b[0m\n\u001b[0;32m--> 948\u001b[0;31m         \u001b[0mself\u001b[0m\u001b[0;34m.\u001b[0m\u001b[0m_make_engine\u001b[0m\u001b[0;34m(\u001b[0m\u001b[0mself\u001b[0m\u001b[0;34m.\u001b[0m\u001b[0mengine\u001b[0m\u001b[0;34m)\u001b[0m\u001b[0;34m\u001b[0m\u001b[0;34m\u001b[0m\u001b[0m\n\u001b[0m\u001b[1;32m    949\u001b[0m \u001b[0;34m\u001b[0m\u001b[0m\n\u001b[1;32m    950\u001b[0m     \u001b[0;32mdef\u001b[0m \u001b[0mclose\u001b[0m\u001b[0;34m(\u001b[0m\u001b[0mself\u001b[0m\u001b[0;34m)\u001b[0m\u001b[0;34m:\u001b[0m\u001b[0;34m\u001b[0m\u001b[0;34m\u001b[0m\u001b[0m\n",
            "\u001b[0;32m/usr/local/lib/python3.7/dist-packages/pandas/io/parsers.py\u001b[0m in \u001b[0;36m_make_engine\u001b[0;34m(self, engine)\u001b[0m\n\u001b[1;32m   1178\u001b[0m     \u001b[0;32mdef\u001b[0m \u001b[0m_make_engine\u001b[0m\u001b[0;34m(\u001b[0m\u001b[0mself\u001b[0m\u001b[0;34m,\u001b[0m \u001b[0mengine\u001b[0m\u001b[0;34m=\u001b[0m\u001b[0;34m\"c\"\u001b[0m\u001b[0;34m)\u001b[0m\u001b[0;34m:\u001b[0m\u001b[0;34m\u001b[0m\u001b[0;34m\u001b[0m\u001b[0m\n\u001b[1;32m   1179\u001b[0m         \u001b[0;32mif\u001b[0m \u001b[0mengine\u001b[0m \u001b[0;34m==\u001b[0m \u001b[0;34m\"c\"\u001b[0m\u001b[0;34m:\u001b[0m\u001b[0;34m\u001b[0m\u001b[0;34m\u001b[0m\u001b[0m\n\u001b[0;32m-> 1180\u001b[0;31m             \u001b[0mself\u001b[0m\u001b[0;34m.\u001b[0m\u001b[0m_engine\u001b[0m \u001b[0;34m=\u001b[0m \u001b[0mCParserWrapper\u001b[0m\u001b[0;34m(\u001b[0m\u001b[0mself\u001b[0m\u001b[0;34m.\u001b[0m\u001b[0mf\u001b[0m\u001b[0;34m,\u001b[0m \u001b[0;34m**\u001b[0m\u001b[0mself\u001b[0m\u001b[0;34m.\u001b[0m\u001b[0moptions\u001b[0m\u001b[0;34m)\u001b[0m\u001b[0;34m\u001b[0m\u001b[0;34m\u001b[0m\u001b[0m\n\u001b[0m\u001b[1;32m   1181\u001b[0m         \u001b[0;32melse\u001b[0m\u001b[0;34m:\u001b[0m\u001b[0;34m\u001b[0m\u001b[0;34m\u001b[0m\u001b[0m\n\u001b[1;32m   1182\u001b[0m             \u001b[0;32mif\u001b[0m \u001b[0mengine\u001b[0m \u001b[0;34m==\u001b[0m \u001b[0;34m\"python\"\u001b[0m\u001b[0;34m:\u001b[0m\u001b[0;34m\u001b[0m\u001b[0;34m\u001b[0m\u001b[0m\n",
            "\u001b[0;32m/usr/local/lib/python3.7/dist-packages/pandas/io/parsers.py\u001b[0m in \u001b[0;36m__init__\u001b[0;34m(self, src, **kwds)\u001b[0m\n\u001b[1;32m   2008\u001b[0m         \u001b[0mkwds\u001b[0m\u001b[0;34m[\u001b[0m\u001b[0;34m\"usecols\"\u001b[0m\u001b[0;34m]\u001b[0m \u001b[0;34m=\u001b[0m \u001b[0mself\u001b[0m\u001b[0;34m.\u001b[0m\u001b[0musecols\u001b[0m\u001b[0;34m\u001b[0m\u001b[0;34m\u001b[0m\u001b[0m\n\u001b[1;32m   2009\u001b[0m \u001b[0;34m\u001b[0m\u001b[0m\n\u001b[0;32m-> 2010\u001b[0;31m         \u001b[0mself\u001b[0m\u001b[0;34m.\u001b[0m\u001b[0m_reader\u001b[0m \u001b[0;34m=\u001b[0m \u001b[0mparsers\u001b[0m\u001b[0;34m.\u001b[0m\u001b[0mTextReader\u001b[0m\u001b[0;34m(\u001b[0m\u001b[0msrc\u001b[0m\u001b[0;34m,\u001b[0m \u001b[0;34m**\u001b[0m\u001b[0mkwds\u001b[0m\u001b[0;34m)\u001b[0m\u001b[0;34m\u001b[0m\u001b[0;34m\u001b[0m\u001b[0m\n\u001b[0m\u001b[1;32m   2011\u001b[0m         \u001b[0mself\u001b[0m\u001b[0;34m.\u001b[0m\u001b[0munnamed_cols\u001b[0m \u001b[0;34m=\u001b[0m \u001b[0mself\u001b[0m\u001b[0;34m.\u001b[0m\u001b[0m_reader\u001b[0m\u001b[0;34m.\u001b[0m\u001b[0munnamed_cols\u001b[0m\u001b[0;34m\u001b[0m\u001b[0;34m\u001b[0m\u001b[0m\n\u001b[1;32m   2012\u001b[0m \u001b[0;34m\u001b[0m\u001b[0m\n",
            "\u001b[0;32mpandas/_libs/parsers.pyx\u001b[0m in \u001b[0;36mpandas._libs.parsers.TextReader.__cinit__\u001b[0;34m()\u001b[0m\n",
            "\u001b[0;32mpandas/_libs/parsers.pyx\u001b[0m in \u001b[0;36mpandas._libs.parsers.TextReader._get_header\u001b[0;34m()\u001b[0m\n",
            "\u001b[0;32mpandas/_libs/parsers.pyx\u001b[0m in \u001b[0;36mpandas._libs.parsers.TextReader._tokenize_rows\u001b[0;34m()\u001b[0m\n",
            "\u001b[0;32mpandas/_libs/parsers.pyx\u001b[0m in \u001b[0;36mpandas._libs.parsers.raise_parser_error\u001b[0;34m()\u001b[0m\n",
            "\u001b[0;31mUnicodeDecodeError\u001b[0m: 'utf-8' codec can't decode byte 0xa5 in position 81: invalid start byte"
          ]
        }
      ]
    },
    {
      "cell_type": "code",
      "metadata": {
        "colab": {
          "base_uri": "https://localhost:8080/"
        },
        "id": "Z917mGlQRY-b",
        "outputId": "9cd0e196-9127-4502-f5f6-b6d87b21aeb3"
      },
      "source": [
        "train_df[\"Date\"] = pd.to_datetime(train_df[\"Date\"])\n",
        "train_df[\"Date\"]"
      ],
      "execution_count": 205,
      "outputs": [
        {
          "output_type": "execute_result",
          "data": {
            "text/plain": [
              "0       2001-01-01\n",
              "1       2001-01-02\n",
              "2       2001-01-03\n",
              "3       2001-01-05\n",
              "4       2001-01-06\n",
              "           ...    \n",
              "56452   2021-06-12\n",
              "56453   2021-06-13\n",
              "56454   2021-06-14\n",
              "56455   2021-06-17\n",
              "56456   2021-06-19\n",
              "Name: Date, Length: 56457, dtype: datetime64[ns]"
            ]
          },
          "metadata": {
            "tags": []
          },
          "execution_count": 205
        }
      ]
    },
    {
      "cell_type": "code",
      "metadata": {
        "colab": {
          "base_uri": "https://localhost:8080/"
        },
        "id": "JDX_tMahTEKc",
        "outputId": "46204ceb-7467-40e5-d136-2e0eb332bd63"
      },
      "source": [
        "train_df\n",
        "train_df.dtypes"
      ],
      "execution_count": 206,
      "outputs": [
        {
          "output_type": "execute_result",
          "data": {
            "text/plain": [
              "Date         datetime64[ns]\n",
              "Market               object\n",
              "Product              object\n",
              "Up_price             object\n",
              "Mid_price           float64\n",
              "Low_price           float64\n",
              "Avg_price           float64\n",
              "Volume                int64\n",
              "Month                 int64\n",
              "Week_day              int64\n",
              "Year                  int64\n",
              "dtype: object"
            ]
          },
          "metadata": {
            "tags": []
          },
          "execution_count": 206
        }
      ]
    },
    {
      "cell_type": "code",
      "metadata": {
        "colab": {
          "base_uri": "https://localhost:8080/",
          "height": 644
        },
        "id": "gkqLBR1Gjj-a",
        "outputId": "e5b349f3-1182-4f1f-cc5e-eef753c80a31"
      },
      "source": [
        "a = train_df[\"Market\"] == \"台北二\"\n",
        "t_index = pd.date_range(train_df[a][\"Date\"][0], '2021-06-19', freq='D') #start_time by 市場別\n",
        "T_df = pd.DataFrame(t_index, columns=['Date'])\n",
        "m = train_df[a].merge(T_df, how=\"right\",sort=True)\n",
        "most = m.value_counts().idxmax()\n",
        "m[\"Market\"]=m[\"Market\"].fillna(most[1])\n",
        "m[\"Product\"]=m[\"Product\"].fillna(most[2])\n",
        "\n",
        "na = m[\"Volume\"].isna()\n",
        "m[\"Month\"] = m[\"Date\"].apply(lambda x:int(str(x).split(\"-\")[1]))\n",
        "m[\"Week_day\"] = m[\"Date\"].apply(lambda x:pd.Timestamp(str(x).split()[0]).dayofweek+1)\n",
        "m[\"Year\"] = m[\"Date\"].apply(lambda x:int(str(x).split(\"-\")[0]))\n",
        "import math\n",
        "def restday(s):\n",
        "  if s > 0:\n",
        "    return 0\n",
        "  else:\n",
        "    return 1\n",
        "m[\"Rest_day\"] = m[\"Volume\"].apply(restday)\n",
        "print(m.dtypes)\n",
        "m"
      ],
      "execution_count": 207,
      "outputs": [
        {
          "output_type": "stream",
          "text": [
            "Date         datetime64[ns]\n",
            "Market               object\n",
            "Product              object\n",
            "Up_price             object\n",
            "Mid_price           float64\n",
            "Low_price           float64\n",
            "Avg_price           float64\n",
            "Volume              float64\n",
            "Month                 int64\n",
            "Week_day              int64\n",
            "Year                  int64\n",
            "Rest_day              int64\n",
            "dtype: object\n"
          ],
          "name": "stdout"
        },
        {
          "output_type": "execute_result",
          "data": {
            "text/html": [
              "<div>\n",
              "<style scoped>\n",
              "    .dataframe tbody tr th:only-of-type {\n",
              "        vertical-align: middle;\n",
              "    }\n",
              "\n",
              "    .dataframe tbody tr th {\n",
              "        vertical-align: top;\n",
              "    }\n",
              "\n",
              "    .dataframe thead th {\n",
              "        text-align: right;\n",
              "    }\n",
              "</style>\n",
              "<table border=\"1\" class=\"dataframe\">\n",
              "  <thead>\n",
              "    <tr style=\"text-align: right;\">\n",
              "      <th></th>\n",
              "      <th>Date</th>\n",
              "      <th>Market</th>\n",
              "      <th>Product</th>\n",
              "      <th>Up_price</th>\n",
              "      <th>Mid_price</th>\n",
              "      <th>Low_price</th>\n",
              "      <th>Avg_price</th>\n",
              "      <th>Volume</th>\n",
              "      <th>Month</th>\n",
              "      <th>Week_day</th>\n",
              "      <th>Year</th>\n",
              "      <th>Rest_day</th>\n",
              "    </tr>\n",
              "  </thead>\n",
              "  <tbody>\n",
              "    <tr>\n",
              "      <th>0</th>\n",
              "      <td>2001-01-01</td>\n",
              "      <td>台北二</td>\n",
              "      <td>A1 香蕉</td>\n",
              "      <td>35</td>\n",
              "      <td>30.0</td>\n",
              "      <td>26.7</td>\n",
              "      <td>30.4</td>\n",
              "      <td>2679.0</td>\n",
              "      <td>1</td>\n",
              "      <td>1</td>\n",
              "      <td>2001</td>\n",
              "      <td>0</td>\n",
              "    </tr>\n",
              "    <tr>\n",
              "      <th>1</th>\n",
              "      <td>2001-01-02</td>\n",
              "      <td>台北二</td>\n",
              "      <td>A1 香蕉</td>\n",
              "      <td>32.9</td>\n",
              "      <td>25.5</td>\n",
              "      <td>22.0</td>\n",
              "      <td>26.3</td>\n",
              "      <td>4589.0</td>\n",
              "      <td>1</td>\n",
              "      <td>2</td>\n",
              "      <td>2001</td>\n",
              "      <td>0</td>\n",
              "    </tr>\n",
              "    <tr>\n",
              "      <th>2</th>\n",
              "      <td>2001-01-03</td>\n",
              "      <td>台北二</td>\n",
              "      <td>A1 香蕉</td>\n",
              "      <td>32.7</td>\n",
              "      <td>26.4</td>\n",
              "      <td>22.0</td>\n",
              "      <td>26.8</td>\n",
              "      <td>5437.0</td>\n",
              "      <td>1</td>\n",
              "      <td>3</td>\n",
              "      <td>2001</td>\n",
              "      <td>0</td>\n",
              "    </tr>\n",
              "    <tr>\n",
              "      <th>3</th>\n",
              "      <td>2001-01-04</td>\n",
              "      <td>台北二</td>\n",
              "      <td>A1 香蕉</td>\n",
              "      <td>NaN</td>\n",
              "      <td>NaN</td>\n",
              "      <td>NaN</td>\n",
              "      <td>NaN</td>\n",
              "      <td>NaN</td>\n",
              "      <td>1</td>\n",
              "      <td>4</td>\n",
              "      <td>2001</td>\n",
              "      <td>1</td>\n",
              "    </tr>\n",
              "    <tr>\n",
              "      <th>4</th>\n",
              "      <td>2001-01-05</td>\n",
              "      <td>台北二</td>\n",
              "      <td>A1 香蕉</td>\n",
              "      <td>32.5</td>\n",
              "      <td>24.6</td>\n",
              "      <td>19.7</td>\n",
              "      <td>25.2</td>\n",
              "      <td>7835.0</td>\n",
              "      <td>1</td>\n",
              "      <td>5</td>\n",
              "      <td>2001</td>\n",
              "      <td>0</td>\n",
              "    </tr>\n",
              "    <tr>\n",
              "      <th>...</th>\n",
              "      <td>...</td>\n",
              "      <td>...</td>\n",
              "      <td>...</td>\n",
              "      <td>...</td>\n",
              "      <td>...</td>\n",
              "      <td>...</td>\n",
              "      <td>...</td>\n",
              "      <td>...</td>\n",
              "      <td>...</td>\n",
              "      <td>...</td>\n",
              "      <td>...</td>\n",
              "      <td>...</td>\n",
              "    </tr>\n",
              "    <tr>\n",
              "      <th>7470</th>\n",
              "      <td>2021-06-15</td>\n",
              "      <td>台北二</td>\n",
              "      <td>A1 香蕉</td>\n",
              "      <td>NaN</td>\n",
              "      <td>NaN</td>\n",
              "      <td>NaN</td>\n",
              "      <td>NaN</td>\n",
              "      <td>NaN</td>\n",
              "      <td>6</td>\n",
              "      <td>2</td>\n",
              "      <td>2021</td>\n",
              "      <td>1</td>\n",
              "    </tr>\n",
              "    <tr>\n",
              "      <th>7471</th>\n",
              "      <td>2021-06-16</td>\n",
              "      <td>台北二</td>\n",
              "      <td>A1 香蕉</td>\n",
              "      <td>NaN</td>\n",
              "      <td>NaN</td>\n",
              "      <td>NaN</td>\n",
              "      <td>NaN</td>\n",
              "      <td>NaN</td>\n",
              "      <td>6</td>\n",
              "      <td>3</td>\n",
              "      <td>2021</td>\n",
              "      <td>1</td>\n",
              "    </tr>\n",
              "    <tr>\n",
              "      <th>7472</th>\n",
              "      <td>2021-06-17</td>\n",
              "      <td>台北二</td>\n",
              "      <td>A1 香蕉</td>\n",
              "      <td>36.8</td>\n",
              "      <td>28.7</td>\n",
              "      <td>20.5</td>\n",
              "      <td>28.6</td>\n",
              "      <td>10080.0</td>\n",
              "      <td>6</td>\n",
              "      <td>4</td>\n",
              "      <td>2021</td>\n",
              "      <td>0</td>\n",
              "    </tr>\n",
              "    <tr>\n",
              "      <th>7473</th>\n",
              "      <td>2021-06-18</td>\n",
              "      <td>台北二</td>\n",
              "      <td>A1 香蕉</td>\n",
              "      <td>39.1</td>\n",
              "      <td>28.5</td>\n",
              "      <td>17.0</td>\n",
              "      <td>28.3</td>\n",
              "      <td>8045.0</td>\n",
              "      <td>6</td>\n",
              "      <td>5</td>\n",
              "      <td>2021</td>\n",
              "      <td>0</td>\n",
              "    </tr>\n",
              "    <tr>\n",
              "      <th>7474</th>\n",
              "      <td>2021-06-19</td>\n",
              "      <td>台北二</td>\n",
              "      <td>A1 香蕉</td>\n",
              "      <td>35</td>\n",
              "      <td>25.0</td>\n",
              "      <td>13.6</td>\n",
              "      <td>24.7</td>\n",
              "      <td>13763.0</td>\n",
              "      <td>6</td>\n",
              "      <td>6</td>\n",
              "      <td>2021</td>\n",
              "      <td>0</td>\n",
              "    </tr>\n",
              "  </tbody>\n",
              "</table>\n",
              "<p>7475 rows × 12 columns</p>\n",
              "</div>"
            ],
            "text/plain": [
              "           Date Market  Product Up_price  ...  Month  Week_day  Year  Rest_day\n",
              "0    2001-01-01    台北二  A1 香蕉         35  ...      1         1  2001         0\n",
              "1    2001-01-02    台北二  A1 香蕉       32.9  ...      1         2  2001         0\n",
              "2    2001-01-03    台北二  A1 香蕉       32.7  ...      1         3  2001         0\n",
              "3    2001-01-04    台北二  A1 香蕉        NaN  ...      1         4  2001         1\n",
              "4    2001-01-05    台北二  A1 香蕉       32.5  ...      1         5  2001         0\n",
              "...         ...    ...      ...      ...  ...    ...       ...   ...       ...\n",
              "7470 2021-06-15    台北二  A1 香蕉        NaN  ...      6         2  2021         1\n",
              "7471 2021-06-16    台北二  A1 香蕉        NaN  ...      6         3  2021         1\n",
              "7472 2021-06-17    台北二  A1 香蕉       36.8  ...      6         4  2021         0\n",
              "7473 2021-06-18    台北二  A1 香蕉       39.1  ...      6         5  2021         0\n",
              "7474 2021-06-19    台北二  A1 香蕉         35  ...      6         6  2021         0\n",
              "\n",
              "[7475 rows x 12 columns]"
            ]
          },
          "metadata": {
            "tags": []
          },
          "execution_count": 207
        }
      ]
    },
    {
      "cell_type": "code",
      "metadata": {
        "id": "yKmy-M0IUNW4"
      },
      "source": [
        "老師不好意思, 想詢問一下專題上遇到的問題, 第一張圖是專題大概的簡介(農產品價格預測), 第二章圖是目前遇到的困難, \n",
        "由於目前 input data 有很多批發市場(~13個左右), 每個市場都有不同的價格, 之前聽宇春老師的意思好像可以全部 data\n",
        "都丟進去 model 裡面 training, 可是每種批發價格都不一樣, 這樣預測的價格不會有問題嗎, 還是我有 13 個批發市場\n",
        "我可以 output 13個批發市場的預測價格呢??, 我有點不太懂, 所以想詢問一下你的建議, 感謝.\n",
        "另外想問一下 13個批發市場每天不一定都有開市, 有些市場與其他市場休市時間不一樣, 假設110/06/06 有13個開市13個價格\n",
        "跟 110/06/07 有10個開市10個價格, 這樣 input data 會不會有問題, 是否要補齊其他3個休市的缺失值呢??\n",
        "然後氣候特徵工程的補缺失值得部分, 像是我有一些氣象資料有缺可能某些縣市會缺很多 data, 這種是要靠鄰近的縣市補強, 還是就直接省去呢??"
      ],
      "execution_count": null,
      "outputs": []
    }
  ]
}